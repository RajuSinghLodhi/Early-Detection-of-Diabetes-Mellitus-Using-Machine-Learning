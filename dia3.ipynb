{
 "cells": [
  {
   "cell_type": "markdown",
   "id": "1c169bff",
   "metadata": {},
   "source": [
    "# Diabetes Prediction"
   ]
  },
  {
   "cell_type": "markdown",
   "id": "0ee8c6e0",
   "metadata": {},
 
  },
  {
   "cell_type": "code",
   "execution_count": 2,
   "id": "3ac5bcf0",
   "metadata": {},
   "outputs": [],
   "source": [
    "import numpy as np\n",
    "import pandas as pd\n",
    "from matplotlib import pyplot as plt\n",
    "%matplotlib inline\n",
    "import seaborn as sn"
   ]
  },
  {
   "cell_type": "code",
   "execution_count": 3,
   "id": "b27e07c6",
   "metadata": {},
   "outputs": [],
   "source": [
    "df = pd.read_csv('DiabetesRegistry.csv')"
   ]
  },
  {
   "cell_type": "code",
   "execution_count": 4,
   "id": "fec87a70",
   "metadata": {},
   "outputs": [
    {
     "data": {
      "text/plain": [
       "(390, 20)"
      ]
     },
     "execution_count": 4,
     "metadata": {},
     "output_type": "execute_result"
    }
   ],
   "source": [
    "df.shape"
   ]
  },
  {
   "cell_type": "code",
   "execution_count": 5,
   "id": "8d1eddb2",
   "metadata": {
    "scrolled": true
   },
   "outputs": [
    {
     "data": {
      "text/html": [
       "<div>\n",
       "<style scoped>\n",
       "    .dataframe tbody tr th:only-of-type {\n",
       "        vertical-align: middle;\n",
       "    }\n",
       "\n",
       "    .dataframe tbody tr th {\n",
       "        vertical-align: top;\n",
       "    }\n",
       "\n",
       "    .dataframe thead th {\n",
       "        text-align: right;\n",
       "    }\n",
       "</style>\n",
       "<table border=\"1\" class=\"dataframe\">\n",
       "  <thead>\n",
       "    <tr style=\"text-align: right;\">\n",
       "      <th></th>\n",
       "      <th>id</th>\n",
       "      <th>chol</th>\n",
       "      <th>stab.glu</th>\n",
       "      <th>hdl</th>\n",
       "      <th>ratio</th>\n",
       "      <th>glyhb</th>\n",
       "      <th>Location</th>\n",
       "      <th>Age</th>\n",
       "      <th>Gender</th>\n",
       "      <th>Height</th>\n",
       "      <th>Weight 1</th>\n",
       "      <th>Weight 2</th>\n",
       "      <th>frame</th>\n",
       "      <th>bp.1s</th>\n",
       "      <th>bp.1d</th>\n",
       "      <th>bp.2s</th>\n",
       "      <th>bp.2d</th>\n",
       "      <th>waist</th>\n",
       "      <th>hip</th>\n",
       "      <th>time.ppn</th>\n",
       "    </tr>\n",
       "  </thead>\n",
       "  <tbody>\n",
       "    <tr>\n",
       "      <th>0</th>\n",
       "      <td>1000</td>\n",
       "      <td>203.0</td>\n",
       "      <td>82</td>\n",
       "      <td>56.0</td>\n",
       "      <td>3.6</td>\n",
       "      <td>4.31</td>\n",
       "      <td>Buckingham</td>\n",
       "      <td>46</td>\n",
       "      <td>female</td>\n",
       "      <td>62.0</td>\n",
       "      <td>121</td>\n",
       "      <td>119</td>\n",
       "      <td>medium</td>\n",
       "      <td>118.0</td>\n",
       "      <td>59.0</td>\n",
       "      <td>NaN</td>\n",
       "      <td>NaN</td>\n",
       "      <td>29.0</td>\n",
       "      <td>38.0</td>\n",
       "      <td>720.0</td>\n",
       "    </tr>\n",
       "    <tr>\n",
       "      <th>1</th>\n",
       "      <td>1001</td>\n",
       "      <td>165.0</td>\n",
       "      <td>97</td>\n",
       "      <td>24.0</td>\n",
       "      <td>6.9</td>\n",
       "      <td>4.44</td>\n",
       "      <td>Buckingham</td>\n",
       "      <td>29</td>\n",
       "      <td>female</td>\n",
       "      <td>64.0</td>\n",
       "      <td>218</td>\n",
       "      <td>218</td>\n",
       "      <td>large</td>\n",
       "      <td>112.0</td>\n",
       "      <td>68.0</td>\n",
       "      <td>NaN</td>\n",
       "      <td>NaN</td>\n",
       "      <td>46.0</td>\n",
       "      <td>48.0</td>\n",
       "      <td>360.0</td>\n",
       "    </tr>\n",
       "    <tr>\n",
       "      <th>2</th>\n",
       "      <td>1002</td>\n",
       "      <td>228.0</td>\n",
       "      <td>92</td>\n",
       "      <td>37.0</td>\n",
       "      <td>6.2</td>\n",
       "      <td>4.64</td>\n",
       "      <td>Buckingham</td>\n",
       "      <td>58</td>\n",
       "      <td>female</td>\n",
       "      <td>61.0</td>\n",
       "      <td>256</td>\n",
       "      <td>243</td>\n",
       "      <td>large</td>\n",
       "      <td>190.0</td>\n",
       "      <td>92.0</td>\n",
       "      <td>185.0</td>\n",
       "      <td>92.0</td>\n",
       "      <td>49.0</td>\n",
       "      <td>57.0</td>\n",
       "      <td>180.0</td>\n",
       "    </tr>\n",
       "    <tr>\n",
       "      <th>3</th>\n",
       "      <td>1003</td>\n",
       "      <td>78.0</td>\n",
       "      <td>93</td>\n",
       "      <td>12.0</td>\n",
       "      <td>6.5</td>\n",
       "      <td>4.63</td>\n",
       "      <td>Buckingham</td>\n",
       "      <td>67</td>\n",
       "      <td>male</td>\n",
       "      <td>67.0</td>\n",
       "      <td>119</td>\n",
       "      <td>121</td>\n",
       "      <td>large</td>\n",
       "      <td>110.0</td>\n",
       "      <td>50.0</td>\n",
       "      <td>NaN</td>\n",
       "      <td>NaN</td>\n",
       "      <td>33.0</td>\n",
       "      <td>38.0</td>\n",
       "      <td>480.0</td>\n",
       "    </tr>\n",
       "    <tr>\n",
       "      <th>4</th>\n",
       "      <td>1005</td>\n",
       "      <td>249.0</td>\n",
       "      <td>90</td>\n",
       "      <td>28.0</td>\n",
       "      <td>8.9</td>\n",
       "      <td>7.72</td>\n",
       "      <td>Buckingham</td>\n",
       "      <td>64</td>\n",
       "      <td>male</td>\n",
       "      <td>68.0</td>\n",
       "      <td>183</td>\n",
       "      <td>179</td>\n",
       "      <td>medium</td>\n",
       "      <td>138.0</td>\n",
       "      <td>80.0</td>\n",
       "      <td>NaN</td>\n",
       "      <td>NaN</td>\n",
       "      <td>44.0</td>\n",
       "      <td>41.0</td>\n",
       "      <td>300.0</td>\n",
       "    </tr>\n",
       "  </tbody>\n",
       "</table>\n",
       "</div>"
      ],
      "text/plain": [
       "     id   chol  stab.glu   hdl  ratio  glyhb    Location  Age  Gender  Height  \\\n",
       "0  1000  203.0        82  56.0    3.6   4.31  Buckingham   46  female    62.0   \n",
       "1  1001  165.0        97  24.0    6.9   4.44  Buckingham   29  female    64.0   \n",
       "2  1002  228.0        92  37.0    6.2   4.64  Buckingham   58  female    61.0   \n",
       "3  1003   78.0        93  12.0    6.5   4.63  Buckingham   67    male    67.0   \n",
       "4  1005  249.0        90  28.0    8.9   7.72  Buckingham   64    male    68.0   \n",
       "\n",
       "   Weight 1  Weight 2   frame  bp.1s  bp.1d  bp.2s  bp.2d  waist   hip  \\\n",
       "0       121       119  medium  118.0   59.0    NaN    NaN   29.0  38.0   \n",
       "1       218       218   large  112.0   68.0    NaN    NaN   46.0  48.0   \n",
       "2       256       243   large  190.0   92.0  185.0   92.0   49.0  57.0   \n",
       "3       119       121   large  110.0   50.0    NaN    NaN   33.0  38.0   \n",
       "4       183       179  medium  138.0   80.0    NaN    NaN   44.0  41.0   \n",
       "\n",
       "   time.ppn  \n",
       "0     720.0  \n",
       "1     360.0  \n",
       "2     180.0  \n",
       "3     480.0  \n",
       "4     300.0  "
      ]
     },
     "execution_count": 5,
     "metadata": {},
     "output_type": "execute_result"
    }
   ],
   "source": [
    "df.head()"
   ]
  },
  {
   "cell_type": "markdown",
   "id": "2c9fb56e",
   "metadata": {},
   "source": [
    "**Filling missing blood pressure data and averageing the blood pressure values**"
   ]
  },
  {
   "cell_type": "code",
   "execution_count": 6,
   "id": "d3d86714",
   "metadata": {},
   "outputs": [],
   "source": [
    "df['bp.2s'].fillna(df['bp.1s'],inplace=True)\n",
    "df['bp.2d'].fillna(df['bp.1d'],inplace=True)"
   ]
  },
  {
   "cell_type": "code",
   "execution_count": 7,
   "id": "728a25c3",
   "metadata": {},
   "outputs": [],
   "source": [
    "systolicBP = (df['bp.1s']+df['bp.2s'])//2\n",
    "diastolicBP = (df['bp.1d']+df['bp.2d'])//2"
   ]
  },
  {
   "cell_type": "markdown",
   "id": "b3bd7c0f",
   "metadata": {},
   "source": [
    "**Calculating BMI**"
   ]
  },
  {
   "cell_type": "code",
   "execution_count": 8,
   "id": "02cbc41f",
   "metadata": {},
   "outputs": [],
   "source": [
    "weight = (df['Weight 1']+df['Weight 2'])/2\n",
    "weightKG = weight *  0.45359237\n",
    "heightMeter = df['Height']*0.0254\n",
    "BMI = weightKG/(heightMeter**2)"
   ]
  },
  {
   "cell_type": "markdown",
   "id": "7a2b0c36",
   "metadata": {},
   "source": [
    "**Adding blood pressure and BMI columns to our Data Frame**"
   ]
  },
  {
   "cell_type": "code",
   "execution_count": 9,
   "id": "c02f3d7b",
   "metadata": {},
   "outputs": [],
   "source": [
    "BP = pd.concat([systolicBP,diastolicBP,BMI],axis='columns',keys=['systolicBP','diastolicBP','BMI'])\n",
    "df = pd.concat([df,BP],axis='columns')\n",
    "df.drop(['bp.1s','bp.2s','bp.1d','bp.2d','Height','Weight 1','Weight 2'],axis='columns',inplace=True)"
   ]
  },
  {
   "cell_type": "markdown",
   "id": "fc3da8ec",
   "metadata": {},
   "source": [
    "**Calculating Waist to Hip ratio**"
   ]
  },
  {
   "cell_type": "code",
   "execution_count": 10,
   "id": "18605972",
   "metadata": {},
   "outputs": [],
   "source": [
    "W2Hratio = np.array(df['waist'])/np.array(df['hip'])\n",
    "W2Hratio = pd.DataFrame(W2Hratio,columns=['W/H_ratio'])\n",
    "df = pd.concat([df,W2Hratio],axis='columns')\n",
    "df.drop(['waist','hip'],axis = 'columns',inplace=True)"
   ]
  },
  {
   "cell_type": "code",
   "execution_count": 11,
   "id": "3d99a8d6",
   "metadata": {},
   "outputs": [
    {
     "data": {
      "text/html": [
       "<div>\n",
       "<style scoped>\n",
       "    .dataframe tbody tr th:only-of-type {\n",
       "        vertical-align: middle;\n",
       "    }\n",
       "\n",
       "    .dataframe tbody tr th {\n",
       "        vertical-align: top;\n",
       "    }\n",
       "\n",
       "    .dataframe thead th {\n",
       "        text-align: right;\n",
       "    }\n",
       "</style>\n",
       "<table border=\"1\" class=\"dataframe\">\n",
       "  <thead>\n",
       "    <tr style=\"text-align: right;\">\n",
       "      <th></th>\n",
       "      <th>id</th>\n",
       "      <th>chol</th>\n",
       "      <th>stab.glu</th>\n",
       "      <th>hdl</th>\n",
       "      <th>ratio</th>\n",
       "      <th>glyhb</th>\n",
       "      <th>Location</th>\n",
       "      <th>Age</th>\n",
       "      <th>Gender</th>\n",
       "      <th>frame</th>\n",
       "      <th>time.ppn</th>\n",
       "      <th>systolicBP</th>\n",
       "      <th>diastolicBP</th>\n",
       "      <th>BMI</th>\n",
       "      <th>W/H_ratio</th>\n",
       "    </tr>\n",
       "  </thead>\n",
       "  <tbody>\n",
       "    <tr>\n",
       "      <th>0</th>\n",
       "      <td>1000</td>\n",
       "      <td>203.0</td>\n",
       "      <td>82</td>\n",
       "      <td>56.0</td>\n",
       "      <td>3.6</td>\n",
       "      <td>4.31</td>\n",
       "      <td>Buckingham</td>\n",
       "      <td>46</td>\n",
       "      <td>female</td>\n",
       "      <td>medium</td>\n",
       "      <td>720.0</td>\n",
       "      <td>118.0</td>\n",
       "      <td>59.0</td>\n",
       "      <td>21.948062</td>\n",
       "      <td>0.763158</td>\n",
       "    </tr>\n",
       "    <tr>\n",
       "      <th>1</th>\n",
       "      <td>1001</td>\n",
       "      <td>165.0</td>\n",
       "      <td>97</td>\n",
       "      <td>24.0</td>\n",
       "      <td>6.9</td>\n",
       "      <td>4.44</td>\n",
       "      <td>Buckingham</td>\n",
       "      <td>29</td>\n",
       "      <td>female</td>\n",
       "      <td>large</td>\n",
       "      <td>360.0</td>\n",
       "      <td>112.0</td>\n",
       "      <td>68.0</td>\n",
       "      <td>37.419231</td>\n",
       "      <td>0.958333</td>\n",
       "    </tr>\n",
       "    <tr>\n",
       "      <th>2</th>\n",
       "      <td>1002</td>\n",
       "      <td>228.0</td>\n",
       "      <td>92</td>\n",
       "      <td>37.0</td>\n",
       "      <td>6.2</td>\n",
       "      <td>4.64</td>\n",
       "      <td>Buckingham</td>\n",
       "      <td>58</td>\n",
       "      <td>female</td>\n",
       "      <td>large</td>\n",
       "      <td>180.0</td>\n",
       "      <td>187.0</td>\n",
       "      <td>92.0</td>\n",
       "      <td>47.142128</td>\n",
       "      <td>0.859649</td>\n",
       "    </tr>\n",
       "    <tr>\n",
       "      <th>3</th>\n",
       "      <td>1003</td>\n",
       "      <td>78.0</td>\n",
       "      <td>93</td>\n",
       "      <td>12.0</td>\n",
       "      <td>6.5</td>\n",
       "      <td>4.63</td>\n",
       "      <td>Buckingham</td>\n",
       "      <td>67</td>\n",
       "      <td>male</td>\n",
       "      <td>large</td>\n",
       "      <td>480.0</td>\n",
       "      <td>110.0</td>\n",
       "      <td>50.0</td>\n",
       "      <td>18.794464</td>\n",
       "      <td>0.868421</td>\n",
       "    </tr>\n",
       "    <tr>\n",
       "      <th>4</th>\n",
       "      <td>1005</td>\n",
       "      <td>249.0</td>\n",
       "      <td>90</td>\n",
       "      <td>28.0</td>\n",
       "      <td>8.9</td>\n",
       "      <td>7.72</td>\n",
       "      <td>Buckingham</td>\n",
       "      <td>64</td>\n",
       "      <td>male</td>\n",
       "      <td>medium</td>\n",
       "      <td>300.0</td>\n",
       "      <td>138.0</td>\n",
       "      <td>80.0</td>\n",
       "      <td>27.520673</td>\n",
       "      <td>1.073171</td>\n",
       "    </tr>\n",
       "  </tbody>\n",
       "</table>\n",
       "</div>"
      ],
      "text/plain": [
       "     id   chol  stab.glu   hdl  ratio  glyhb    Location  Age  Gender   frame  \\\n",
       "0  1000  203.0        82  56.0    3.6   4.31  Buckingham   46  female  medium   \n",
       "1  1001  165.0        97  24.0    6.9   4.44  Buckingham   29  female   large   \n",
       "2  1002  228.0        92  37.0    6.2   4.64  Buckingham   58  female   large   \n",
       "3  1003   78.0        93  12.0    6.5   4.63  Buckingham   67    male   large   \n",
       "4  1005  249.0        90  28.0    8.9   7.72  Buckingham   64    male  medium   \n",
       "\n",
       "   time.ppn  systolicBP  diastolicBP        BMI  W/H_ratio  \n",
       "0     720.0       118.0         59.0  21.948062   0.763158  \n",
       "1     360.0       112.0         68.0  37.419231   0.958333  \n",
       "2     180.0       187.0         92.0  47.142128   0.859649  \n",
       "3     480.0       110.0         50.0  18.794464   0.868421  \n",
       "4     300.0       138.0         80.0  27.520673   1.073171  "
      ]
     },
     "execution_count": 11,
     "metadata": {},
     "output_type": "execute_result"
    }
   ],
   "source": [
    "df.head()"
   ]
  },
  {
   "cell_type": "markdown",
   "id": "3d07702f",
   "metadata": {},
   "source": [
    "**Using One Hot encoding for Gender column**"
   ]
  },
  {
   "cell_type": "code",
   "execution_count": 13,
   "id": "4e02d337",
   "metadata": {},
   "outputs": [
    {
     "ename": "KeyError",
     "evalue": "'Gender'",
     "output_type": "error",
     "traceback": [
      "\u001b[1;31m---------------------------------------------------------------------------\u001b[0m",
      "\u001b[1;31mKeyError\u001b[0m                                  Traceback (most recent call last)",
      "\u001b[1;32m~\\anaconda3\\lib\\site-packages\\pandas\\core\\indexes\\base.py\u001b[0m in \u001b[0;36mget_loc\u001b[1;34m(self, key, method, tolerance)\u001b[0m\n\u001b[0;32m   3079\u001b[0m             \u001b[1;32mtry\u001b[0m\u001b[1;33m:\u001b[0m\u001b[1;33m\u001b[0m\u001b[1;33m\u001b[0m\u001b[0m\n\u001b[1;32m-> 3080\u001b[1;33m                 \u001b[1;32mreturn\u001b[0m \u001b[0mself\u001b[0m\u001b[1;33m.\u001b[0m\u001b[0m_engine\u001b[0m\u001b[1;33m.\u001b[0m\u001b[0mget_loc\u001b[0m\u001b[1;33m(\u001b[0m\u001b[0mcasted_key\u001b[0m\u001b[1;33m)\u001b[0m\u001b[1;33m\u001b[0m\u001b[1;33m\u001b[0m\u001b[0m\n\u001b[0m\u001b[0;32m   3081\u001b[0m             \u001b[1;32mexcept\u001b[0m \u001b[0mKeyError\u001b[0m \u001b[1;32mas\u001b[0m \u001b[0merr\u001b[0m\u001b[1;33m:\u001b[0m\u001b[1;33m\u001b[0m\u001b[1;33m\u001b[0m\u001b[0m\n",
      "\u001b[1;32mpandas\\_libs\\index.pyx\u001b[0m in \u001b[0;36mpandas._libs.index.IndexEngine.get_loc\u001b[1;34m()\u001b[0m\n",
      "\u001b[1;32mpandas\\_libs\\index.pyx\u001b[0m in \u001b[0;36mpandas._libs.index.IndexEngine.get_loc\u001b[1;34m()\u001b[0m\n",
      "\u001b[1;32mpandas\\_libs\\hashtable_class_helper.pxi\u001b[0m in \u001b[0;36mpandas._libs.hashtable.PyObjectHashTable.get_item\u001b[1;34m()\u001b[0m\n",
      "\u001b[1;32mpandas\\_libs\\hashtable_class_helper.pxi\u001b[0m in \u001b[0;36mpandas._libs.hashtable.PyObjectHashTable.get_item\u001b[1;34m()\u001b[0m\n",
      "\u001b[1;31mKeyError\u001b[0m: 'Gender'",
      "\nThe above exception was the direct cause of the following exception:\n",
      "\u001b[1;31mKeyError\u001b[0m                                  Traceback (most recent call last)",
      "\u001b[1;32m<ipython-input-13-9d61990677a0>\u001b[0m in \u001b[0;36m<module>\u001b[1;34m\u001b[0m\n\u001b[1;32m----> 1\u001b[1;33m \u001b[0mG\u001b[0m \u001b[1;33m=\u001b[0m \u001b[0mpd\u001b[0m\u001b[1;33m.\u001b[0m\u001b[0mget_dummies\u001b[0m\u001b[1;33m(\u001b[0m\u001b[0mdf\u001b[0m\u001b[1;33m[\u001b[0m\u001b[1;34m'Gender'\u001b[0m\u001b[1;33m]\u001b[0m\u001b[1;33m)\u001b[0m\u001b[1;33m\u001b[0m\u001b[1;33m\u001b[0m\u001b[0m\n\u001b[0m\u001b[0;32m      2\u001b[0m \u001b[0mdf\u001b[0m \u001b[1;33m=\u001b[0m \u001b[0mpd\u001b[0m\u001b[1;33m.\u001b[0m\u001b[0mconcat\u001b[0m\u001b[1;33m(\u001b[0m\u001b[1;33m[\u001b[0m\u001b[0mdf\u001b[0m\u001b[1;33m,\u001b[0m\u001b[0mG\u001b[0m\u001b[1;33m]\u001b[0m\u001b[1;33m,\u001b[0m\u001b[0maxis\u001b[0m\u001b[1;33m=\u001b[0m\u001b[1;34m'columns'\u001b[0m\u001b[1;33m)\u001b[0m\u001b[1;33m\u001b[0m\u001b[1;33m\u001b[0m\u001b[0m\n\u001b[0;32m      3\u001b[0m \u001b[0mdf\u001b[0m\u001b[1;33m.\u001b[0m\u001b[0mdrop\u001b[0m\u001b[1;33m(\u001b[0m\u001b[1;33m[\u001b[0m\u001b[1;34m'Gender'\u001b[0m\u001b[1;33m,\u001b[0m\u001b[1;34m'male'\u001b[0m\u001b[1;33m]\u001b[0m\u001b[1;33m,\u001b[0m\u001b[0maxis\u001b[0m\u001b[1;33m=\u001b[0m\u001b[1;34m'columns'\u001b[0m\u001b[1;33m,\u001b[0m\u001b[0minplace\u001b[0m\u001b[1;33m=\u001b[0m\u001b[1;32mTrue\u001b[0m\u001b[1;33m)\u001b[0m\u001b[1;33m\u001b[0m\u001b[1;33m\u001b[0m\u001b[0m\n",
      "\u001b[1;32m~\\anaconda3\\lib\\site-packages\\pandas\\core\\frame.py\u001b[0m in \u001b[0;36m__getitem__\u001b[1;34m(self, key)\u001b[0m\n\u001b[0;32m   3022\u001b[0m             \u001b[1;32mif\u001b[0m \u001b[0mself\u001b[0m\u001b[1;33m.\u001b[0m\u001b[0mcolumns\u001b[0m\u001b[1;33m.\u001b[0m\u001b[0mnlevels\u001b[0m \u001b[1;33m>\u001b[0m \u001b[1;36m1\u001b[0m\u001b[1;33m:\u001b[0m\u001b[1;33m\u001b[0m\u001b[1;33m\u001b[0m\u001b[0m\n\u001b[0;32m   3023\u001b[0m                 \u001b[1;32mreturn\u001b[0m \u001b[0mself\u001b[0m\u001b[1;33m.\u001b[0m\u001b[0m_getitem_multilevel\u001b[0m\u001b[1;33m(\u001b[0m\u001b[0mkey\u001b[0m\u001b[1;33m)\u001b[0m\u001b[1;33m\u001b[0m\u001b[1;33m\u001b[0m\u001b[0m\n\u001b[1;32m-> 3024\u001b[1;33m             \u001b[0mindexer\u001b[0m \u001b[1;33m=\u001b[0m \u001b[0mself\u001b[0m\u001b[1;33m.\u001b[0m\u001b[0mcolumns\u001b[0m\u001b[1;33m.\u001b[0m\u001b[0mget_loc\u001b[0m\u001b[1;33m(\u001b[0m\u001b[0mkey\u001b[0m\u001b[1;33m)\u001b[0m\u001b[1;33m\u001b[0m\u001b[1;33m\u001b[0m\u001b[0m\n\u001b[0m\u001b[0;32m   3025\u001b[0m             \u001b[1;32mif\u001b[0m \u001b[0mis_integer\u001b[0m\u001b[1;33m(\u001b[0m\u001b[0mindexer\u001b[0m\u001b[1;33m)\u001b[0m\u001b[1;33m:\u001b[0m\u001b[1;33m\u001b[0m\u001b[1;33m\u001b[0m\u001b[0m\n\u001b[0;32m   3026\u001b[0m                 \u001b[0mindexer\u001b[0m \u001b[1;33m=\u001b[0m \u001b[1;33m[\u001b[0m\u001b[0mindexer\u001b[0m\u001b[1;33m]\u001b[0m\u001b[1;33m\u001b[0m\u001b[1;33m\u001b[0m\u001b[0m\n",
      "\u001b[1;32m~\\anaconda3\\lib\\site-packages\\pandas\\core\\indexes\\base.py\u001b[0m in \u001b[0;36mget_loc\u001b[1;34m(self, key, method, tolerance)\u001b[0m\n\u001b[0;32m   3080\u001b[0m                 \u001b[1;32mreturn\u001b[0m \u001b[0mself\u001b[0m\u001b[1;33m.\u001b[0m\u001b[0m_engine\u001b[0m\u001b[1;33m.\u001b[0m\u001b[0mget_loc\u001b[0m\u001b[1;33m(\u001b[0m\u001b[0mcasted_key\u001b[0m\u001b[1;33m)\u001b[0m\u001b[1;33m\u001b[0m\u001b[1;33m\u001b[0m\u001b[0m\n\u001b[0;32m   3081\u001b[0m             \u001b[1;32mexcept\u001b[0m \u001b[0mKeyError\u001b[0m \u001b[1;32mas\u001b[0m \u001b[0merr\u001b[0m\u001b[1;33m:\u001b[0m\u001b[1;33m\u001b[0m\u001b[1;33m\u001b[0m\u001b[0m\n\u001b[1;32m-> 3082\u001b[1;33m                 \u001b[1;32mraise\u001b[0m \u001b[0mKeyError\u001b[0m\u001b[1;33m(\u001b[0m\u001b[0mkey\u001b[0m\u001b[1;33m)\u001b[0m \u001b[1;32mfrom\u001b[0m \u001b[0merr\u001b[0m\u001b[1;33m\u001b[0m\u001b[1;33m\u001b[0m\u001b[0m\n\u001b[0m\u001b[0;32m   3083\u001b[0m \u001b[1;33m\u001b[0m\u001b[0m\n\u001b[0;32m   3084\u001b[0m         \u001b[1;32mif\u001b[0m \u001b[0mtolerance\u001b[0m \u001b[1;32mis\u001b[0m \u001b[1;32mnot\u001b[0m \u001b[1;32mNone\u001b[0m\u001b[1;33m:\u001b[0m\u001b[1;33m\u001b[0m\u001b[1;33m\u001b[0m\u001b[0m\n",
      "\u001b[1;31mKeyError\u001b[0m: 'Gender'"
     ]
    }
   ],
   "source": [
    "G = pd.get_dummies(df['Gender'])\n",
    "df = pd.concat([df,G],axis='columns')\n",
    "df.drop(['Gender','male'],axis='columns',inplace=True)"
   ]
  },
  {
   "cell_type": "markdown",
   "id": "74b9cc9d",
   "metadata": {},
   "source": [
    "**Label encoding for frame column**"
   ]
  },
  {
   "cell_type": "code",
   "execution_count": 14,
   "id": "3d6d8d85",
   "metadata": {},
   "outputs": [],
   "source": [
    "from sklearn.preprocessing import LabelEncoder\n",
    "le = LabelEncoder()\n",
    "le.fit(df['frame'])\n",
    "df['frame'] = le.transform(df['frame'])"
   ]
  },
  {
   "cell_type": "markdown",
   "id": "c3d7a21f",
   "metadata": {},
   "source": [
    "**Removing entries with empty data values**"
   ]
  },
  {
   "cell_type": "code",
   "execution_count": 15,
   "id": "72fcb2ca",
   "metadata": {},
   "outputs": [],
   "source": [
    "df.dropna(axis=0,inplace=True)"
   ]
  },
  {
   "cell_type": "code",
   "execution_count": 16,
   "id": "d0b7bac8",
   "metadata": {},
   "outputs": [
    {
     "data": {
      "text/plain": [
       "(378, 15)"
      ]
     },
     "execution_count": 16,
     "metadata": {},
     "output_type": "execute_result"
    }
   ],
   "source": [
    "df.shape"
   ]
  },
  {
   "cell_type": "code",
   "execution_count": 17,
   "id": "ed5c384c",
   "metadata": {},
   "outputs": [
    {
     "data": {
      "text/html": [
       "<div>\n",
       "<style scoped>\n",
       "    .dataframe tbody tr th:only-of-type {\n",
       "        vertical-align: middle;\n",
       "    }\n",
       "\n",
       "    .dataframe tbody tr th {\n",
       "        vertical-align: top;\n",
       "    }\n",
       "\n",
       "    .dataframe thead th {\n",
       "        text-align: right;\n",
       "    }\n",
       "</style>\n",
       "<table border=\"1\" class=\"dataframe\">\n",
       "  <thead>\n",
       "    <tr style=\"text-align: right;\">\n",
       "      <th></th>\n",
       "      <th>id</th>\n",
       "      <th>chol</th>\n",
       "      <th>stab.glu</th>\n",
       "      <th>hdl</th>\n",
       "      <th>ratio</th>\n",
       "      <th>glyhb</th>\n",
       "      <th>Location</th>\n",
       "      <th>Age</th>\n",
       "      <th>frame</th>\n",
       "      <th>time.ppn</th>\n",
       "      <th>systolicBP</th>\n",
       "      <th>diastolicBP</th>\n",
       "      <th>BMI</th>\n",
       "      <th>W/H_ratio</th>\n",
       "      <th>female</th>\n",
       "    </tr>\n",
       "  </thead>\n",
       "  <tbody>\n",
       "    <tr>\n",
       "      <th>0</th>\n",
       "      <td>1000</td>\n",
       "      <td>203.0</td>\n",
       "      <td>82</td>\n",
       "      <td>56.0</td>\n",
       "      <td>3.6</td>\n",
       "      <td>4.31</td>\n",
       "      <td>Buckingham</td>\n",
       "      <td>46</td>\n",
       "      <td>1</td>\n",
       "      <td>720.0</td>\n",
       "      <td>118.0</td>\n",
       "      <td>59.0</td>\n",
       "      <td>21.948062</td>\n",
       "      <td>0.763158</td>\n",
       "      <td>1</td>\n",
       "    </tr>\n",
       "    <tr>\n",
       "      <th>1</th>\n",
       "      <td>1001</td>\n",
       "      <td>165.0</td>\n",
       "      <td>97</td>\n",
       "      <td>24.0</td>\n",
       "      <td>6.9</td>\n",
       "      <td>4.44</td>\n",
       "      <td>Buckingham</td>\n",
       "      <td>29</td>\n",
       "      <td>0</td>\n",
       "      <td>360.0</td>\n",
       "      <td>112.0</td>\n",
       "      <td>68.0</td>\n",
       "      <td>37.419231</td>\n",
       "      <td>0.958333</td>\n",
       "      <td>1</td>\n",
       "    </tr>\n",
       "    <tr>\n",
       "      <th>2</th>\n",
       "      <td>1002</td>\n",
       "      <td>228.0</td>\n",
       "      <td>92</td>\n",
       "      <td>37.0</td>\n",
       "      <td>6.2</td>\n",
       "      <td>4.64</td>\n",
       "      <td>Buckingham</td>\n",
       "      <td>58</td>\n",
       "      <td>0</td>\n",
       "      <td>180.0</td>\n",
       "      <td>187.0</td>\n",
       "      <td>92.0</td>\n",
       "      <td>47.142128</td>\n",
       "      <td>0.859649</td>\n",
       "      <td>1</td>\n",
       "    </tr>\n",
       "    <tr>\n",
       "      <th>3</th>\n",
       "      <td>1003</td>\n",
       "      <td>78.0</td>\n",
       "      <td>93</td>\n",
       "      <td>12.0</td>\n",
       "      <td>6.5</td>\n",
       "      <td>4.63</td>\n",
       "      <td>Buckingham</td>\n",
       "      <td>67</td>\n",
       "      <td>0</td>\n",
       "      <td>480.0</td>\n",
       "      <td>110.0</td>\n",
       "      <td>50.0</td>\n",
       "      <td>18.794464</td>\n",
       "      <td>0.868421</td>\n",
       "      <td>0</td>\n",
       "    </tr>\n",
       "    <tr>\n",
       "      <th>4</th>\n",
       "      <td>1005</td>\n",
       "      <td>249.0</td>\n",
       "      <td>90</td>\n",
       "      <td>28.0</td>\n",
       "      <td>8.9</td>\n",
       "      <td>7.72</td>\n",
       "      <td>Buckingham</td>\n",
       "      <td>64</td>\n",
       "      <td>1</td>\n",
       "      <td>300.0</td>\n",
       "      <td>138.0</td>\n",
       "      <td>80.0</td>\n",
       "      <td>27.520673</td>\n",
       "      <td>1.073171</td>\n",
       "      <td>0</td>\n",
       "    </tr>\n",
       "  </tbody>\n",
       "</table>\n",
       "</div>"
      ],
      "text/plain": [
       "     id   chol  stab.glu   hdl  ratio  glyhb    Location  Age  frame  \\\n",
       "0  1000  203.0        82  56.0    3.6   4.31  Buckingham   46      1   \n",
       "1  1001  165.0        97  24.0    6.9   4.44  Buckingham   29      0   \n",
       "2  1002  228.0        92  37.0    6.2   4.64  Buckingham   58      0   \n",
       "3  1003   78.0        93  12.0    6.5   4.63  Buckingham   67      0   \n",
       "4  1005  249.0        90  28.0    8.9   7.72  Buckingham   64      1   \n",
       "\n",
       "   time.ppn  systolicBP  diastolicBP        BMI  W/H_ratio  female  \n",
       "0     720.0       118.0         59.0  21.948062   0.763158       1  \n",
       "1     360.0       112.0         68.0  37.419231   0.958333       1  \n",
       "2     180.0       187.0         92.0  47.142128   0.859649       1  \n",
       "3     480.0       110.0         50.0  18.794464   0.868421       0  \n",
       "4     300.0       138.0         80.0  27.520673   1.073171       0  "
      ]
     },
     "execution_count": 17,
     "metadata": {},
     "output_type": "execute_result"
    }
   ],
   "source": [
    "df.head(5)"
   ]
  },
  {
   "cell_type": "code",
   "execution_count": null,
   "id": "67695f57",
   "metadata": {},
   "outputs": [],
   "source": []
  },
  {
   "cell_type": "markdown",
   "id": "0ae9a646",
   "metadata": {},
   "source": [
    "**Visualising Data***"
   ]
  },
  {
   "cell_type": "code",
   "execution_count": 114,
   "id": "7654a09e",
   "metadata": {},
   "outputs": [
    {
     "data": {
      "image/png": "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\n",
      "text/plain": [
       "<Figure size 1080x1080 with 2 Axes>"
      ]
     },
     "metadata": {
      "needs_background": "light"
     },
     "output_type": "display_data"
    }
   ],
   "source": [
    "correlation_matrix = df.corr().round(3)\n",
    "plt.figure(figsize = (15,15))\n",
    "dataplot = sn.heatmap(correlation_matrix, cmap=\"YlGnBu\", annot=True,square = True)\n",
    "plt.show()"
   ]
  },
  {
   "cell_type": "code",
   "execution_count": 19,
   "id": "ea66a19a",
   "metadata": {},
   "outputs": [],
   "source": [
    "diaSet = df[df['glyhb']>=6.5]\n",
    "NodiaSet = df[df['glyhb']<6.5]"
   ]
  },
  {
   "cell_type": "code",
   "execution_count": 116,
   "id": "baa1a6d5",
   "metadata": {
    "scrolled": true
   },
   "outputs": [
    {
     "data": {
      "image/png": "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\n",
      "text/plain": [
       "<Figure size 432x288 with 1 Axes>"
      ]
     },
     "metadata": {
      "needs_background": "light"
     },
     "output_type": "display_data"
    }
   ],
   "source": [
    "plt.scatter(NodiaSet['stab.glu'],NodiaSet['ratio'],color='green',label = \"Diabetes Negetive\")\n",
    "plt.scatter(diaSet['stab.glu'],diaSet['ratio'],color='red',label=\"Diabetes Positive\")\n",
    "plt.xlabel('Stabilized Glucose')\n",
    "plt.ylabel('Cholesterol Ratio')\n",
    "plt.legend()\n",
    "plt.show()"
   ]
  },
  {
   "cell_type": "code",
   "execution_count": 117,
   "id": "addcb3d2",
   "metadata": {},
   "outputs": [
    {
     "data": {
      "image/png": "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\n",
      "text/plain": [
       "<Figure size 432x288 with 1 Axes>"
      ]
     },
     "metadata": {
      "needs_background": "light"
     },
     "output_type": "display_data"
    }
   ],
   "source": [
    "plt.scatter(NodiaSet['stab.glu'],NodiaSet['BMI'],color='green',label = \"Diabetes Negetive\")\n",
    "plt.scatter(diaSet['stab.glu'],diaSet['BMI'],color='red',label=\"Diabetes Positive\")\n",
    "plt.xlabel('Stabilized Glucose')\n",
    "plt.ylabel('BMI')\n",
    "plt.legend()\n",
    "plt.show()"
   ]
  },
  {
   "cell_type": "code",
   "execution_count": 22,
   "id": "87f9f3b1",
   "metadata": {},
   "outputs": [],
   "source": [
    "features = ['ratio','Age','systolicBP','diastolicBP','BMI','W/H_ratio','stab.glu','frame','female']"
   ]
  },
  {
   "cell_type": "markdown",
   "id": "71792b92",
   "metadata": {},
   "source": [
    "**Normalising the deseried features**"
   ]
  },
  {
   "cell_type": "code",
   "execution_count": 23,
   "id": "732041ae",
   "metadata": {},
   "outputs": [],
   "source": [
    "dfNormal = df\n",
    "for col in features:\n",
    "    dfNormal[col] = (df[col]-df[col].min())/(df[col].max()-df[col].min())\n",
    "    "
   ]
  },
  {
   "cell_type": "code",
   "execution_count": 24,
   "id": "dc6e4ba0",
   "metadata": {
    "scrolled": true
   },
   "outputs": [
    {
     "data": {
      "text/html": [
       "<div>\n",
       "<style scoped>\n",
       "    .dataframe tbody tr th:only-of-type {\n",
       "        vertical-align: middle;\n",
       "    }\n",
       "\n",
       "    .dataframe tbody tr th {\n",
       "        vertical-align: top;\n",
       "    }\n",
       "\n",
       "    .dataframe thead th {\n",
       "        text-align: right;\n",
       "    }\n",
       "</style>\n",
       "<table border=\"1\" class=\"dataframe\">\n",
       "  <thead>\n",
       "    <tr style=\"text-align: right;\">\n",
       "      <th></th>\n",
       "      <th>id</th>\n",
       "      <th>chol</th>\n",
       "      <th>stab.glu</th>\n",
       "      <th>hdl</th>\n",
       "      <th>ratio</th>\n",
       "      <th>glyhb</th>\n",
       "      <th>Location</th>\n",
       "      <th>Age</th>\n",
       "      <th>frame</th>\n",
       "      <th>time.ppn</th>\n",
       "      <th>systolicBP</th>\n",
       "      <th>diastolicBP</th>\n",
       "      <th>BMI</th>\n",
       "      <th>W/H_ratio</th>\n",
       "      <th>female</th>\n",
       "    </tr>\n",
       "  </thead>\n",
       "  <tbody>\n",
       "    <tr>\n",
       "      <th>0</th>\n",
       "      <td>1000</td>\n",
       "      <td>203.0</td>\n",
       "      <td>0.100890</td>\n",
       "      <td>56.0</td>\n",
       "      <td>0.117978</td>\n",
       "      <td>4.31</td>\n",
       "      <td>Buckingham</td>\n",
       "      <td>0.369863</td>\n",
       "      <td>0.333333</td>\n",
       "      <td>720.0</td>\n",
       "      <td>0.17500</td>\n",
       "      <td>0.144737</td>\n",
       "      <td>0.151388</td>\n",
       "      <td>0.176427</td>\n",
       "      <td>1.0</td>\n",
       "    </tr>\n",
       "    <tr>\n",
       "      <th>1</th>\n",
       "      <td>1001</td>\n",
       "      <td>165.0</td>\n",
       "      <td>0.145401</td>\n",
       "      <td>24.0</td>\n",
       "      <td>0.303371</td>\n",
       "      <td>4.44</td>\n",
       "      <td>Buckingham</td>\n",
       "      <td>0.136986</td>\n",
       "      <td>0.000000</td>\n",
       "      <td>360.0</td>\n",
       "      <td>0.13750</td>\n",
       "      <td>0.263158</td>\n",
       "      <td>0.545386</td>\n",
       "      <td>0.599765</td>\n",
       "      <td>1.0</td>\n",
       "    </tr>\n",
       "    <tr>\n",
       "      <th>2</th>\n",
       "      <td>1002</td>\n",
       "      <td>228.0</td>\n",
       "      <td>0.130564</td>\n",
       "      <td>37.0</td>\n",
       "      <td>0.264045</td>\n",
       "      <td>4.64</td>\n",
       "      <td>Buckingham</td>\n",
       "      <td>0.534247</td>\n",
       "      <td>0.000000</td>\n",
       "      <td>180.0</td>\n",
       "      <td>0.60625</td>\n",
       "      <td>0.578947</td>\n",
       "      <td>0.792995</td>\n",
       "      <td>0.385718</td>\n",
       "      <td>1.0</td>\n",
       "    </tr>\n",
       "    <tr>\n",
       "      <th>3</th>\n",
       "      <td>1003</td>\n",
       "      <td>78.0</td>\n",
       "      <td>0.133531</td>\n",
       "      <td>12.0</td>\n",
       "      <td>0.280899</td>\n",
       "      <td>4.63</td>\n",
       "      <td>Buckingham</td>\n",
       "      <td>0.657534</td>\n",
       "      <td>0.000000</td>\n",
       "      <td>480.0</td>\n",
       "      <td>0.12500</td>\n",
       "      <td>0.026316</td>\n",
       "      <td>0.071076</td>\n",
       "      <td>0.404744</td>\n",
       "      <td>0.0</td>\n",
       "    </tr>\n",
       "    <tr>\n",
       "      <th>4</th>\n",
       "      <td>1005</td>\n",
       "      <td>249.0</td>\n",
       "      <td>0.124629</td>\n",
       "      <td>28.0</td>\n",
       "      <td>0.415730</td>\n",
       "      <td>7.72</td>\n",
       "      <td>Buckingham</td>\n",
       "      <td>0.616438</td>\n",
       "      <td>0.333333</td>\n",
       "      <td>300.0</td>\n",
       "      <td>0.30000</td>\n",
       "      <td>0.421053</td>\n",
       "      <td>0.293303</td>\n",
       "      <td>0.848849</td>\n",
       "      <td>0.0</td>\n",
       "    </tr>\n",
       "  </tbody>\n",
       "</table>\n",
       "</div>"
      ],
      "text/plain": [
       "     id   chol  stab.glu   hdl     ratio  glyhb    Location       Age  \\\n",
       "0  1000  203.0  0.100890  56.0  0.117978   4.31  Buckingham  0.369863   \n",
       "1  1001  165.0  0.145401  24.0  0.303371   4.44  Buckingham  0.136986   \n",
       "2  1002  228.0  0.130564  37.0  0.264045   4.64  Buckingham  0.534247   \n",
       "3  1003   78.0  0.133531  12.0  0.280899   4.63  Buckingham  0.657534   \n",
       "4  1005  249.0  0.124629  28.0  0.415730   7.72  Buckingham  0.616438   \n",
       "\n",
       "      frame  time.ppn  systolicBP  diastolicBP       BMI  W/H_ratio  female  \n",
       "0  0.333333     720.0     0.17500     0.144737  0.151388   0.176427     1.0  \n",
       "1  0.000000     360.0     0.13750     0.263158  0.545386   0.599765     1.0  \n",
       "2  0.000000     180.0     0.60625     0.578947  0.792995   0.385718     1.0  \n",
       "3  0.000000     480.0     0.12500     0.026316  0.071076   0.404744     0.0  \n",
       "4  0.333333     300.0     0.30000     0.421053  0.293303   0.848849     0.0  "
      ]
     },
     "execution_count": 24,
     "metadata": {},
     "output_type": "execute_result"
    }
   ],
   "source": [
    "dfNormal.head()"
   ]
  },
  {
   "cell_type": "code",
   "execution_count": 25,
   "id": "4c05ef2d",
   "metadata": {
    "scrolled": true
   },
   "outputs": [
    {
     "data": {
      "text/html": [
       "<div>\n",
       "<style scoped>\n",
       "    .dataframe tbody tr th:only-of-type {\n",
       "        vertical-align: middle;\n",
       "    }\n",
       "\n",
       "    .dataframe tbody tr th {\n",
       "        vertical-align: top;\n",
       "    }\n",
       "\n",
       "    .dataframe thead th {\n",
       "        text-align: right;\n",
       "    }\n",
       "</style>\n",
       "<table border=\"1\" class=\"dataframe\">\n",
       "  <thead>\n",
       "    <tr style=\"text-align: right;\">\n",
       "      <th></th>\n",
       "      <th>id</th>\n",
       "      <th>chol</th>\n",
       "      <th>stab.glu</th>\n",
       "      <th>hdl</th>\n",
       "      <th>ratio</th>\n",
       "      <th>glyhb</th>\n",
       "      <th>Location</th>\n",
       "      <th>Age</th>\n",
       "      <th>frame</th>\n",
       "      <th>time.ppn</th>\n",
       "      <th>systolicBP</th>\n",
       "      <th>diastolicBP</th>\n",
       "      <th>BMI</th>\n",
       "      <th>W/H_ratio</th>\n",
       "      <th>female</th>\n",
       "    </tr>\n",
       "  </thead>\n",
       "  <tbody>\n",
       "    <tr>\n",
       "      <th>0</th>\n",
       "      <td>1000</td>\n",
       "      <td>203.0</td>\n",
       "      <td>0.100890</td>\n",
       "      <td>56.0</td>\n",
       "      <td>0.117978</td>\n",
       "      <td>4.31</td>\n",
       "      <td>Buckingham</td>\n",
       "      <td>0.369863</td>\n",
       "      <td>0.333333</td>\n",
       "      <td>720.0</td>\n",
       "      <td>0.17500</td>\n",
       "      <td>0.144737</td>\n",
       "      <td>0.151388</td>\n",
       "      <td>0.176427</td>\n",
       "      <td>1.0</td>\n",
       "    </tr>\n",
       "    <tr>\n",
       "      <th>1</th>\n",
       "      <td>1001</td>\n",
       "      <td>165.0</td>\n",
       "      <td>0.145401</td>\n",
       "      <td>24.0</td>\n",
       "      <td>0.303371</td>\n",
       "      <td>4.44</td>\n",
       "      <td>Buckingham</td>\n",
       "      <td>0.136986</td>\n",
       "      <td>0.000000</td>\n",
       "      <td>360.0</td>\n",
       "      <td>0.13750</td>\n",
       "      <td>0.263158</td>\n",
       "      <td>0.545386</td>\n",
       "      <td>0.599765</td>\n",
       "      <td>1.0</td>\n",
       "    </tr>\n",
       "    <tr>\n",
       "      <th>2</th>\n",
       "      <td>1002</td>\n",
       "      <td>228.0</td>\n",
       "      <td>0.130564</td>\n",
       "      <td>37.0</td>\n",
       "      <td>0.264045</td>\n",
       "      <td>4.64</td>\n",
       "      <td>Buckingham</td>\n",
       "      <td>0.534247</td>\n",
       "      <td>0.000000</td>\n",
       "      <td>180.0</td>\n",
       "      <td>0.60625</td>\n",
       "      <td>0.578947</td>\n",
       "      <td>0.792995</td>\n",
       "      <td>0.385718</td>\n",
       "      <td>1.0</td>\n",
       "    </tr>\n",
       "    <tr>\n",
       "      <th>3</th>\n",
       "      <td>1003</td>\n",
       "      <td>78.0</td>\n",
       "      <td>0.133531</td>\n",
       "      <td>12.0</td>\n",
       "      <td>0.280899</td>\n",
       "      <td>4.63</td>\n",
       "      <td>Buckingham</td>\n",
       "      <td>0.657534</td>\n",
       "      <td>0.000000</td>\n",
       "      <td>480.0</td>\n",
       "      <td>0.12500</td>\n",
       "      <td>0.026316</td>\n",
       "      <td>0.071076</td>\n",
       "      <td>0.404744</td>\n",
       "      <td>0.0</td>\n",
       "    </tr>\n",
       "    <tr>\n",
       "      <th>4</th>\n",
       "      <td>1005</td>\n",
       "      <td>249.0</td>\n",
       "      <td>0.124629</td>\n",
       "      <td>28.0</td>\n",
       "      <td>0.415730</td>\n",
       "      <td>7.72</td>\n",
       "      <td>Buckingham</td>\n",
       "      <td>0.616438</td>\n",
       "      <td>0.333333</td>\n",
       "      <td>300.0</td>\n",
       "      <td>0.30000</td>\n",
       "      <td>0.421053</td>\n",
       "      <td>0.293303</td>\n",
       "      <td>0.848849</td>\n",
       "      <td>0.0</td>\n",
       "    </tr>\n",
       "  </tbody>\n",
       "</table>\n",
       "</div>"
      ],
      "text/plain": [
       "     id   chol  stab.glu   hdl     ratio  glyhb    Location       Age  \\\n",
       "0  1000  203.0  0.100890  56.0  0.117978   4.31  Buckingham  0.369863   \n",
       "1  1001  165.0  0.145401  24.0  0.303371   4.44  Buckingham  0.136986   \n",
       "2  1002  228.0  0.130564  37.0  0.264045   4.64  Buckingham  0.534247   \n",
       "3  1003   78.0  0.133531  12.0  0.280899   4.63  Buckingham  0.657534   \n",
       "4  1005  249.0  0.124629  28.0  0.415730   7.72  Buckingham  0.616438   \n",
       "\n",
       "      frame  time.ppn  systolicBP  diastolicBP       BMI  W/H_ratio  female  \n",
       "0  0.333333     720.0     0.17500     0.144737  0.151388   0.176427     1.0  \n",
       "1  0.000000     360.0     0.13750     0.263158  0.545386   0.599765     1.0  \n",
       "2  0.000000     180.0     0.60625     0.578947  0.792995   0.385718     1.0  \n",
       "3  0.000000     480.0     0.12500     0.026316  0.071076   0.404744     0.0  \n",
       "4  0.333333     300.0     0.30000     0.421053  0.293303   0.848849     0.0  "
      ]
     },
     "execution_count": 25,
     "metadata": {},
     "output_type": "execute_result"
    }
   ],
   "source": [
    "meanRatio = dfNormal['ratio'].mean()\n",
    "meanAge = dfNormal['Age'].mean()\n",
    "meansystolicBP = dfNormal['systolicBP'].mean()\n",
    "meandiastolicBP = dfNormal['diastolicBP'].mean()\n",
    "meanglu = dfNormal['stab.glu'].mean()\n",
    "meanBMI = dfNormal['BMI'].mean()\n",
    "sdRatio = dfNormal['ratio'].std()\n",
    "sdAge = dfNormal['Age'].std()\n",
    "sdsystolicBP = dfNormal['systolicBP'].std()\n",
    "sddiastolicBP = dfNormal['diastolicBP'].std()\n",
    "sdBMI = dfNormal['BMI'].std()\n",
    "sdglu = dfNormal['stab.glu'].std()\n",
    "dfNormal.head()"
   ]
  },
  {
   "cell_type": "markdown",
   "id": "a07421d5",
   "metadata": {},
   "source": [
    "**Removing outliers**"
   ]
  },
  {
   "cell_type": "code",
   "execution_count": 26,
   "id": "e364d49d",
   "metadata": {},
   "outputs": [],
   "source": [
    "z = 2.97\n",
    "dfno_outlier = dfNormal[\n",
    "    (dfNormal.ratio>meanRatio-z*sdRatio) & (dfNormal.ratio<meanRatio+z*sdRatio) &\n",
    "    (dfNormal.Age>meanAge-z*sdAge) & (dfNormal.Age<meanAge+z*sdAge) &\n",
    "    (dfNormal.systolicBP>meansystolicBP-z*sdsystolicBP) & (dfNormal.systolicBP<meansystolicBP+z*sdsystolicBP) &\n",
    "    (dfNormal.diastolicBP>meandiastolicBP-z*sddiastolicBP) & (dfNormal.diastolicBP<meandiastolicBP+z*sddiastolicBP) &\n",
    "    (dfNormal.BMI>meanBMI-z*sdBMI) & (dfNormal.BMI<meanBMI+z*sdBMI)\n",
    "]"
   ]
  },
  {
   "cell_type": "code",
   "execution_count": 27,
   "id": "9c0bc328",
   "metadata": {},
   "outputs": [],
   "source": [
    "df_class0 = dfno_outlier[dfno_outlier['glyhb']<7]\n",
    "df_class1 = dfno_outlier[dfno_outlier['glyhb']>=7]"
   ]
  },
  {
   "cell_type": "code",
   "execution_count": 28,
   "id": "0efba651",
   "metadata": {},
   "outputs": [],
   "source": [
    "count_class0 = df_class0.shape[0]\n",
    "count_class1 = df_class1.shape[0]"
   ]
  },
  {
   "cell_type": "code",
   "execution_count": 29,
   "id": "815506e5",
   "metadata": {
    "scrolled": true
   },
   "outputs": [
    {
     "name": "stdout",
     "output_type": "stream",
     "text": [
      "Diabetes Negetive: 308\n",
      "Diabetes Positive: 57\n"
     ]
    }
   ],
   "source": [
    "print('Diabetes Negetive:',count_class0)\n",
    "print('Diabetes Positive:',count_class1)"
   ]
  },
  {
   "cell_type": "markdown",
   "id": "e11faaa0",
   "metadata": {},
   "source": [
    "*Our Dataset is unbalanced against the diabetes positive class. We will address it later*"
   ]
  },
  {
   "cell_type": "code",
   "execution_count": 30,
   "id": "8d6580f7",
   "metadata": {},
   "outputs": [
    {
     "data": {
      "text/html": [
       "<div>\n",
       "<style scoped>\n",
       "    .dataframe tbody tr th:only-of-type {\n",
       "        vertical-align: middle;\n",
       "    }\n",
       "\n",
       "    .dataframe tbody tr th {\n",
       "        vertical-align: top;\n",
       "    }\n",
       "\n",
       "    .dataframe thead th {\n",
       "        text-align: right;\n",
       "    }\n",
       "</style>\n",
       "<table border=\"1\" class=\"dataframe\">\n",
       "  <thead>\n",
       "    <tr style=\"text-align: right;\">\n",
       "      <th></th>\n",
       "      <th>ratio</th>\n",
       "      <th>Age</th>\n",
       "      <th>systolicBP</th>\n",
       "      <th>diastolicBP</th>\n",
       "      <th>BMI</th>\n",
       "      <th>W/H_ratio</th>\n",
       "      <th>stab.glu</th>\n",
       "      <th>frame</th>\n",
       "      <th>female</th>\n",
       "    </tr>\n",
       "  </thead>\n",
       "  <tbody>\n",
       "    <tr>\n",
       "      <th>0</th>\n",
       "      <td>0.117978</td>\n",
       "      <td>0.369863</td>\n",
       "      <td>0.17500</td>\n",
       "      <td>0.144737</td>\n",
       "      <td>0.151388</td>\n",
       "      <td>0.176427</td>\n",
       "      <td>0.100890</td>\n",
       "      <td>0.333333</td>\n",
       "      <td>1.0</td>\n",
       "    </tr>\n",
       "    <tr>\n",
       "      <th>1</th>\n",
       "      <td>0.303371</td>\n",
       "      <td>0.136986</td>\n",
       "      <td>0.13750</td>\n",
       "      <td>0.263158</td>\n",
       "      <td>0.545386</td>\n",
       "      <td>0.599765</td>\n",
       "      <td>0.145401</td>\n",
       "      <td>0.000000</td>\n",
       "      <td>1.0</td>\n",
       "    </tr>\n",
       "    <tr>\n",
       "      <th>2</th>\n",
       "      <td>0.264045</td>\n",
       "      <td>0.534247</td>\n",
       "      <td>0.60625</td>\n",
       "      <td>0.578947</td>\n",
       "      <td>0.792995</td>\n",
       "      <td>0.385718</td>\n",
       "      <td>0.130564</td>\n",
       "      <td>0.000000</td>\n",
       "      <td>1.0</td>\n",
       "    </tr>\n",
       "    <tr>\n",
       "      <th>3</th>\n",
       "      <td>0.280899</td>\n",
       "      <td>0.657534</td>\n",
       "      <td>0.12500</td>\n",
       "      <td>0.026316</td>\n",
       "      <td>0.071076</td>\n",
       "      <td>0.404744</td>\n",
       "      <td>0.133531</td>\n",
       "      <td>0.000000</td>\n",
       "      <td>0.0</td>\n",
       "    </tr>\n",
       "    <tr>\n",
       "      <th>4</th>\n",
       "      <td>0.415730</td>\n",
       "      <td>0.616438</td>\n",
       "      <td>0.30000</td>\n",
       "      <td>0.421053</td>\n",
       "      <td>0.293303</td>\n",
       "      <td>0.848849</td>\n",
       "      <td>0.124629</td>\n",
       "      <td>0.333333</td>\n",
       "      <td>0.0</td>\n",
       "    </tr>\n",
       "  </tbody>\n",
       "</table>\n",
       "</div>"
      ],
      "text/plain": [
       "      ratio       Age  systolicBP  diastolicBP       BMI  W/H_ratio  stab.glu  \\\n",
       "0  0.117978  0.369863     0.17500     0.144737  0.151388   0.176427  0.100890   \n",
       "1  0.303371  0.136986     0.13750     0.263158  0.545386   0.599765  0.145401   \n",
       "2  0.264045  0.534247     0.60625     0.578947  0.792995   0.385718  0.130564   \n",
       "3  0.280899  0.657534     0.12500     0.026316  0.071076   0.404744  0.133531   \n",
       "4  0.415730  0.616438     0.30000     0.421053  0.293303   0.848849  0.124629   \n",
       "\n",
       "      frame  female  \n",
       "0  0.333333     1.0  \n",
       "1  0.000000     1.0  \n",
       "2  0.000000     1.0  \n",
       "3  0.000000     0.0  \n",
       "4  0.333333     0.0  "
      ]
     },
     "execution_count": 30,
     "metadata": {},
     "output_type": "execute_result"
    }
   ],
   "source": [
    "X = dfno_outlier[features]\n",
    "X.head()"
   ]
  },
  {
   "cell_type": "code",
   "execution_count": 31,
   "id": "a1ecbd8f",
   "metadata": {},
   "outputs": [
    {
     "data": {
      "text/plain": [
       "(365, 9)"
      ]
     },
     "execution_count": 31,
     "metadata": {},
     "output_type": "execute_result"
    }
   ],
   "source": [
    "X.shape"
   ]
  },
  {
   "cell_type": "markdown",
   "id": "6e16f713",
   "metadata": {},
   "source": [
    "**Considering Glycosolated Hemoglobin level > 6.5 to be indicator of diabetes positive subject**"
   ]
  },
  {
   "cell_type": "code",
   "execution_count": 32,
   "id": "acbbb3b5",
   "metadata": {},
   "outputs": [],
   "source": [
    "y = dfno_outlier['glyhb']>=6.5\n",
    "y.replace({False:0,True:1},inplace=True)"
   ]
  },
  {
   "cell_type": "code",
   "execution_count": 102,
   "id": "54fbe733",
   "metadata": {},
   "outputs": [
    {
     "data": {
      "text/plain": [
       "0    4.31\n",
       "1    4.44\n",
       "2    4.64\n",
       "3    4.63\n",
       "4    7.72\n",
       "Name: glyhb, dtype: float64"
      ]
     },
     "execution_count": 102,
     "metadata": {},
     "output_type": "execute_result"
    }
   ],
   "source": [
    "y2 = dfno_outlier['glyhb']\n",
    "y2.head()"
   ]
  },
  {
   "cell_type": "markdown",
   "id": "b30cbd10",
   "metadata": {},
   "source": [
    "**Spliting Data into training and testing phases**"
   ]
  },
  {
   "cell_type": "code",
   "execution_count": 61,
   "id": "960f80bf",
   "metadata": {},
   "outputs": [],
   "source": [
    "from sklearn.model_selection import train_test_split\n",
    "X_train,X_test,y_train,y_test = train_test_split(X,y,test_size=0.3,random_state=15, stratify=y)"
   ]
  },
  {
   "cell_type": "code",
   "execution_count": 62,
   "id": "0cb9666b",
   "metadata": {
    "scrolled": true
   },
   "outputs": [
    {
     "data": {
      "text/plain": [
       "(255, 9)"
      ]
     },
     "execution_count": 62,
     "metadata": {},
     "output_type": "execute_result"
    }
   ],
   "source": [
    "X_train.shape"
   ]
  },
  {
   "cell_type": "code",
   "execution_count": 63,
   "id": "d1fd445a",
   "metadata": {},
   "outputs": [
    {
     "data": {
      "text/plain": [
       "(110, 9)"
      ]
     },
     "execution_count": 63,
     "metadata": {},
     "output_type": "execute_result"
    }
   ],
   "source": [
    "X_test.shape"
   ]
  },
  {
   "cell_type": "code",
   "execution_count": 64,
   "id": "7e823b00",
   "metadata": {},
   "outputs": [
    {
     "data": {
      "text/plain": [
       "0    212\n",
       "1     43\n",
       "Name: glyhb, dtype: int64"
      ]
     },
     "execution_count": 64,
     "metadata": {},
     "output_type": "execute_result"
    }
   ],
   "source": [
    "y_train.value_counts()"
   ]
  },
  {
   "cell_type": "markdown",
   "id": "7a83aa53",
   "metadata": {},
   "source": [
    "**Using SMOTE to oversample diabetes positive class in training data**"
   ]
  },
  {
   "cell_type": "code",
   "execution_count": 65,
   "id": "898fc310",
   "metadata": {},
   "outputs": [
    {
     "data": {
      "text/plain": [
       "0    212\n",
       "1    212\n",
       "Name: glyhb, dtype: int64"
      ]
     },
     "execution_count": 65,
     "metadata": {},
     "output_type": "execute_result"
    }
   ],
   "source": [
    "from imblearn.over_sampling import SMOTE\n",
    "smote =SMOTE(sampling_strategy='minority')\n",
    "X_sm,y_sm = smote.fit_resample(X_train,y_train)\n",
    "y_sm.value_counts()"
   ]
  },
  {
   "cell_type": "code",
   "execution_count": 66,
   "id": "94f8864e",
   "metadata": {},
   "outputs": [
    {
     "data": {
      "text/plain": [
       "0    212\n",
       "1    212\n",
       "Name: glyhb, dtype: int64"
      ]
     },
     "execution_count": 66,
     "metadata": {},
     "output_type": "execute_result"
    }
   ],
   "source": [
    "y_sm.value_counts()"
   ]
  },
  {
   "cell_type": "code",
   "execution_count": 67,
   "id": "2e610f10",
   "metadata": {},
   "outputs": [],
   "source": [
    "from sklearn.metrics import confusion_matrix,classification_report\n",
    "from sklearn.model_selection import cross_val_score as cvs"
   ]
  },
  {
   "cell_type": "code",
   "execution_count": 68,
   "id": "f229427c",
   "metadata": {},
   "outputs": [],
   "source": [
    "def printScore(model,X_test,y_test):\n",
    "    y_predicted = model.predict(X_test)\n",
    "    print(classification_report(y_test,y_predicted))\n",
    "    cm = confusion_matrix(y_predicted,y_test)\n",
    "    plt.figure(figsize = (5,4))\n",
    "    sn.heatmap(cm,annot = True,fmt='d')\n",
    "    plt.xlabel('Truth')\n",
    "    plt.ylabel('Predicted')"
   ]
  },
  {
   "cell_type": "markdown",
   "id": "45713f0e",
   "metadata": {},
   "source": [
    "### Logistic Regression Model"
   ]
  },
  {
   "cell_type": "code",
   "execution_count": 69,
   "id": "6189d0f4",
   "metadata": {
    "scrolled": true
   },
   "outputs": [
    {
     "name": "stdout",
     "output_type": "stream",
     "text": [
      "accuracy: 0.8849315068493151\n"
     ]
    }
   ],
   "source": [
    "from sklearn.linear_model import LogisticRegression\n",
    "modelLR = LogisticRegression()\n",
    "score = cvs(modelLR,X,y,cv=5)\n",
    "print('accuracy:',np.mean(score))"
   ]
  },
  {
   "cell_type": "code",
   "execution_count": 70,
   "id": "9233cf8c",
   "metadata": {
    "scrolled": true
   },
   "outputs": [
    {
     "name": "stdout",
     "output_type": "stream",
     "text": [
      "              precision    recall  f1-score   support\n",
      "\n",
      "           0       0.98      0.91      0.94        91\n",
      "           1       0.68      0.89      0.77        19\n",
      "\n",
      "    accuracy                           0.91       110\n",
      "   macro avg       0.83      0.90      0.86       110\n",
      "weighted avg       0.93      0.91      0.91       110\n",
      "\n"
     ]
    },
    {
     "data": {
      "image/png": "iVBORw0KGgoAAAANSUhEUgAAATkAAAEGCAYAAAAezeKJAAAAOXRFWHRTb2Z0d2FyZQBNYXRwbG90bGliIHZlcnNpb24zLjMuNCwgaHR0cHM6Ly9tYXRwbG90bGliLm9yZy8QVMy6AAAACXBIWXMAAAsTAAALEwEAmpwYAAAWzUlEQVR4nO3dfbRdVXnv8e+PEyEhgBAh4ZAIQRukkEJABEoUggENV0pQGi5UaaSpsVCsb62kaot29N6R0eq95Wp9OQJyVAgEMCZaeYmBgFANAqa8Jd5YiknIScJLKIGS4Dn76R97RU8yTs5a+2Tut3V+H8Yce6+19p77gZBnzLnmXHMqIjAzK6u9mh2AmVk9OcmZWak5yZlZqTnJmVmpOcmZWamNaHYAu/Pr557ysG+bGnXYO5odgu2B3tee0VC+V8vf2dcd/KYh/cZQuCVnZqXWsi05M2szlb5mRzAgJzkzS6Ovt9kRDMhJzsySiKg0O4QB+Z6cmaVRqRQvBUj6uKQnJD0uaYGkkZLGSFoqaU32elBePU5yZpZGVIqXHJLGA38BnBQRk4EO4CJgHrAsIiYBy7LjQTnJmVkalb7ipZgRwChJI4B9gQ3ATKA7u94NnJ9XiZOcmaVRQ0tO0lxJD/Urc3eqKuIZ4AvAWqAH+M+IuAsYFxE92Wd6gLF5YXngwcySiBpGVyOiC+ja3fXsXttM4EjgReAWSR8YSlxOcmaWRsEBhYLOAv4jIp4FkPRd4DRgk6TOiOiR1AlszqvI3VUzSyPhwAPVbuqpkvaVJGA6sApYAszOPjMbWJxXkVtyZpZGwiceImKFpFuBR4Be4OdUu7f7AQslzaGaCGfl1eUkZ2ZpJJ4MHBFXAVftcno71VZdYU5yZpaGH+sys1JLO/CQjJOcmSUR4VVIzKzMWvQBfSc5M0vD3VUzKzW35Mys1Pp+3ewIBuQkZ2ZpuLtqZqXm7qqZlZpbcmZWak5yZlZm4YEHMys135Mzs1Jzd9XMSs0tOTMrNbfkzKzU3JIzs1Lrbc1FM72RjZmlkXAjG0lvkbSyX3lJ0sckjZG0VNKa7PWgvLqc5MwsjUqleMkREb+IiCkRMQV4K/BfwCJgHrAsIiYBy7LjQTnJmVkaabck7G868O8R8SuqG053Z+e7gfPzvuwkZ2Zp1NCSkzRX0kP9ytxBar4IWJC9HxcRPQDZ69i8sDzwYGZp1NBCi4guqvuoDkrS3sB5wF8PNSwnOTNLoz6jq+cAj0TEpux4k6TOiOiR1AlszqvA3VUzSyOieCnuYn7bVQVYAszO3s8GFudV4JacmaWR+IkHSfsCZwMf7nd6PrBQ0hxgLTArrx4nOTNLI3GSi4j/At6wy7nnqY62FuYkZ2Zp+LEuMyu1vr5mRzAgJzkzS8OrkJhZqTnJmVmp+Z6cmZVZVGqa/9YwTnJmloa7q2ZWah5dNbNSc0vOzErNSW74+tZNi7jt+3cgiUlvnsjff/oTdHXfxN33/4S9tBdjDno9/+szn2TsIW/Ir8yaZsKEw7j+uqsZd+ghVCoVrrnmBr705WubHVbrqO3B+4bxKiR1tunZ57jh1sXcfN3/43vf+RqVSoXbf3Qvl77/AhZ966vc1v3PnDH1FL76zRubHarl6O3t5a8+9Xl+77hpTH37H3DZZR/kd393UrPDah0Jlz9PqW4tOUlHU12qeDwQwAZgSUSsqtdvtqrevj62b3+NER0jeHXbdg45eAz7jR79m+uvvroNqYkBWiEbN25m48bq8mUvv/wKq1evYfxhh7Jq1ZomR9YihtMUEklXUl0H6ibgwez0BGCBpJsiYn49frcVjTvkYD548QWc9b4/ZuQ+e3Pa205k6ilvBeDqr1/PkjuWsf/o0Vz3pWHzn6QUjjhiAlOOn8yKB3/e7FBaR4uOrtaruzoHeFtEzI+I72RlPnBydm1A/dd9v+ZbC3b3sbbyny9t5Z4f/5Q7b/kmdy++gVe3bef7d94NwEc//EGWLfo273nXmdx42/ebHKkVNXr0viy8+Rt84i+vYuvWl5sdTsuISqVwaaR6JbkKcNgA5zuzawOKiK6IOCkiTvrTP764TqE11k8fWsn4w8Yx5qADed2IEUw/4zRWPvbkTp95z7um8aPlDzQpQqvFiBEjuOXmb7BgwSK+973bmx1Oa6lE8dJA9bon9zFgmaQ1wLrs3OHA7wBX1Ok3W1LnuEN49PHVvLptGyP32YcVD63k2KMn8at1z3DEG8cDcM+Pf8qRR0xocqRWxDe6vsiq1b/kn67O3YNl+BlOz65GxB2SjqLaPR0PCFgP/CwiWrPjXifHHXs0Z5/5di689CN0dHRw9FFvZtbMc/jU5/6Bp9euR3uJww4dy9/+1UeaHarlmHra27jkA3/Io489yUM/uwuAv/mb+dx+x91NjqxFtOjAg6JF57b8+rmnWjMwyzXqsHc0OwTbA72vPTOksf5X/vaiwn9nR//dTbm/IelA4BpgMtUZGn8C/AK4GZgIPA1cGBFbBqvH8+TMLI2oFC/FXA3cERFHA8cDq4B5wLKImAQsy44H5SRnZmkkHHiQdABwOnAtQES8FhEvUp172519rBs4P68uJzkzS6KWKST9p4tlZe4u1b0JeBb4pqSfS7pG0mhgXET0AGSvY/Pi8rOrZpZGDQMPEdEFDDZEPQI4EfhIRKyQdDUFuqYDcUvOzNJIO09uPbA+IlZkx7dSTXqbJHUCZK+b8ypykjOzNPr6ipccEbERWCfpLdmp6cCTwBJgdnZuNrA4ry53V80siTrs8fAR4AZJewNPAZdSbZgtlDQHWAvMyqvESc7M0kic5CJiJXDSAJem11KPk5yZpeGVgc2s1Fr0sS4nOTNLw0nOzMos+txdNbMyc0vOzMqsDlNIknCSM7M0nOTMrNRa85ack5yZpRG9rZnlnOTMLI3WzHFOcmaWhgcezKzc3JIzszJzS87Mys0tOTMrs+htdgQDc5IzsySK7zTYWE5yZpaGk5yZlZlbcmZWaqmTnKSnga1AH9AbESdJGgPcDEwEngYujIgtg9Xj3brMLInoU+FSgzMjYkpE7NjrYR6wLCImAcsosBfroC25LGvuVkS8UDRSMyu3BnVXZwLTsvfdwHLgysG+kNddfRgIQMDhwJbs/YFUtwM7cqiRmlm5RKV4C03SXGBuv1NdEdG1a5XAXZIC+Hp2fVxE9ABERI+ksXm/NWiSi4gjs4C+BiyJiB9mx+cAZxX9FzKz8qulJZclrF2T2q6mRsSGLJEtlbR6KHEVvSf3th0JLgvwduCMofygmZVThAqXYvXFhux1M7AIOBnYJKkTIHvdnFdP0ST3nKTPSpoo6QhJnwGeL/hdMxsGolK85JE0WtL+O94D7wIeB5YAs7OPzQYW59VVdArJxcBVVLNpAPdl58zMAKjUNmqaZxywSBJU89SNEXGHpJ8BCyXNoTouMCuvokJJLhtF/aik/SLi5aHHbWZlVcvAQ25dEU8Bxw9w/nlgei11FequSjpN0pPAk9nx8ZK+UssPmVm5RUWFSyMVvSf3f4F3k92Hi4h/A06vV1Bm1n4iipdGKvxYV0Ssy/rHO/SlD8fM2lWjW2hFFU1y6ySdBoSkvYG/AFbVLywzazdFp4Y0WtEk92fA1cB4YD1wF3B5vYIys/bTl3Z0NZmiSe4tEfH+/ickTQUeSB+SmbWjVm3JFR14+FLBc2Y2TLXq6GreKiS/D5wGHCLpE/0uHQB01DMwM2svjR41LSqvu7o3sF/2uf37nX8J+MN6BWVm7actR1cj4l7gXknXR8SvGhSTmbWhvkprrsFbNKprJB2440DSQZLurE9IZtaO2n0y8MER8eKOg4jYUmSxOjMbPiptPrpakXT4jgNJR1BdjcTMDEi/nlwqRVtynwHul3Rvdnw6Oy9dbGbDXLuOrgKQreN0InAq1T0ePh4Rz9UzsCOPOq+e1VsdTR93XLNDsCZo1e5q3jy5oyNidZbgADZkr4dLOjwiHqlveGbWLlp1dDWvJfdJ4EPAFwe4FsA7k0dkZm2pRXurufPkPpS9ntmYcMysXbVrd/V9g12PiO+mDcfM2lU9Rk0ldQAPAc9ExLnZhvc3AxOBp4ELI2LLYHXkdVf/IHsdS/UZ1ruz4zOp7lztJGdmANSw7WotPkp17coDsuN5wLKImC9pXnZ85WAVDHqnMCIujYhLqXa3j4mICyLiAuDYPQ7dzEolUOFShKQJwHuAa/qdngl0Z++7gfPz6ik6T25iRPT0O94EHFXwu2Y2DPTW0F2VNJed59p2RUTXLh/7J+BT7Lw4yLgduSgieoo8eVU0yS3PnlVdQLVVdxFwT8HvmtkwULSFBpAltF2T2m9IOhfYHBEPS5q2J3EVnQx8haT38tsduroiYtGe/LCZlUvie3JTgfMk/Q9gJHCApO8AmyR1Zq24TmBzXkW1zN57BPiXiPg4cKek/fO+YGbDR8p7chHx1xExISImUu053h0RHwCWALOzj80GFufVVXRz6Q8BtwJfz06NB75X5LtmNjxUaih7YD5wtqQ1wNnZ8aCK3pP7c+BkYAVARKzxUktm1l9fDffkahERy6lOWSMingem1/L9oklue0S8tmNzaUkjaN2nOMysCVp09fPCSe5eSZ8GRkk6m+qeq9+vX1hm1m4qdWrJ7amiAw9XAs8CjwEfBn4IfLZeQZlZ+4kaSiPltuQk7QU8GhGTgW/UPyQza0d1eqxrj+UmuYioSPq3bP24tY0IyszaT0Wt2V0tek+uE3hC0oPAKztORoSX7zUzAPqaHcBuFE1yn69rFGbW9tpydFXSSODPgN+hOuhwbUT0NiIwM2svrTq6mteS6wZ+DfwYOAc4hur6TmZmO2nVibN5Se6YiPg9AEnXAg/WPyQza0dt2V2l2ooDICJ61aKjJ2bWfO06heR4SS9l70X1iYeXsvcREQfs/qtmNpz0tWgbKG+3ro5GBWJm7a1dW3JmZoU4yZlZqbXotqtOcmaWhltyZlZqrfpYVy17PJiZ7VZFxUseSSMlPZgtDvKEpM9n58dIWippTfZ6UF5dTnJmlkTiPR62A++MiOOBKcAMSacC84BlETEJWJYdD8pJzsySSJnkourl7PB1WQlgJtXHTclez8+ry0nOzJJIvTKwpA5JK6nurbo0IlYA4yKiByB7zd1Qy0nOzJKo5Z6cpLmSHupX5u5aX0T0RcQUYAJwsqTJQ4nLo6tmlkQto6sR0QV0Ffzsi5KWAzOATZI6I6JHUifVVt6g3JIzsyQqROGSR9Ihkg7M3o8CzgJWA0uA2dnHZgOL8+pyS87Mkkg8GbgT6JbUQbUxtjAifiDpJ8BCSXOAtcCsvIqc5MwsiZSLZkbEo8AJA5x/HpheS11OcmaWhB/rMrNS61VrLoDuJGdmSbRminOSM7NE3F01s1IrMjWkGZzkzCyJ1kxxTnJmloi7q2ZWan0t2pZzkjOzJNySM7NSC7fkzKzM3JIzAP70sku4+JILiAhWP7mGT17xWbZvf63ZYdlufOILH+eU6Sfz4vMv8uGzLgPg01+Zx4Q3TQBg9AH78cpLL3P5jCuaGWZLaNUpJF5qqYEO7RzLn8x9P+955//krKnvpaNjL8573znNDssGcdctS/nMJZ/d6dz/vnw+l8+4gstnXMEDt9/PA7f/a5Oiay2pVwZOxUmuwUaMGMHIkfvQ0dHBqFGj2LTx2WaHZIN4fMXjbH1x626vn37u6dyzeHnjAmphvUTh0kjurjbQxp7NfP3L17Pi0R+xbds27rvnX7nvHrcC2tXkUyaz5bktbHh6Q7NDaQmtOvDQ8JacpEsHufabdd9f2f5CI8NqiNe//gDedc6Z/P4J7+atx7yTUfuO4n2zzm12WDZEZ86cxvLF9zY7jJaReEvCZJrRXf387i5ERFdEnBQRJ43eZ0wjY2qIt087lXVrn+GF57fQ29vL7T9YxltPntLssGwI9urYi6kzTuPeJfc1O5SWETX800h16a5KenR3l4Bx9fjNdrBhfQ8nnHQcI0eNZNur23j76afw6Monmh2WDcGJ7ziBdf++nuc2PtfsUFrGcJtCMg54N7Bll/MChu1NqJ8//Bg/XLKUO+5ZSG9fH088upobum9pdlg2iHlfvpLjTj2O1485gO88+G2+/cVvc+fNd3HGeWew3AMOO+mLdC00SW8EvgUcSjV/dkXE1ZLGADcDE4GngQsjYtc8s3NdkTCwfgFeC3wzIu4f4NqNEfFHeXVMGDO5Ne9iWq5jR7+x2SHYHrhz3e0ayvf+6Ij3Fv47e+OvFg36G9l2g50R8Yik/YGHgfOBDwIvRMR8SfOAgyLiysHqqktLLiLmDHItN8GZWftJea8tInqAnuz9VkmrgPHATGBa9rFuYDkwaJLzPDkzS6KW0dX+MymyMnd39UqaSHXnrhXAuCwB7kiEY/Pi8jw5M0uilse6IqIL6Mr7nKT9gNuAj0XES1LtPWm35MwsidRTSCS9jmqCuyEivpud3pTdr9tx325zXj1OcmaWRF9E4ZJH1SbbtcCqiPg//S4tAWZn72cDi/PqcnfVzJJIvArJVOAS4DFJK7NznwbmAwslzQHWArPyKnKSM7MkUk4Gzqaf7e4G3PRa6nKSM7MkWvUBfSc5M0uiVRfNdJIzsyTq8fRUCk5yZpaEtyQ0s1Jzd9XMSs3dVTMrNbfkzKzUPIXEzEot5aKZKTnJmVkS7q6aWak5yZlZqXl01cxKzS05Mys1j66aWan1RWvuvOokZ2ZJ+J6cmZWa78mZWam16j05b2RjZklUIgqXPJKuk7RZ0uP9zo2RtFTSmuz1oCJxOcmZWRKJtyS8Hpixy7l5wLKImAQsy45zOcmZWRJ9USlc8kTEfcALu5yeCXRn77uB84vE5SRnZknU0l2VNFfSQ/3K3AI/MS4iegCy17FF4vLAg5klUcvAQ0R0AV31i+a3nOTMLIkiAwp7aJOkzojokdQJbC7yJXdXzSyJxAMPA1kCzM7ezwYWF/mSW3JmlkRf9CWrS9ICYBpwsKT1wFXAfGChpDnAWmBWkbqc5MwsiZSPdUXExbu5NL3WupzkzCwJP9ZlZqXmB/TNrNQaMLo6JE5yZpZEqz6g7yRnZkl40UwzKzXfkzOzUvM9OTMrNbfkzKzUPE/OzErNLTkzKzWPrppZqXngwcxKzd1VMys1P/FgZqXmlpyZlVqr3pNTq2bfspM0N9vMw9qQ//zah/d4aJ4iW7BZ6/KfX5twkjOzUnOSM7NSc5JrHt/PaW/+82sTHngws1JzS87MSs1JzsxKzUmuwSTNkPQLSb+UNK/Z8VhtJF0nabOkx5sdixXjJNdAkjqAfwbOAY4BLpZ0THOjshpdD8xodhBWnJNcY50M/DIinoqI14CbgJlNjslqEBH3AS80Ow4rzkmuscYD6/odr8/OmVmdOMk1lgY45zk8ZnXkJNdY64E39jueAGxoUixmw4KTXGP9DJgk6UhJewMXAUuaHJNZqTnJNVBE9AJXAHcCq4CFEfFEc6OyWkhaAPwEeIuk9ZLmNDsmG5wf6zKzUnNLzsxKzUnOzErNSc7MSs1JzsxKzUnOzErNSc5ySXqDpJVZ2SjpmX7He+d890BJl/c7nibpB/WP2qzK+65aroh4HpgCIOlzwMsR8YUd1yWNyOYADuRA4HLgK/WN0mxgTnI2JJKup7oaxwnAI5K20i/5ZeutnQvMB94saSWwFPgXYD9JtwKTgYeBD4QnbFqdOMnZnjgKOCsi+rIW3kDmAZMjYgpUu6tUE+OxVJ/bfQCYCtxf51htmPI9OdsTt0RE3xC+92BErI+ICrASmJg0KrN+nORsT7zS730vO///NHKQ723v974P9yisjpzkLJWngRMBJJ0IHJmd3wrs36SYzJzkLJnbgDHZAMNlwP+H34zMPiDpcUn/2MT4bJjyKiRmVmpuyZlZqTnJmVmpOcmZWak5yZlZqTnJmVmpOcmZWak5yZlZqf03QdO8yyIRX1IAAAAASUVORK5CYII=\n",
      "text/plain": [
       "<Figure size 360x288 with 2 Axes>"
      ]
     },
     "metadata": {
      "needs_background": "light"
     },
     "output_type": "display_data"
    }
   ],
   "source": [
    "modelLR.fit(X_sm,y_sm)\n",
    "printScore(modelLR,X_test,y_test)"
   ]
  },
  {
   "cell_type": "markdown",
   "id": "706b6f37",
   "metadata": {},
   "source": [
    "### Decision Tree Classifier"
   ]
  },
  {
   "cell_type": "code",
   "execution_count": 71,
   "id": "82007efc",
   "metadata": {},
   "outputs": [
    {
     "name": "stdout",
     "output_type": "stream",
     "text": [
      "accuracy: 0.8520547945205479\n"
     ]
    }
   ],
   "source": [
    "from sklearn import tree\n",
    "modelTree = tree.DecisionTreeClassifier()\n",
    "score = cvs(modelTree,X,y,cv=5)\n",
    "print('accuracy:',np.mean(score))"
   ]
  },
  {
   "cell_type": "code",
   "execution_count": 72,
   "id": "d3d89eb1",
   "metadata": {},
   "outputs": [
    {
     "name": "stdout",
     "output_type": "stream",
     "text": [
      "              precision    recall  f1-score   support\n",
      "\n",
      "           0       0.95      0.90      0.93        91\n",
      "           1       0.62      0.79      0.70        19\n",
      "\n",
      "    accuracy                           0.88       110\n",
      "   macro avg       0.79      0.85      0.81       110\n",
      "weighted avg       0.90      0.88      0.89       110\n",
      "\n"
     ]
    },
    {
     "data": {
      "image/png": "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\n",
      "text/plain": [
       "<Figure size 360x288 with 2 Axes>"
      ]
     },
     "metadata": {
      "needs_background": "light"
     },
     "output_type": "display_data"
    }
   ],
   "source": [
    "modelTree.fit(X_sm,y_sm)\n",
    "printScore(modelTree,X_test,y_test)"
   ]
  },
  {
   "cell_type": "markdown",
   "id": "9af7001e",
   "metadata": {},
   "source": [
    "### Support Vector Classification"
   ]
  },
  {
   "cell_type": "markdown",
   "id": "c3a0d5ca",
   "metadata": {},
   "source": [
    "#### Linear kernel"
   ]
  },
  {
   "cell_type": "code",
   "execution_count": 73,
   "id": "fe3ef3cb",
   "metadata": {},
   "outputs": [
    {
     "name": "stdout",
     "output_type": "stream",
     "text": [
      "accuracy: 0.9178082191780822\n"
     ]
    }
   ],
   "source": [
    "from sklearn.svm import SVC\n",
    "modelSVClinear = SVC(C=5,kernel='linear')\n",
    "score = cvs(modelSVClinear,X,y,cv=5)\n",
    "print('accuracy:',np.mean(score))"
   ]
  },
  {
   "cell_type": "code",
   "execution_count": 74,
   "id": "3cee737a",
   "metadata": {},
   "outputs": [
    {
     "name": "stdout",
     "output_type": "stream",
     "text": [
      "              precision    recall  f1-score   support\n",
      "\n",
      "           0       0.98      0.91      0.94        91\n",
      "           1       0.68      0.89      0.77        19\n",
      "\n",
      "    accuracy                           0.91       110\n",
      "   macro avg       0.83      0.90      0.86       110\n",
      "weighted avg       0.93      0.91      0.91       110\n",
      "\n"
     ]
    },
    {
     "data": {
      "image/png": "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\n",
      "text/plain": [
       "<Figure size 360x288 with 2 Axes>"
      ]
     },
     "metadata": {
      "needs_background": "light"
     },
     "output_type": "display_data"
    }
   ],
   "source": [
    "modelSVClinear.fit(X_sm,y_sm)\n",
    "printScore(modelSVClinear,X_test,y_test)"
   ]
  },
  {
   "cell_type": "markdown",
   "id": "50578b60",
   "metadata": {},
   "source": [
    "#### Polynomial Kernel"
   ]
  },
  {
   "cell_type": "code",
   "execution_count": 75,
   "id": "70dfbd6d",
   "metadata": {},
   "outputs": [
    {
     "name": "stdout",
     "output_type": "stream",
     "text": [
      "accuracy: 0.8493150684931507\n"
     ]
    }
   ],
   "source": [
    "modelSVCpoly = SVC(C=50,kernel = 'poly')\n",
    "score = cvs(modelSVCpoly,X,y,cv=5)\n",
    "print('accuracy:',np.mean(score))"
   ]
  },
  {
   "cell_type": "code",
   "execution_count": 76,
   "id": "36daa645",
   "metadata": {},
   "outputs": [
    {
     "name": "stdout",
     "output_type": "stream",
     "text": [
      "              precision    recall  f1-score   support\n",
      "\n",
      "           0       0.95      0.90      0.93        91\n",
      "           1       0.62      0.79      0.70        19\n",
      "\n",
      "    accuracy                           0.88       110\n",
      "   macro avg       0.79      0.85      0.81       110\n",
      "weighted avg       0.90      0.88      0.89       110\n",
      "\n"
     ]
    },
    {
     "data": {
      "image/png": "iVBORw0KGgoAAAANSUhEUgAAATkAAAEGCAYAAAAezeKJAAAAOXRFWHRTb2Z0d2FyZQBNYXRwbG90bGliIHZlcnNpb24zLjMuNCwgaHR0cHM6Ly9tYXRwbG90bGliLm9yZy8QVMy6AAAACXBIWXMAAAsTAAALEwEAmpwYAAAWdElEQVR4nO3df7hVVZ3H8fdHyNDUgFSeK+ZgiZo6SWalOJmKlJiF/aDRssghGfthP+dJUmccq+eJZ6aasaambvjjmkb+RMhKo2tqWaJoZP6MMlP0xg1EsVLhnvOdP87GLgzcvQ+s82vfz8tnPefsvc9Z5+uDfF1rr73WUkRgZlZW27U6ADOzRnKSM7NSc5Izs1JzkjOzUnOSM7NSG9nqALZk/aqHPOzboXbY4/WtDsG2wcC6x7Q136vn7+wLdn3ZVv3G1nBLzsxKrW1bcmbWYaqVVkewWW7JmVkalYHipQBJn5B0r6R7JM2XNErSWEmLJS3PXsfk1eMkZ2ZJRFQLlzySxgMfBQ6NiIOAEcBJwBygNyImAr3Z8ZCc5MwsjWq1eClmJLCDpJHAjsDjwHSgJ7veA5yYV4mTnJmlEdXCRdJsSUsHldkbVRXxGPBF4BGgD3gqIn4EjIuIvuwzfcDueWF54MHM0qhj4CEiuoHuLV3P7rVNB/YGngSulHTK1oTlJGdmaRS411aHY4HfR8SfACRdA0wGVkrqiog+SV1Af15FTnJmlkQUHDUt6BHgMEk7As8AU4ClwF+AmcDc7HVhXkVOcmaWRvEBhVwRsUTSVcBdwADwS2rd252AKyTNopYIZ+TV5SRnZmmk7a4SEecC525y+jlqrbrCnOTMLI02nfHgJGdmaSRuyaXiJGdmaaQdeEjGSc7M0kg48JCSk5yZJRHhe3JmVma+J2dmpebuqpmVmltyZlZqlfWtjmCznOTMLA13V82s1NxdNbNSc0vOzErNSc7Myiw88GBmpeZ7cmZWau6umlmpuSVnZqXmlpyZlVqbtuS8ubSZpTEwULzkkLSfpGWDylpJH5c0VtJiScuz1zF5dTnJmVkaUS1e8qqKeDAiJkXEJODVwF+BBcAcoDciJgK92fGQnOTMLI1qtXipzxTgdxHxB2A60JOd7wFOzPuyk5yZpVFHS07SbElLB5XZQ9R8EjA/ez8uIvoAstfd88LywIOZpVFHCy0iuqltFj0kSdsDbwU+s7VhOcmZWRqNGV2dBtwVESuz45WSuiKiT1IX0J9XgburZpZGwtHVQU7mb11VgEXAzOz9TGBhXgVOcmaWRkTxUoCkHYGpwDWDTs8Fpkpanl2bm1ePu6tmlkbiGQ8R8VfgJZucW01ttLUwJzkzS8PTusys1Np0WpeTnJmlUam0OoLNcpIzszTcXTWzUnOSM7NS8z05MyuzqBZ7/q3ZnOTMLA13V82s1Dy6amal5pacmZWak9zwdcl3F3D1965HEhNfPoHPn/VJvvqtS7j51iWMfMFIXjq+i8+f9Ul22XmnVodqBWy33XYsue2HPP7YH5n+tpn5XxguCk68bzavQtJgK/+0isuuWsjlF36Fay/9BtVqlR/++GYOf82rWPDtb7Dgkv9lwkvHM+/bl7c6VCvoo2d8gAceWN7qMNpP45Y/3yYNS3KS9pd0pqSvSDo/e/+KRv1eOxuoVHjuuXUMDFR45tnn2G3XsRzxulczcuQIAF554P6s7F/V4iitiPHjuzh+2hQuvHB+/oeHm2oUL03UkCQn6Uzgu4CA24E7svfzJeXurlMm43bblfef/A6Offv7OHr6u9n5RTtyxOtevdFnFnz/R/zD4a9pUYRWjy9/6TzmfObzVNv0/lNLVSrFSxM1qiU3C3hNRMyNiEuzMhd4bXZtswZvbjHvknL8n/KptU/zk5/exg1XXsSNCy/jmWef43s33Pj89W/2zGfEiBGc8MajWxilFfHm44+lv38Vd/3y160OpS1FtVq4NFOjBh6qwB7AHzY535Vd26zBm1usX/VQe97FrNNtS5cxfo9xjB0zGoApb5jMsl/fx1vedAwLf7CYW269nXlf+QKSWhuo5Zo8+VDecsIbmXbcMYwa9UJ22WVnei7+CjPf/9FWh9YehtmMh48DvdkSxY9m5/YC9gE+0qDfbEtd43bj7nse4Jlnn2XUC1/IkqXLOHD/ifzstqVccNmVXPw//8EOo0a1Okwr4Oxz5nL2ObXVtt9w5OF88hOnO8ENNpzmrkbE9ZL2pdY9HU/tftwK4I6IaM/HohvklQfuz9Sj/4F3nXoGI0aMYP99X86M6dOYfsrprFu/ntM+fvbznzv302e0OFqzbdCmLTlFmz7bUpbu6nC0wx6vb3UItg0G1j22VfdO/vJvJxX+O/uiz3439zckjQbmAQcBAfwT8CBwOTABeBh4V0SsGaoePydnZmlEtXgp5nzg+ojYHzgYuB+YA/RGxESgNzsekpOcmaWR8Dk5SbsARwIXAETEuoh4EpgO9GQf6wFOzKvLSc7MkqjnEZLBj4tlZfYm1b0M+BNwkaRfSpon6UXAuIjoA8hed8+Ly3NXzSyNOgYeBj8utgUjgUOAMyJiiaTzKdA13Ry35MwsjbTTulYAKyJiSXZ8FbWkt1JSF0D22p9XkZOcmaWRcFpXRPwReFTSftmpKcB9wCJgw9IvM4GFeXW5u2pmSTRgj4czgMskbQ88BJxKrWF2haRZwCPAjLxKnOTMLI3ESS4ilgGHbubSlHrqcZIzszTadGUWJzkzS6NNp3U5yZlZGk5yZlZmUXF31czKzC05MyuzBjxCkoSTnJml4SRnZqXWnrfknOTMLI0YaM8s5yRnZmm0Z45zkjOzNDzwYGbl5pacmZWZW3JmVm5uyZlZmcVAqyPYPCc5M0ui+E6DzeUkZ2ZpOMmZWZm5JWdmpZY6yUl6GHgaqAADEXGopLHA5cAE4GHgXRGxZqh6vFuXmSURFRUudTg6IiZFxIa9HuYAvRExEeilwF6sQ7bksqy5RRHxRNFIzazcmtRdnQ4clb3vAW4CzhzqC3nd1TuBAATsBazJ3o+mth3Y3lsbqZmVS1TraqEVqhL4kaQAvhkR3cC4iOgDiIg+SbvnVTJkkouIvQEkfQNYFBE/yI6nAcdu47+AmZVIPS05SbOB2YNOdWdJbLAjIuLxLJEtlvTA1sRVdODhNRFx+oaDiPihpM9tzQ+aWTlFFG/JZQlt06S26Wcez177JS0AXguslNSVteK6gP683yo68LBK0jmSJkj6O0lnA6sLftfMhoGoFi95JL1I0s4b3gNvBO4BFgEzs4/NBBbm1VW0JXcycC6wgFo/+ZbsnJkZANX6Rk3zjAMWSIJanvpORFwv6Q7gCkmzqI0LzMirqFCSy0ZRPyZpp4j489bHbWZllXLgISIeAg7ezPnVwJR66irUXZU0WdJ9wH3Z8cGSvl7PD5lZuUVVhUszFb0n91/Am8juw0XEr4AjGxWUmXWeiOKlmQpP64qIR7P+8QaV9OGYWadqdgutqKJJ7lFJk4GQtD3wUeD+xoVlZp2mnkdImqlokjsdOB8YD6wAfgR8qFFBmVnnqaQdXU2maJLbLyLeM/iEpCOAW9OHZGadqF1bckUHHr5a8JyZDVPtOrqatwrJ4cBkYDdJnxx0aRdgRCMDM7PO0uxR06LyuqvbAztln9t50Pm1wDsbFZSZdZ6OHF2NiJuBmyVdHBF/aFJMZtaBKtX2XIO3aFTzJI3ecCBpjKQbGhOSmXWiTn8YeNeIeHLDQUSsKbJYnZkNH9UOH12tStprw4Gkv6O2GomZGVB7hKRoaaaiLbmzgZ9Jujk7PpKNV/U0s2GuU0dXAcjWcToEOIzaHg+fiIhVjQxsr31OaGT11kCH7LpPq0OwFmjX7mrec3L7R8QDWYIDeDx73UvSXhFxV2PDM7NO0a6jq3ktuU8BpwFf2sy1AI5JHpGZdaQ27a3mPid3WvZ6dHPCMbNO1and1bcPdT0irkkbjpl1qnadoJ/XXX1L9ro7tTmsN2bHR1PbudpJzswAqGPb1cIkjQCWAo9FxAmSxgKXAxOAh4F3RcSaoeoY8k5hRJwaEadS624fEBHviIh3AAcmiN/MSiRQ4VKHj7HxAr1zgN6ImAj0ZsdDKjocMiEi+gYdrwT2LRqlmZXfQKhwKULSnsCbgXmDTk8HerL3PcCJefUUfRj4pmyu6nxqrbqTgJ8U/K6ZDQP1tNAkzWbjCQXdEdG9ycf+G/g0G6+ANG5Dgysi+opMLy36MPBHJL2Nv+3Q1R0RC4p818yGh3ruyWUJbdOk9jxJJwD9EXGnpKO2Ja7Cu3UBdwFPR8SPJe0oaeeIeHpbftzMyqPOe215jgDeKul4YBSwi6RLgZWSurJWXBfQn1dR0c2lTwOuAr6ZnRoPXLs1kZtZOVXrKHki4jMRsWdETKB2e+zGiDgFWATMzD42E1iYV1fRgYcPU8usa7MAllN7rMTMDIAKKly2wVxgqqTlwNTseEhFu6vPRcS6DZtLSxpJ+87iMLMWaNTq5xFxE7XncomI1cCUer5fNMndLOksYAdJU6ntufq9en7IzMqtmvaeXDJFu6tnAn8Cfg38M/AD4JxGBWVmnSfqKM2U25KTtB1wd0QcBHyr8SGZWSdqxLSuFHKTXERUJf0qWz/ukWYEZWadp6r27K4WvSfXBdwr6XbgLxtORsRbGxKVmXWcSqsD2IKiSe68hkZhZh2vTfeWzl1PbhRwOrAPtUGHCyJioBmBmVlnadfR1byWXA+wHvgpMA04gNrSJ2ZmG2nXB2fzktwBEfH3AJIuAG5vfEhm1ok6srtKrRUHQEQMqE1HT8ys9Tr1EZKDJa3N3ovajIe12fuIiF0aGp2ZdYxKm7aB8nbrGtGsQMyss3VqS87MrBAnOTMrtTbdkdBJzszScEvOzEqt06d1mZkNqVOfkzMzK8TdVTMrtXZNckVXBjYzG1LKlYEljZJ0e7aW5b2SzsvOj5W0WNLy7HVMXl1OcmaWRFXFSwHPAcdExMHAJOA4SYcBc4DeiJgI9GbHQ3KSM7MkKnWUPFHz5+zwBVkJYDq11ZHIXk/Mq8tJzsySqBKFi6TZkpYOKrM3rU/SCEnLgH5gcUQsAcZFRB9A9pq7/7MHHswsiXoGHiKiG+jO+UwFmCRpNLBA0kFbE5dbcmaWRKO2JIyIJ6ltLn0csFJSF0D22p/3fSc5M0uiWkfJI2m3rAWHpB2AY4EHgEXAzOxjM4GFeXW5u2pmSQwo6QLoXUCPpBHUGmNXRMR1kn4BXCFpFvAIMCOvIic5M0siZYqLiLuBV23m/GpgSj11OcmZWRLtOuPBSc7Mkqi26X5dTnJmlkR7pjgnOTNLxN1VMyu1Spu25ZzkzCwJt+TMrNTCLTkzK7N2bcl5WleTfeD0U/jJzxdy0y8WcdoH39vqcCzHOV8+k+vvvpb5N170/LnTPvV+rrvzKi5dPI9LF89j8jGva2GE7aOeVUiayS25JtrvFfvwnvfN4Pgp/8i6dev5ztXd/PiGW/j9Q39odWi2Bd+//IdcedE1/Pv5Z210fv63ruSyb1zeoqjaU3t2Vt2Sa6qJ+76cO5f+imeeeZZKpcJtt97BtBPqmqFiTfbLJXezds3TrQ6jIwwQhUszOck10YP3L+ewyYcyZsyL2WGHURwz9Uj22LOr1WHZVphx6tu47McXcs6Xz2TnF+/U6nDaQtTxTzM1PclJOnWIa8+vFvrXdWuaGVZTLP/NQ3zt/Hlcfu0FfOfqbu6750EqAwOtDsvqdHXPQt5++Ls5ZeosVq9czcfO/XCrQ2oLKZdaSqkVLbnztnQhIroj4tCIOHTH7XM34elI8799DW98wzt52/Hv48k1T/HQ73w/rtM8sWoN1WqViODay67jwEn7tzqkttCuLbmGDDxIuntLl4BxjfjNTvGSXceyetUTjN+zi+PfciwnTH13q0OyOr1k97Gs7n8CgKOmvZ7fPfj7FkfUHtr1EZJGja6OA94EbNrnFPDzBv1mR7jgkvMZM3Y06wfW85l/+TxPPbW21SHZED739X/j1YdPYvTYF/O9pVfyrS9dxCGHv4p9D9yHiKBvxR/5wqe/2Oow20Il2nN8tVFJ7jpgp4hYtukFSTc16Dc7wonH+9m4TvKvH/rs/zu3aP4PWhBJ+xtWSy1FxKwhrrl/ZlZCntZlZqXWrvfk/JycmSWRclqXpJdK+omk+yXdK+lj2fmxkhZLWp695j6G4SRnZkkkfoRkAPhURLwCOAz4sKQDgDlAb0RMBHqz4yG5u2pmSaQcXY2IPqAve/+0pPuB8cB04KjsYz3UNp0+c6i63JIzsyTq6a4Ont2UldlbqlfSBGrbEy4BxmUJcEMi3D0vLrfkzCyJegYeIqIb6M77nKSdgKuBj0fEWkl1x+WWnJklkXpal6QXUEtwl0XENdnplZK6sutdQH9ePU5yZpZE4tFVARcA90fElwddWgTMzN7PBBbm1eXuqpklEWmndR0BvBf4taRl2bmzgLnAFZJmAY8AM/IqcpIzsyRSbkkYET+jNtd9c+paadZJzsySGFZzV81s+EncXU3GSc7MknBLzsxKzauQmFmpDbdFM81smHF31cxKzUnOzErNo6tmVmpuyZlZqXl01cxKrRLtucuDk5yZJeF7cmZWar4nZ2al5ntyZlZqVXdXzazM3JIzs1Lz6KqZlZq7q2ZWau3aXfVuXWaWRDWicMkj6UJJ/ZLuGXRurKTFkpZnr2OKxOUkZ2ZJJN539WLguE3OzQF6I2Ii0Jsd53KSM7MkKlEpXPJExC3AE5ucng70ZO97gBOLxOUkZ2ZJREThImm2pKWDyuwCPzEuIvqy3+oDdi8SlwcezCyJeqZ1RUQ30N24aP7GSc7MkmjCBP2Vkroiok9SF9Bf5EvurppZEilHV7dgETAzez8TWFjkS27JmVkSKZ+TkzQfOArYVdIK4FxgLnCFpFnAI8CMInU5yZlZEimndUXEyVu4NKXeupzkzCwJL5ppZqXmuatmVmpuyZlZqXn5czMrNbfkzKzUvGimmZWaBx7MrNTcXTWzUmvXlYGd5MwsCbfkzKzU2vWenNo1+5adpNnZmlrWgfzn1zm81FLrFFkJ1dqX//w6hJOcmZWak5yZlZqTXOv4fk5n859fh/DAg5mVmltyZlZqTnJmVmpOck0m6ThJD0r6raQ5rY7H6iPpQkn9ku5pdSxWjJNcE0kaAXwNmAYcAJws6YDWRmV1uhg4rtVBWHFOcs31WuC3EfFQRKwDvgtMb3FMVoeIuAV4otVxWHFOcs01Hnh00PGK7JyZNYiTXHNpM+f8DI9ZAznJNdcK4KWDjvcEHm9RLGbDgpNcc90BTJS0t6TtgZOARS2OyazUnOSaKCIGgI8ANwD3A1dExL2tjcrqIWk+8AtgP0krJM1qdUw2NE/rMrNSc0vOzErNSc7MSs1JzsxKzUnOzErNSc7MSs1JznJJeomkZVn5o6THBh1vn/Pd0ZI+NOj4KEnXNT5qsxrvu2q5ImI1MAlA0r8Df46IL264Lmlk9gzg5owGPgR8vbFRmm2ek5xtFUkXU1uN41XAXZKeZlDyy9ZbOwGYC7xc0jJgMfB9YCdJVwEHAXcCp4Qf2LQGcZKzbbEvcGxEVLIW3ubMAQ6KiElQ665SS4wHUpu3eytwBPCzBsdqw5Tvydm2uDIiKlvxvdsjYkVEVIFlwISkUZkN4iRn2+Ivg94PsPF/T6OG+N5zg95XcI/CGshJzlJ5GDgEQNIhwN7Z+aeBnVsUk5mTnCVzNTA2G2D4IPAbeH5k9lZJ90j6zxbGZ8OUVyExs1JzS87MSs1JzsxKzUnOzErNSc7MSs1JzsxKzUnOzErNSc7MSu3/AN7YBex2AOozAAAAAElFTkSuQmCC\n",
      "text/plain": [
       "<Figure size 360x288 with 2 Axes>"
      ]
     },
     "metadata": {
      "needs_background": "light"
     },
     "output_type": "display_data"
    }
   ],
   "source": [
    "modelSVCpoly.fit(X_sm,y_sm)\n",
    "printScore(modelSVCpoly,X_test,y_test)"
   ]
  },
  {
   "cell_type": "markdown",
   "id": "c15e8681",
   "metadata": {},
   "source": [
    "#### RBF kernel"
   ]
  },
  {
   "cell_type": "code",
   "execution_count": 77,
   "id": "e14fde1f",
   "metadata": {
    "scrolled": true
   },
   "outputs": [
    {
     "name": "stdout",
     "output_type": "stream",
     "text": [
      "accuracy: 0.9013698630136986\n"
     ]
    }
   ],
   "source": [
    "modelSVCrbf = SVC(C=10,kernel = 'rbf')\n",
    "score = cvs(modelSVCrbf,X,y,cv=5)\n",
    "print('accuracy:',np.mean(score))"
   ]
  },
  {
   "cell_type": "code",
   "execution_count": 78,
   "id": "d7f05259",
   "metadata": {},
   "outputs": [
    {
     "name": "stdout",
     "output_type": "stream",
     "text": [
      "              precision    recall  f1-score   support\n",
      "\n",
      "           0       0.95      0.92      0.94        91\n",
      "           1       0.68      0.79      0.73        19\n",
      "\n",
      "    accuracy                           0.90       110\n",
      "   macro avg       0.82      0.86      0.84       110\n",
      "weighted avg       0.91      0.90      0.90       110\n",
      "\n"
     ]
    },
    {
     "data": {
      "image/png": "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\n",
      "text/plain": [
       "<Figure size 360x288 with 2 Axes>"
      ]
     },
     "metadata": {
      "needs_background": "light"
     },
     "output_type": "display_data"
    }
   ],
   "source": [
    "modelSVCrbf.fit(X_sm,y_sm)\n",
    "printScore(modelSVCrbf,X_test,y_test)"
   ]
  },
  {
   "cell_type": "markdown",
   "id": "910e43e1",
   "metadata": {},
   "source": [
    "#### Sigmoid kernel"
   ]
  },
  {
   "cell_type": "code",
   "execution_count": 79,
   "id": "d37dc69b",
   "metadata": {},
   "outputs": [
    {
     "name": "stdout",
     "output_type": "stream",
     "text": [
      "accuracy: 0.8\n"
     ]
    }
   ],
   "source": [
    "modelSVCsigmoid = SVC(C=0.5,kernel = 'sigmoid')\n",
    "score = cvs(modelSVCsigmoid,X,y,cv=5)\n",
    "print('accuracy:',np.mean(score))"
   ]
  },
  {
   "cell_type": "code",
   "execution_count": 80,
   "id": "054621de",
   "metadata": {},
   "outputs": [
    {
     "name": "stdout",
     "output_type": "stream",
     "text": [
      "              precision    recall  f1-score   support\n",
      "\n",
      "           0       0.77      0.41      0.53        91\n",
      "           1       0.13      0.42      0.20        19\n",
      "\n",
      "    accuracy                           0.41       110\n",
      "   macro avg       0.45      0.41      0.36       110\n",
      "weighted avg       0.66      0.41      0.47       110\n",
      "\n"
     ]
    },
    {
     "data": {
      "image/png": "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\n",
      "text/plain": [
       "<Figure size 360x288 with 2 Axes>"
      ]
     },
     "metadata": {
      "needs_background": "light"
     },
     "output_type": "display_data"
    }
   ],
   "source": [
    "modelSVCsigmoid.fit(X_sm,y_sm)\n",
    "printScore(modelSVCsigmoid,X_test,y_test)"
   ]
  },
  {
   "cell_type": "markdown",
   "id": "309206c4",
   "metadata": {},
   "source": [
    "### Random Forest Classifier"
   ]
  },
  {
   "cell_type": "code",
   "execution_count": 98,
   "id": "5b8fe376",
   "metadata": {},
   "outputs": [
    {
     "name": "stdout",
     "output_type": "stream",
     "text": [
      "accuracy: 0.9178082191780821\n"
     ]
    }
   ],
   "source": [
    "from sklearn.ensemble import RandomForestClassifier\n",
    "modelRF = RandomForestClassifier(n_estimators = 200,criterion='gini')\n",
    "score = cvs(modelRF,X,y,cv=5)\n",
    "print('accuracy:',np.mean(score))"
   ]
  },
  {
   "cell_type": "code",
   "execution_count": 99,
   "id": "91e9744e",
   "metadata": {},
   "outputs": [
    {
     "name": "stdout",
     "output_type": "stream",
     "text": [
      "              precision    recall  f1-score   support\n",
      "\n",
      "           0       0.96      0.97      0.96        91\n",
      "           1       0.83      0.79      0.81        19\n",
      "\n",
      "    accuracy                           0.94       110\n",
      "   macro avg       0.89      0.88      0.89       110\n",
      "weighted avg       0.94      0.94      0.94       110\n",
      "\n"
     ]
    },
    {
     "data": {
      "image/png": "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\n",
      "text/plain": [
       "<Figure size 360x288 with 2 Axes>"
      ]
     },
     "metadata": {
      "needs_background": "light"
     },
     "output_type": "display_data"
    }
   ],
   "source": [
    "modelRF.fit(X_sm,y_sm)\n",
    "printScore(modelRF,X_test,y_test)"
   ]
  },
  {
   "cell_type": "code",
   "execution_count": 118,
   "id": "ebd72c8d",
   "metadata": {},
   "outputs": [
    {
     "name": "stdout",
     "output_type": "stream",
     "text": [
      "0.9125375375375375\n"
     ]
    }
   ],
   "source": [
    "from sklearn.naive_bayes import GaussianNB\n",
    "modelGNB = GaussianNB()\n",
    "score = cvs(modelGNB,X,y,cv=10)\n",
    "print(np.mean(score))"
   ]
  },
  {
   "cell_type": "code",
   "execution_count": 119,
   "id": "5e47bff9",
   "metadata": {},
   "outputs": [
    {
     "name": "stdout",
     "output_type": "stream",
     "text": [
      "              precision    recall  f1-score   support\n",
      "\n",
      "           0       0.97      0.86      0.91        91\n",
      "           1       0.57      0.89      0.69        19\n",
      "\n",
      "    accuracy                           0.86       110\n",
      "   macro avg       0.77      0.88      0.80       110\n",
      "weighted avg       0.90      0.86      0.87       110\n",
      "\n"
     ]
    },
    {
     "data": {
      "image/png": "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\n",
      "text/plain": [
       "<Figure size 360x288 with 2 Axes>"
      ]
     },
     "metadata": {
      "needs_background": "light"
     },
     "output_type": "display_data"
    }
   ],
   "source": [
    "modelGNB.fit(X_sm,y_sm)\n",
    "printScore(modelGNB,X_test,y_test)"
   ]
  },
  {
   "cell_type": "markdown",
   "id": "dfb4c691",
   "metadata": {},
   "source": [
    "### Artificial Neural Network Model"
   ]
  },
  {
   "cell_type": "code",
   "execution_count": 83,
   "id": "87fc331a",
   "metadata": {},
   "outputs": [],
   "source": [
    "from tensorflow import keras \n",
    "import tensorflow as tf"
   ]
  },
  {
   "cell_type": "code",
   "execution_count": 108,
   "id": "d64a197d",
   "metadata": {},
   "outputs": [
    {
     "name": "stdout",
     "output_type": "stream",
     "text": [
      "Epoch 1/500\n",
      "14/14 [==============================] - 0s 2ms/step - loss: 0.6963 - accuracy: 0.5307\n",
      "Epoch 2/500\n",
      "14/14 [==============================] - 0s 2ms/step - loss: 0.6600 - accuracy: 0.6958\n",
      "Epoch 3/500\n",
      "14/14 [==============================] - 0s 2ms/step - loss: 0.6331 - accuracy: 0.7028\n",
      "Epoch 4/500\n",
      "14/14 [==============================] - 0s 2ms/step - loss: 0.6064 - accuracy: 0.7311\n",
      "Epoch 5/500\n",
      "14/14 [==============================] - 0s 2ms/step - loss: 0.5747 - accuracy: 0.7594\n",
      "Epoch 6/500\n",
      "14/14 [==============================] - 0s 2ms/step - loss: 0.5424 - accuracy: 0.7712\n",
      "Epoch 7/500\n",
      "14/14 [==============================] - 0s 2ms/step - loss: 0.5097 - accuracy: 0.7948\n",
      "Epoch 8/500\n",
      "14/14 [==============================] - 0s 2ms/step - loss: 0.4804 - accuracy: 0.8042\n",
      "Epoch 9/500\n",
      "14/14 [==============================] - 0s 2ms/step - loss: 0.4564 - accuracy: 0.8208\n",
      "Epoch 10/500\n",
      "14/14 [==============================] - 0s 2ms/step - loss: 0.4369 - accuracy: 0.8208\n",
      "Epoch 11/500\n",
      "14/14 [==============================] - 0s 2ms/step - loss: 0.4110 - accuracy: 0.8302\n",
      "Epoch 12/500\n",
      "14/14 [==============================] - 0s 2ms/step - loss: 0.3942 - accuracy: 0.8420\n",
      "Epoch 13/500\n",
      "14/14 [==============================] - 0s 3ms/step - loss: 0.3798 - accuracy: 0.8396\n",
      "Epoch 14/500\n",
      "14/14 [==============================] - 0s 2ms/step - loss: 0.3657 - accuracy: 0.8514\n",
      "Epoch 15/500\n",
      "14/14 [==============================] - 0s 2ms/step - loss: 0.3529 - accuracy: 0.8373\n",
      "Epoch 16/500\n",
      "14/14 [==============================] - 0s 2ms/step - loss: 0.3400 - accuracy: 0.8538\n",
      "Epoch 17/500\n",
      "14/14 [==============================] - 0s 2ms/step - loss: 0.3325 - accuracy: 0.8656\n",
      "Epoch 18/500\n",
      "14/14 [==============================] - 0s 2ms/step - loss: 0.3281 - accuracy: 0.8656\n",
      "Epoch 19/500\n",
      "14/14 [==============================] - 0s 3ms/step - loss: 0.3196 - accuracy: 0.8703\n",
      "Epoch 20/500\n",
      "14/14 [==============================] - 0s 3ms/step - loss: 0.3094 - accuracy: 0.8844\n",
      "Epoch 21/500\n",
      "14/14 [==============================] - 0s 2ms/step - loss: 0.3024 - accuracy: 0.8797\n",
      "Epoch 22/500\n",
      "14/14 [==============================] - 0s 2ms/step - loss: 0.2969 - accuracy: 0.8892\n",
      "Epoch 23/500\n",
      "14/14 [==============================] - 0s 2ms/step - loss: 0.2928 - accuracy: 0.8892\n",
      "Epoch 24/500\n",
      "14/14 [==============================] - 0s 2ms/step - loss: 0.2913 - accuracy: 0.8868\n",
      "Epoch 25/500\n",
      "14/14 [==============================] - 0s 2ms/step - loss: 0.2849 - accuracy: 0.8892\n",
      "Epoch 26/500\n",
      "14/14 [==============================] - 0s 2ms/step - loss: 0.2794 - accuracy: 0.8986\n",
      "Epoch 27/500\n",
      "14/14 [==============================] - 0s 3ms/step - loss: 0.2835 - accuracy: 0.8892\n",
      "Epoch 28/500\n",
      "14/14 [==============================] - 0s 2ms/step - loss: 0.2738 - accuracy: 0.8868\n",
      "Epoch 29/500\n",
      "14/14 [==============================] - 0s 2ms/step - loss: 0.2791 - accuracy: 0.8986\n",
      "Epoch 30/500\n",
      "14/14 [==============================] - 0s 2ms/step - loss: 0.2783 - accuracy: 0.8774\n",
      "Epoch 31/500\n",
      "14/14 [==============================] - 0s 3ms/step - loss: 0.2680 - accuracy: 0.9080\n",
      "Epoch 32/500\n",
      "14/14 [==============================] - 0s 2ms/step - loss: 0.2707 - accuracy: 0.8939\n",
      "Epoch 33/500\n",
      "14/14 [==============================] - 0s 3ms/step - loss: 0.2661 - accuracy: 0.9057\n",
      "Epoch 34/500\n",
      "14/14 [==============================] - 0s 2ms/step - loss: 0.2563 - accuracy: 0.9033\n",
      "Epoch 35/500\n",
      "14/14 [==============================] - 0s 2ms/step - loss: 0.2540 - accuracy: 0.9127\n",
      "Epoch 36/500\n",
      "14/14 [==============================] - 0s 3ms/step - loss: 0.2508 - accuracy: 0.9151\n",
      "Epoch 37/500\n",
      "14/14 [==============================] - 0s 2ms/step - loss: 0.2582 - accuracy: 0.8986\n",
      "Epoch 38/500\n",
      "14/14 [==============================] - 0s 3ms/step - loss: 0.2486 - accuracy: 0.9127\n",
      "Epoch 39/500\n",
      "14/14 [==============================] - 0s 2ms/step - loss: 0.2440 - accuracy: 0.9151\n",
      "Epoch 40/500\n",
      "14/14 [==============================] - 0s 3ms/step - loss: 0.2420 - accuracy: 0.9175\n",
      "Epoch 41/500\n",
      "14/14 [==============================] - 0s 2ms/step - loss: 0.2400 - accuracy: 0.9175\n",
      "Epoch 42/500\n",
      "14/14 [==============================] - 0s 2ms/step - loss: 0.2383 - accuracy: 0.9151\n",
      "Epoch 43/500\n",
      "14/14 [==============================] - 0s 2ms/step - loss: 0.2382 - accuracy: 0.9151\n",
      "Epoch 44/500\n",
      "14/14 [==============================] - 0s 2ms/step - loss: 0.2319 - accuracy: 0.9151\n",
      "Epoch 45/500\n",
      "14/14 [==============================] - 0s 2ms/step - loss: 0.2318 - accuracy: 0.9175\n",
      "Epoch 46/500\n",
      "14/14 [==============================] - 0s 2ms/step - loss: 0.2279 - accuracy: 0.9222\n",
      "Epoch 47/500\n",
      "14/14 [==============================] - 0s 2ms/step - loss: 0.2381 - accuracy: 0.9080\n",
      "Epoch 48/500\n",
      "14/14 [==============================] - 0s 3ms/step - loss: 0.2314 - accuracy: 0.9127\n",
      "Epoch 49/500\n",
      "14/14 [==============================] - ETA: 0s - loss: 0.2478 - accuracy: 0.87 - 0s 2ms/step - loss: 0.2263 - accuracy: 0.9222\n",
      "Epoch 50/500\n",
      "14/14 [==============================] - 0s 3ms/step - loss: 0.2245 - accuracy: 0.9151\n",
      "Epoch 51/500\n",
      "14/14 [==============================] - 0s 2ms/step - loss: 0.2228 - accuracy: 0.9175\n",
      "Epoch 52/500\n",
      "14/14 [==============================] - 0s 3ms/step - loss: 0.2211 - accuracy: 0.9127\n",
      "Epoch 53/500\n",
      "14/14 [==============================] - 0s 2ms/step - loss: 0.2178 - accuracy: 0.9198\n",
      "Epoch 54/500\n",
      "14/14 [==============================] - 0s 2ms/step - loss: 0.2186 - accuracy: 0.9080\n",
      "Epoch 55/500\n",
      "14/14 [==============================] - 0s 3ms/step - loss: 0.2172 - accuracy: 0.9175\n",
      "Epoch 56/500\n",
      "14/14 [==============================] - 0s 3ms/step - loss: 0.2136 - accuracy: 0.9175\n",
      "Epoch 57/500\n",
      "14/14 [==============================] - 0s 2ms/step - loss: 0.2111 - accuracy: 0.9127\n",
      "Epoch 58/500\n",
      "14/14 [==============================] - 0s 2ms/step - loss: 0.2172 - accuracy: 0.9151\n",
      "Epoch 59/500\n",
      "14/14 [==============================] - 0s 2ms/step - loss: 0.2111 - accuracy: 0.9151\n",
      "Epoch 60/500\n",
      "14/14 [==============================] - 0s 2ms/step - loss: 0.2096 - accuracy: 0.9175\n",
      "Epoch 61/500\n",
      "14/14 [==============================] - 0s 3ms/step - loss: 0.2080 - accuracy: 0.9151\n",
      "Epoch 62/500\n",
      "14/14 [==============================] - 0s 3ms/step - loss: 0.2034 - accuracy: 0.9175\n",
      "Epoch 63/500\n",
      "14/14 [==============================] - 0s 3ms/step - loss: 0.2021 - accuracy: 0.9222\n",
      "Epoch 64/500\n",
      "14/14 [==============================] - 0s 2ms/step - loss: 0.2022 - accuracy: 0.9198\n",
      "Epoch 65/500\n",
      "14/14 [==============================] - 0s 2ms/step - loss: 0.1998 - accuracy: 0.9175\n",
      "Epoch 66/500\n",
      "14/14 [==============================] - 0s 2ms/step - loss: 0.1982 - accuracy: 0.9222\n",
      "Epoch 67/500\n",
      "14/14 [==============================] - 0s 3ms/step - loss: 0.1982 - accuracy: 0.9245\n",
      "Epoch 68/500\n",
      "14/14 [==============================] - 0s 2ms/step - loss: 0.1965 - accuracy: 0.9245\n",
      "Epoch 69/500\n",
      "14/14 [==============================] - 0s 2ms/step - loss: 0.1942 - accuracy: 0.9292\n",
      "Epoch 70/500\n",
      "14/14 [==============================] - 0s 3ms/step - loss: 0.2052 - accuracy: 0.9151\n",
      "Epoch 71/500\n",
      "14/14 [==============================] - 0s 2ms/step - loss: 0.1892 - accuracy: 0.9222\n",
      "Epoch 72/500\n",
      "14/14 [==============================] - 0s 2ms/step - loss: 0.1925 - accuracy: 0.9269\n",
      "Epoch 73/500\n",
      "14/14 [==============================] - 0s 3ms/step - loss: 0.1880 - accuracy: 0.9269\n",
      "Epoch 74/500\n",
      "14/14 [==============================] - 0s 2ms/step - loss: 0.1921 - accuracy: 0.9175\n",
      "Epoch 75/500\n",
      "14/14 [==============================] - 0s 3ms/step - loss: 0.1951 - accuracy: 0.9198\n",
      "Epoch 76/500\n",
      "14/14 [==============================] - 0s 3ms/step - loss: 0.1943 - accuracy: 0.9292\n",
      "Epoch 77/500\n",
      "14/14 [==============================] - 0s 3ms/step - loss: 0.1827 - accuracy: 0.9292\n",
      "Epoch 78/500\n",
      "14/14 [==============================] - 0s 3ms/step - loss: 0.1839 - accuracy: 0.9316\n",
      "Epoch 79/500\n",
      "14/14 [==============================] - 0s 2ms/step - loss: 0.1890 - accuracy: 0.9269\n",
      "Epoch 80/500\n",
      "14/14 [==============================] - 0s 2ms/step - loss: 0.1823 - accuracy: 0.9292\n",
      "Epoch 81/500\n",
      "14/14 [==============================] - 0s 3ms/step - loss: 0.1882 - accuracy: 0.9292\n",
      "Epoch 82/500\n"
     ]
    },
    {
     "name": "stdout",
     "output_type": "stream",
     "text": [
      "14/14 [==============================] - 0s 3ms/step - loss: 0.1873 - accuracy: 0.9151\n",
      "Epoch 83/500\n",
      "14/14 [==============================] - 0s 3ms/step - loss: 0.1783 - accuracy: 0.9269\n",
      "Epoch 84/500\n",
      "14/14 [==============================] - 0s 3ms/step - loss: 0.1790 - accuracy: 0.9292\n",
      "Epoch 85/500\n",
      "14/14 [==============================] - 0s 3ms/step - loss: 0.1754 - accuracy: 0.9316\n",
      "Epoch 86/500\n",
      "14/14 [==============================] - 0s 3ms/step - loss: 0.1778 - accuracy: 0.9245\n",
      "Epoch 87/500\n",
      "14/14 [==============================] - 0s 2ms/step - loss: 0.1777 - accuracy: 0.9292\n",
      "Epoch 88/500\n",
      "14/14 [==============================] - 0s 2ms/step - loss: 0.1701 - accuracy: 0.9410\n",
      "Epoch 89/500\n",
      "14/14 [==============================] - 0s 2ms/step - loss: 0.1696 - accuracy: 0.9387\n",
      "Epoch 90/500\n",
      "14/14 [==============================] - 0s 2ms/step - loss: 0.1717 - accuracy: 0.9316\n",
      "Epoch 91/500\n",
      "14/14 [==============================] - 0s 2ms/step - loss: 0.1751 - accuracy: 0.9316\n",
      "Epoch 92/500\n",
      "14/14 [==============================] - 0s 2ms/step - loss: 0.1648 - accuracy: 0.9387\n",
      "Epoch 93/500\n",
      "14/14 [==============================] - 0s 2ms/step - loss: 0.1677 - accuracy: 0.9363\n",
      "Epoch 94/500\n",
      "14/14 [==============================] - 0s 2ms/step - loss: 0.1621 - accuracy: 0.9410\n",
      "Epoch 95/500\n",
      "14/14 [==============================] - 0s 2ms/step - loss: 0.1608 - accuracy: 0.9410\n",
      "Epoch 96/500\n",
      "14/14 [==============================] - 0s 2ms/step - loss: 0.1646 - accuracy: 0.9316\n",
      "Epoch 97/500\n",
      "14/14 [==============================] - 0s 2ms/step - loss: 0.1690 - accuracy: 0.9363\n",
      "Epoch 98/500\n",
      "14/14 [==============================] - 0s 2ms/step - loss: 0.1608 - accuracy: 0.9434\n",
      "Epoch 99/500\n",
      "14/14 [==============================] - 0s 2ms/step - loss: 0.1593 - accuracy: 0.9434\n",
      "Epoch 100/500\n",
      "14/14 [==============================] - 0s 2ms/step - loss: 0.1583 - accuracy: 0.9434\n",
      "Epoch 101/500\n",
      "14/14 [==============================] - 0s 2ms/step - loss: 0.1577 - accuracy: 0.9458\n",
      "Epoch 102/500\n",
      "14/14 [==============================] - 0s 2ms/step - loss: 0.1606 - accuracy: 0.9458\n",
      "Epoch 103/500\n",
      "14/14 [==============================] - 0s 2ms/step - loss: 0.1521 - accuracy: 0.9458\n",
      "Epoch 104/500\n",
      "14/14 [==============================] - 0s 2ms/step - loss: 0.1544 - accuracy: 0.9505\n",
      "Epoch 105/500\n",
      "14/14 [==============================] - 0s 2ms/step - loss: 0.1531 - accuracy: 0.9481\n",
      "Epoch 106/500\n",
      "14/14 [==============================] - 0s 2ms/step - loss: 0.1564 - accuracy: 0.9434\n",
      "Epoch 107/500\n",
      "14/14 [==============================] - 0s 2ms/step - loss: 0.1568 - accuracy: 0.9387\n",
      "Epoch 108/500\n",
      "14/14 [==============================] - 0s 2ms/step - loss: 0.1484 - accuracy: 0.9505\n",
      "Epoch 109/500\n",
      "14/14 [==============================] - 0s 2ms/step - loss: 0.1477 - accuracy: 0.9458\n",
      "Epoch 110/500\n",
      "14/14 [==============================] - 0s 2ms/step - loss: 0.1474 - accuracy: 0.9481\n",
      "Epoch 111/500\n",
      "14/14 [==============================] - 0s 2ms/step - loss: 0.1450 - accuracy: 0.9505\n",
      "Epoch 112/500\n",
      "14/14 [==============================] - 0s 2ms/step - loss: 0.1452 - accuracy: 0.9481\n",
      "Epoch 113/500\n",
      "14/14 [==============================] - 0s 2ms/step - loss: 0.1506 - accuracy: 0.9458\n",
      "Epoch 114/500\n",
      "14/14 [==============================] - 0s 2ms/step - loss: 0.1522 - accuracy: 0.9458\n",
      "Epoch 115/500\n",
      "14/14 [==============================] - 0s 2ms/step - loss: 0.1577 - accuracy: 0.9387\n",
      "Epoch 116/500\n",
      "14/14 [==============================] - 0s 2ms/step - loss: 0.1420 - accuracy: 0.9505\n",
      "Epoch 117/500\n",
      "14/14 [==============================] - 0s 2ms/step - loss: 0.1395 - accuracy: 0.9481\n",
      "Epoch 118/500\n",
      "14/14 [==============================] - 0s 2ms/step - loss: 0.1410 - accuracy: 0.9458\n",
      "Epoch 119/500\n",
      "14/14 [==============================] - 0s 2ms/step - loss: 0.1365 - accuracy: 0.9552\n",
      "Epoch 120/500\n",
      "14/14 [==============================] - 0s 2ms/step - loss: 0.1411 - accuracy: 0.9410\n",
      "Epoch 121/500\n",
      "14/14 [==============================] - 0s 2ms/step - loss: 0.1382 - accuracy: 0.9505\n",
      "Epoch 122/500\n",
      "14/14 [==============================] - 0s 2ms/step - loss: 0.1376 - accuracy: 0.9575\n",
      "Epoch 123/500\n",
      "14/14 [==============================] - 0s 2ms/step - loss: 0.1364 - accuracy: 0.9528\n",
      "Epoch 124/500\n",
      "14/14 [==============================] - 0s 2ms/step - loss: 0.1339 - accuracy: 0.9410\n",
      "Epoch 125/500\n",
      "14/14 [==============================] - 0s 3ms/step - loss: 0.1348 - accuracy: 0.9599\n",
      "Epoch 126/500\n",
      "14/14 [==============================] - 0s 2ms/step - loss: 0.1347 - accuracy: 0.9552\n",
      "Epoch 127/500\n",
      "14/14 [==============================] - 0s 2ms/step - loss: 0.1318 - accuracy: 0.9552\n",
      "Epoch 128/500\n",
      "14/14 [==============================] - 0s 2ms/step - loss: 0.1336 - accuracy: 0.9505\n",
      "Epoch 129/500\n",
      "14/14 [==============================] - 0s 3ms/step - loss: 0.1335 - accuracy: 0.9528\n",
      "Epoch 130/500\n",
      "14/14 [==============================] - 0s 2ms/step - loss: 0.1318 - accuracy: 0.9528\n",
      "Epoch 131/500\n",
      "14/14 [==============================] - 0s 2ms/step - loss: 0.1291 - accuracy: 0.9599\n",
      "Epoch 132/500\n",
      "14/14 [==============================] - 0s 2ms/step - loss: 0.1270 - accuracy: 0.9552\n",
      "Epoch 133/500\n",
      "14/14 [==============================] - 0s 2ms/step - loss: 0.1302 - accuracy: 0.9528\n",
      "Epoch 134/500\n",
      "14/14 [==============================] - 0s 2ms/step - loss: 0.1251 - accuracy: 0.9599\n",
      "Epoch 135/500\n",
      "14/14 [==============================] - 0s 2ms/step - loss: 0.1255 - accuracy: 0.9599\n",
      "Epoch 136/500\n",
      "14/14 [==============================] - 0s 2ms/step - loss: 0.1270 - accuracy: 0.9505\n",
      "Epoch 137/500\n",
      "14/14 [==============================] - 0s 2ms/step - loss: 0.1262 - accuracy: 0.9623\n",
      "Epoch 138/500\n",
      "14/14 [==============================] - 0s 2ms/step - loss: 0.1244 - accuracy: 0.9552\n",
      "Epoch 139/500\n",
      "14/14 [==============================] - 0s 2ms/step - loss: 0.1199 - accuracy: 0.9575\n",
      "Epoch 140/500\n",
      "14/14 [==============================] - 0s 2ms/step - loss: 0.1260 - accuracy: 0.9528\n",
      "Epoch 141/500\n",
      "14/14 [==============================] - 0s 2ms/step - loss: 0.1267 - accuracy: 0.9552\n",
      "Epoch 142/500\n",
      "14/14 [==============================] - 0s 2ms/step - loss: 0.1170 - accuracy: 0.9599\n",
      "Epoch 143/500\n",
      "14/14 [==============================] - 0s 2ms/step - loss: 0.1210 - accuracy: 0.9646\n",
      "Epoch 144/500\n",
      "14/14 [==============================] - 0s 2ms/step - loss: 0.1222 - accuracy: 0.9623\n",
      "Epoch 145/500\n",
      "14/14 [==============================] - 0s 2ms/step - loss: 0.1260 - accuracy: 0.9552\n",
      "Epoch 146/500\n",
      "14/14 [==============================] - 0s 2ms/step - loss: 0.1257 - accuracy: 0.9552\n",
      "Epoch 147/500\n",
      "14/14 [==============================] - 0s 2ms/step - loss: 0.1255 - accuracy: 0.9575\n",
      "Epoch 148/500\n",
      "14/14 [==============================] - ETA: 0s - loss: 0.0297 - accuracy: 1.00 - 0s 2ms/step - loss: 0.1170 - accuracy: 0.9599\n",
      "Epoch 149/500\n",
      "14/14 [==============================] - 0s 3ms/step - loss: 0.1265 - accuracy: 0.9458\n",
      "Epoch 150/500\n",
      "14/14 [==============================] - 0s 2ms/step - loss: 0.1252 - accuracy: 0.9599\n",
      "Epoch 151/500\n",
      "14/14 [==============================] - 0s 2ms/step - loss: 0.1176 - accuracy: 0.9646\n",
      "Epoch 152/500\n",
      "14/14 [==============================] - 0s 2ms/step - loss: 0.1149 - accuracy: 0.9599\n",
      "Epoch 153/500\n",
      "14/14 [==============================] - 0s 2ms/step - loss: 0.1121 - accuracy: 0.9623\n",
      "Epoch 154/500\n",
      "14/14 [==============================] - 0s 2ms/step - loss: 0.1122 - accuracy: 0.9575\n",
      "Epoch 155/500\n",
      "14/14 [==============================] - 0s 2ms/step - loss: 0.1137 - accuracy: 0.9599\n",
      "Epoch 156/500\n",
      "14/14 [==============================] - 0s 2ms/step - loss: 0.1123 - accuracy: 0.9623\n",
      "Epoch 157/500\n",
      "14/14 [==============================] - 0s 2ms/step - loss: 0.1114 - accuracy: 0.9599\n",
      "Epoch 158/500\n",
      "14/14 [==============================] - 0s 2ms/step - loss: 0.1110 - accuracy: 0.9623\n",
      "Epoch 159/500\n",
      "14/14 [==============================] - 0s 2ms/step - loss: 0.1106 - accuracy: 0.9646\n",
      "Epoch 160/500\n",
      "14/14 [==============================] - 0s 2ms/step - loss: 0.1193 - accuracy: 0.9552\n",
      "Epoch 161/500\n",
      "14/14 [==============================] - 0s 2ms/step - loss: 0.1321 - accuracy: 0.9528\n",
      "Epoch 162/500\n",
      "14/14 [==============================] - 0s 2ms/step - loss: 0.1076 - accuracy: 0.9623\n",
      "Epoch 163/500\n"
     ]
    },
    {
     "name": "stdout",
     "output_type": "stream",
     "text": [
      "14/14 [==============================] - 0s 2ms/step - loss: 0.1106 - accuracy: 0.9646\n",
      "Epoch 164/500\n",
      "14/14 [==============================] - 0s 2ms/step - loss: 0.1084 - accuracy: 0.9623\n",
      "Epoch 165/500\n",
      "14/14 [==============================] - 0s 2ms/step - loss: 0.1099 - accuracy: 0.9623\n",
      "Epoch 166/500\n",
      "14/14 [==============================] - 0s 2ms/step - loss: 0.1085 - accuracy: 0.9646\n",
      "Epoch 167/500\n",
      "14/14 [==============================] - 0s 2ms/step - loss: 0.1120 - accuracy: 0.9693\n",
      "Epoch 168/500\n",
      "14/14 [==============================] - 0s 2ms/step - loss: 0.1048 - accuracy: 0.9670\n",
      "Epoch 169/500\n",
      "14/14 [==============================] - 0s 2ms/step - loss: 0.1128 - accuracy: 0.9599\n",
      "Epoch 170/500\n",
      "14/14 [==============================] - 0s 2ms/step - loss: 0.1104 - accuracy: 0.9693\n",
      "Epoch 171/500\n",
      "14/14 [==============================] - 0s 2ms/step - loss: 0.1159 - accuracy: 0.9623\n",
      "Epoch 172/500\n",
      "14/14 [==============================] - 0s 2ms/step - loss: 0.1129 - accuracy: 0.9599\n",
      "Epoch 173/500\n",
      "14/14 [==============================] - 0s 2ms/step - loss: 0.1080 - accuracy: 0.9646\n",
      "Epoch 174/500\n",
      "14/14 [==============================] - 0s 2ms/step - loss: 0.1070 - accuracy: 0.9693\n",
      "Epoch 175/500\n",
      "14/14 [==============================] - 0s 2ms/step - loss: 0.1068 - accuracy: 0.9646\n",
      "Epoch 176/500\n",
      "14/14 [==============================] - 0s 2ms/step - loss: 0.0999 - accuracy: 0.9670\n",
      "Epoch 177/500\n",
      "14/14 [==============================] - 0s 2ms/step - loss: 0.1014 - accuracy: 0.9646\n",
      "Epoch 178/500\n",
      "14/14 [==============================] - 0s 2ms/step - loss: 0.1006 - accuracy: 0.9670\n",
      "Epoch 179/500\n",
      "14/14 [==============================] - 0s 3ms/step - loss: 0.1044 - accuracy: 0.9693\n",
      "Epoch 180/500\n",
      "14/14 [==============================] - 0s 2ms/step - loss: 0.1012 - accuracy: 0.9623\n",
      "Epoch 181/500\n",
      "14/14 [==============================] - 0s 2ms/step - loss: 0.0964 - accuracy: 0.9623\n",
      "Epoch 182/500\n",
      "14/14 [==============================] - 0s 3ms/step - loss: 0.0947 - accuracy: 0.9646\n",
      "Epoch 183/500\n",
      "14/14 [==============================] - 0s 2ms/step - loss: 0.0962 - accuracy: 0.9717\n",
      "Epoch 184/500\n",
      "14/14 [==============================] - 0s 3ms/step - loss: 0.0953 - accuracy: 0.9670\n",
      "Epoch 185/500\n",
      "14/14 [==============================] - 0s 2ms/step - loss: 0.0966 - accuracy: 0.9646\n",
      "Epoch 186/500\n",
      "14/14 [==============================] - 0s 2ms/step - loss: 0.0949 - accuracy: 0.9670\n",
      "Epoch 187/500\n",
      "14/14 [==============================] - 0s 2ms/step - loss: 0.0925 - accuracy: 0.9646\n",
      "Epoch 188/500\n",
      "14/14 [==============================] - 0s 2ms/step - loss: 0.0937 - accuracy: 0.9670\n",
      "Epoch 189/500\n",
      "14/14 [==============================] - 0s 3ms/step - loss: 0.0955 - accuracy: 0.9717\n",
      "Epoch 190/500\n",
      "14/14 [==============================] - 0s 2ms/step - loss: 0.0999 - accuracy: 0.9670\n",
      "Epoch 191/500\n",
      "14/14 [==============================] - 0s 2ms/step - loss: 0.0953 - accuracy: 0.9646\n",
      "Epoch 192/500\n",
      "14/14 [==============================] - 0s 2ms/step - loss: 0.0958 - accuracy: 0.9717\n",
      "Epoch 193/500\n",
      "14/14 [==============================] - 0s 2ms/step - loss: 0.0991 - accuracy: 0.9670\n",
      "Epoch 194/500\n",
      "14/14 [==============================] - 0s 3ms/step - loss: 0.0963 - accuracy: 0.9646\n",
      "Epoch 195/500\n",
      "14/14 [==============================] - 0s 3ms/step - loss: 0.0967 - accuracy: 0.9670\n",
      "Epoch 196/500\n",
      "14/14 [==============================] - 0s 5ms/step - loss: 0.0964 - accuracy: 0.9623\n",
      "Epoch 197/500\n",
      "14/14 [==============================] - 0s 3ms/step - loss: 0.1066 - accuracy: 0.9623\n",
      "Epoch 198/500\n",
      "14/14 [==============================] - 0s 3ms/step - loss: 0.1011 - accuracy: 0.9693\n",
      "Epoch 199/500\n",
      "14/14 [==============================] - 0s 3ms/step - loss: 0.0920 - accuracy: 0.9717\n",
      "Epoch 200/500\n",
      "14/14 [==============================] - ETA: 0s - loss: 0.1620 - accuracy: 0.93 - 0s 2ms/step - loss: 0.0888 - accuracy: 0.9717\n",
      "Epoch 201/500\n",
      "14/14 [==============================] - 0s 2ms/step - loss: 0.0920 - accuracy: 0.9670\n",
      "Epoch 202/500\n",
      "14/14 [==============================] - 0s 2ms/step - loss: 0.1010 - accuracy: 0.9670\n",
      "Epoch 203/500\n",
      "14/14 [==============================] - 0s 2ms/step - loss: 0.1012 - accuracy: 0.9670\n",
      "Epoch 204/500\n",
      "14/14 [==============================] - 0s 2ms/step - loss: 0.0880 - accuracy: 0.9788\n",
      "Epoch 205/500\n",
      "14/14 [==============================] - 0s 2ms/step - loss: 0.0920 - accuracy: 0.9693\n",
      "Epoch 206/500\n",
      "14/14 [==============================] - 0s 2ms/step - loss: 0.1014 - accuracy: 0.9717\n",
      "Epoch 207/500\n",
      "14/14 [==============================] - 0s 2ms/step - loss: 0.0925 - accuracy: 0.9646\n",
      "Epoch 208/500\n",
      "14/14 [==============================] - 0s 2ms/step - loss: 0.0918 - accuracy: 0.9670\n",
      "Epoch 209/500\n",
      "14/14 [==============================] - 0s 2ms/step - loss: 0.0889 - accuracy: 0.9788\n",
      "Epoch 210/500\n",
      "14/14 [==============================] - 0s 2ms/step - loss: 0.0845 - accuracy: 0.9693\n",
      "Epoch 211/500\n",
      "14/14 [==============================] - 0s 2ms/step - loss: 0.0880 - accuracy: 0.9717\n",
      "Epoch 212/500\n",
      "14/14 [==============================] - 0s 2ms/step - loss: 0.0874 - accuracy: 0.9788\n",
      "Epoch 213/500\n",
      "14/14 [==============================] - 0s 2ms/step - loss: 0.0954 - accuracy: 0.9623\n",
      "Epoch 214/500\n",
      "14/14 [==============================] - 0s 2ms/step - loss: 0.0805 - accuracy: 0.9741\n",
      "Epoch 215/500\n",
      "14/14 [==============================] - 0s 3ms/step - loss: 0.1018 - accuracy: 0.9670\n",
      "Epoch 216/500\n",
      "14/14 [==============================] - 0s 2ms/step - loss: 0.0928 - accuracy: 0.9693\n",
      "Epoch 217/500\n",
      "14/14 [==============================] - 0s 2ms/step - loss: 0.0792 - accuracy: 0.9764\n",
      "Epoch 218/500\n",
      "14/14 [==============================] - 0s 3ms/step - loss: 0.0824 - accuracy: 0.9717\n",
      "Epoch 219/500\n",
      "14/14 [==============================] - 0s 2ms/step - loss: 0.0842 - accuracy: 0.9717\n",
      "Epoch 220/500\n",
      "14/14 [==============================] - 0s 2ms/step - loss: 0.0827 - accuracy: 0.9741\n",
      "Epoch 221/500\n",
      "14/14 [==============================] - 0s 2ms/step - loss: 0.0845 - accuracy: 0.9764\n",
      "Epoch 222/500\n",
      "14/14 [==============================] - 0s 2ms/step - loss: 0.0868 - accuracy: 0.9764\n",
      "Epoch 223/500\n",
      "14/14 [==============================] - 0s 2ms/step - loss: 0.0854 - accuracy: 0.9717\n",
      "Epoch 224/500\n",
      "14/14 [==============================] - 0s 2ms/step - loss: 0.0839 - accuracy: 0.9646\n",
      "Epoch 225/500\n",
      "14/14 [==============================] - 0s 2ms/step - loss: 0.0907 - accuracy: 0.9646\n",
      "Epoch 226/500\n",
      "14/14 [==============================] - 0s 2ms/step - loss: 0.0784 - accuracy: 0.9741\n",
      "Epoch 227/500\n",
      "14/14 [==============================] - 0s 2ms/step - loss: 0.0793 - accuracy: 0.9693\n",
      "Epoch 228/500\n",
      "14/14 [==============================] - 0s 2ms/step - loss: 0.0835 - accuracy: 0.9717\n",
      "Epoch 229/500\n",
      "14/14 [==============================] - 0s 2ms/step - loss: 0.0808 - accuracy: 0.9693\n",
      "Epoch 230/500\n",
      "14/14 [==============================] - 0s 2ms/step - loss: 0.0794 - accuracy: 0.9788\n",
      "Epoch 231/500\n",
      "14/14 [==============================] - 0s 2ms/step - loss: 0.0786 - accuracy: 0.9764\n",
      "Epoch 232/500\n",
      "14/14 [==============================] - 0s 2ms/step - loss: 0.0757 - accuracy: 0.9717\n",
      "Epoch 233/500\n",
      "14/14 [==============================] - 0s 3ms/step - loss: 0.0763 - accuracy: 0.9741\n",
      "Epoch 234/500\n",
      "14/14 [==============================] - 0s 2ms/step - loss: 0.0734 - accuracy: 0.9741\n",
      "Epoch 235/500\n",
      "14/14 [==============================] - 0s 2ms/step - loss: 0.0757 - accuracy: 0.9741\n",
      "Epoch 236/500\n",
      "14/14 [==============================] - 0s 2ms/step - loss: 0.0774 - accuracy: 0.9764\n",
      "Epoch 237/500\n",
      "14/14 [==============================] - 0s 2ms/step - loss: 0.0719 - accuracy: 0.9788\n",
      "Epoch 238/500\n",
      "14/14 [==============================] - 0s 2ms/step - loss: 0.0733 - accuracy: 0.9764\n",
      "Epoch 239/500\n",
      "14/14 [==============================] - 0s 2ms/step - loss: 0.0712 - accuracy: 0.9764\n",
      "Epoch 240/500\n",
      "14/14 [==============================] - 0s 2ms/step - loss: 0.0740 - accuracy: 0.9788\n",
      "Epoch 241/500\n",
      "14/14 [==============================] - 0s 2ms/step - loss: 0.0741 - accuracy: 0.9741\n",
      "Epoch 242/500\n",
      "14/14 [==============================] - 0s 2ms/step - loss: 0.0745 - accuracy: 0.9764\n",
      "Epoch 243/500\n"
     ]
    },
    {
     "name": "stdout",
     "output_type": "stream",
     "text": [
      "14/14 [==============================] - 0s 2ms/step - loss: 0.0766 - accuracy: 0.9741\n",
      "Epoch 244/500\n",
      "14/14 [==============================] - 0s 2ms/step - loss: 0.0754 - accuracy: 0.9764\n",
      "Epoch 245/500\n",
      "14/14 [==============================] - 0s 2ms/step - loss: 0.0722 - accuracy: 0.9788\n",
      "Epoch 246/500\n",
      "14/14 [==============================] - 0s 3ms/step - loss: 0.0696 - accuracy: 0.9741\n",
      "Epoch 247/500\n",
      "14/14 [==============================] - 0s 2ms/step - loss: 0.0726 - accuracy: 0.9764\n",
      "Epoch 248/500\n",
      "14/14 [==============================] - 0s 3ms/step - loss: 0.0766 - accuracy: 0.9741\n",
      "Epoch 249/500\n",
      "14/14 [==============================] - ETA: 0s - loss: 0.0644 - accuracy: 0.96 - 0s 3ms/step - loss: 0.0847 - accuracy: 0.9693\n",
      "Epoch 250/500\n",
      "14/14 [==============================] - 0s 2ms/step - loss: 0.0751 - accuracy: 0.9717\n",
      "Epoch 251/500\n",
      "14/14 [==============================] - 0s 3ms/step - loss: 0.0753 - accuracy: 0.9764\n",
      "Epoch 252/500\n",
      "14/14 [==============================] - 0s 3ms/step - loss: 0.0690 - accuracy: 0.9788\n",
      "Epoch 253/500\n",
      "14/14 [==============================] - 0s 3ms/step - loss: 0.0782 - accuracy: 0.9764\n",
      "Epoch 254/500\n",
      "14/14 [==============================] - 0s 3ms/step - loss: 0.0694 - accuracy: 0.9811\n",
      "Epoch 255/500\n",
      "14/14 [==============================] - 0s 3ms/step - loss: 0.0664 - accuracy: 0.9788\n",
      "Epoch 256/500\n",
      "14/14 [==============================] - 0s 2ms/step - loss: 0.0660 - accuracy: 0.9811\n",
      "Epoch 257/500\n",
      "14/14 [==============================] - 0s 2ms/step - loss: 0.0662 - accuracy: 0.9788\n",
      "Epoch 258/500\n",
      "14/14 [==============================] - 0s 2ms/step - loss: 0.0807 - accuracy: 0.9717\n",
      "Epoch 259/500\n",
      "14/14 [==============================] - 0s 2ms/step - loss: 0.0667 - accuracy: 0.9835\n",
      "Epoch 260/500\n",
      "14/14 [==============================] - 0s 2ms/step - loss: 0.0700 - accuracy: 0.9670\n",
      "Epoch 261/500\n",
      "14/14 [==============================] - 0s 2ms/step - loss: 0.0736 - accuracy: 0.9717\n",
      "Epoch 262/500\n",
      "14/14 [==============================] - 0s 2ms/step - loss: 0.0663 - accuracy: 0.9788\n",
      "Epoch 263/500\n",
      "14/14 [==============================] - 0s 3ms/step - loss: 0.0665 - accuracy: 0.9811\n",
      "Epoch 264/500\n",
      "14/14 [==============================] - 0s 3ms/step - loss: 0.0657 - accuracy: 0.9764\n",
      "Epoch 265/500\n",
      "14/14 [==============================] - ETA: 0s - loss: 0.0382 - accuracy: 1.00 - 0s 2ms/step - loss: 0.0666 - accuracy: 0.9788\n",
      "Epoch 266/500\n",
      "14/14 [==============================] - 0s 3ms/step - loss: 0.0661 - accuracy: 0.9788\n",
      "Epoch 267/500\n",
      "14/14 [==============================] - 0s 3ms/step - loss: 0.0653 - accuracy: 0.9835\n",
      "Epoch 268/500\n",
      "14/14 [==============================] - 0s 2ms/step - loss: 0.0647 - accuracy: 0.9764\n",
      "Epoch 269/500\n",
      "14/14 [==============================] - 0s 2ms/step - loss: 0.0681 - accuracy: 0.9717\n",
      "Epoch 270/500\n",
      "14/14 [==============================] - 0s 3ms/step - loss: 0.0636 - accuracy: 0.9788\n",
      "Epoch 271/500\n",
      "14/14 [==============================] - 0s 2ms/step - loss: 0.0639 - accuracy: 0.9811\n",
      "Epoch 272/500\n",
      "14/14 [==============================] - 0s 2ms/step - loss: 0.0602 - accuracy: 0.9835\n",
      "Epoch 273/500\n",
      "14/14 [==============================] - 0s 2ms/step - loss: 0.0631 - accuracy: 0.9788\n",
      "Epoch 274/500\n",
      "14/14 [==============================] - 0s 2ms/step - loss: 0.0636 - accuracy: 0.9788\n",
      "Epoch 275/500\n",
      "14/14 [==============================] - 0s 2ms/step - loss: 0.0637 - accuracy: 0.9811\n",
      "Epoch 276/500\n",
      "14/14 [==============================] - 0s 2ms/step - loss: 0.0608 - accuracy: 0.9835\n",
      "Epoch 277/500\n",
      "14/14 [==============================] - 0s 2ms/step - loss: 0.0612 - accuracy: 0.9741\n",
      "Epoch 278/500\n",
      "14/14 [==============================] - 0s 3ms/step - loss: 0.0628 - accuracy: 0.9811\n",
      "Epoch 279/500\n",
      "14/14 [==============================] - 0s 2ms/step - loss: 0.0689 - accuracy: 0.9764\n",
      "Epoch 280/500\n",
      "14/14 [==============================] - 0s 2ms/step - loss: 0.0623 - accuracy: 0.9764\n",
      "Epoch 281/500\n",
      "14/14 [==============================] - 0s 2ms/step - loss: 0.0586 - accuracy: 0.9858\n",
      "Epoch 282/500\n",
      "14/14 [==============================] - 0s 3ms/step - loss: 0.0590 - accuracy: 0.9788\n",
      "Epoch 283/500\n",
      "14/14 [==============================] - 0s 3ms/step - loss: 0.0595 - accuracy: 0.9835\n",
      "Epoch 284/500\n",
      "14/14 [==============================] - 0s 3ms/step - loss: 0.0574 - accuracy: 0.9835\n",
      "Epoch 285/500\n",
      "14/14 [==============================] - 0s 3ms/step - loss: 0.0566 - accuracy: 0.9858\n",
      "Epoch 286/500\n",
      "14/14 [==============================] - 0s 2ms/step - loss: 0.0614 - accuracy: 0.9811\n",
      "Epoch 287/500\n",
      "14/14 [==============================] - 0s 2ms/step - loss: 0.0634 - accuracy: 0.9811\n",
      "Epoch 288/500\n",
      "14/14 [==============================] - 0s 3ms/step - loss: 0.0581 - accuracy: 0.9764\n",
      "Epoch 289/500\n",
      "14/14 [==============================] - ETA: 0s - loss: 0.0349 - accuracy: 1.00 - 0s 2ms/step - loss: 0.0579 - accuracy: 0.9835\n",
      "Epoch 290/500\n",
      "14/14 [==============================] - 0s 2ms/step - loss: 0.0805 - accuracy: 0.9835\n",
      "Epoch 291/500\n",
      "14/14 [==============================] - 0s 3ms/step - loss: 0.0662 - accuracy: 0.9788\n",
      "Epoch 292/500\n",
      "14/14 [==============================] - 0s 3ms/step - loss: 0.0683 - accuracy: 0.9717\n",
      "Epoch 293/500\n",
      "14/14 [==============================] - 0s 3ms/step - loss: 0.0587 - accuracy: 0.9811\n",
      "Epoch 294/500\n",
      "14/14 [==============================] - 0s 3ms/step - loss: 0.0559 - accuracy: 0.9811\n",
      "Epoch 295/500\n",
      "14/14 [==============================] - 0s 3ms/step - loss: 0.0603 - accuracy: 0.9811\n",
      "Epoch 296/500\n",
      "14/14 [==============================] - 0s 3ms/step - loss: 0.0550 - accuracy: 0.9858\n",
      "Epoch 297/500\n",
      "14/14 [==============================] - 0s 4ms/step - loss: 0.0698 - accuracy: 0.9717\n",
      "Epoch 298/500\n",
      "14/14 [==============================] - 0s 3ms/step - loss: 0.0689 - accuracy: 0.9717\n",
      "Epoch 299/500\n",
      "14/14 [==============================] - 0s 3ms/step - loss: 0.0541 - accuracy: 0.9835\n",
      "Epoch 300/500\n",
      "14/14 [==============================] - 0s 3ms/step - loss: 0.0533 - accuracy: 0.9858\n",
      "Epoch 301/500\n",
      "14/14 [==============================] - 0s 2ms/step - loss: 0.0565 - accuracy: 0.9858\n",
      "Epoch 302/500\n",
      "14/14 [==============================] - 0s 3ms/step - loss: 0.0524 - accuracy: 0.9858\n",
      "Epoch 303/500\n",
      "14/14 [==============================] - 0s 3ms/step - loss: 0.0527 - accuracy: 0.9858\n",
      "Epoch 304/500\n",
      "14/14 [==============================] - 0s 2ms/step - loss: 0.0597 - accuracy: 0.9882\n",
      "Epoch 305/500\n",
      "14/14 [==============================] - ETA: 0s - loss: 0.1876 - accuracy: 0.93 - 0s 2ms/step - loss: 0.0606 - accuracy: 0.9835\n",
      "Epoch 306/500\n",
      "14/14 [==============================] - 0s 2ms/step - loss: 0.0515 - accuracy: 0.9811\n",
      "Epoch 307/500\n",
      "14/14 [==============================] - 0s 2ms/step - loss: 0.0503 - accuracy: 0.9882\n",
      "Epoch 308/500\n",
      "14/14 [==============================] - 0s 2ms/step - loss: 0.0514 - accuracy: 0.9858\n",
      "Epoch 309/500\n",
      "14/14 [==============================] - 0s 2ms/step - loss: 0.0509 - accuracy: 0.9858\n",
      "Epoch 310/500\n",
      "14/14 [==============================] - 0s 2ms/step - loss: 0.0532 - accuracy: 0.9835\n",
      "Epoch 311/500\n",
      "14/14 [==============================] - 0s 2ms/step - loss: 0.0522 - accuracy: 0.9858\n",
      "Epoch 312/500\n",
      "14/14 [==============================] - 0s 2ms/step - loss: 0.0523 - accuracy: 0.9882\n",
      "Epoch 313/500\n",
      "14/14 [==============================] - 0s 2ms/step - loss: 0.0522 - accuracy: 0.9858\n",
      "Epoch 314/500\n",
      "14/14 [==============================] - 0s 2ms/step - loss: 0.0528 - accuracy: 0.9741\n",
      "Epoch 315/500\n",
      "14/14 [==============================] - 0s 2ms/step - loss: 0.0559 - accuracy: 0.9858\n",
      "Epoch 316/500\n",
      "14/14 [==============================] - 0s 2ms/step - loss: 0.0481 - accuracy: 0.9882\n",
      "Epoch 317/500\n",
      "14/14 [==============================] - 0s 2ms/step - loss: 0.0502 - accuracy: 0.9811\n",
      "Epoch 318/500\n",
      "14/14 [==============================] - 0s 2ms/step - loss: 0.0604 - accuracy: 0.9835\n",
      "Epoch 319/500\n",
      "14/14 [==============================] - 0s 2ms/step - loss: 0.0529 - accuracy: 0.9811\n",
      "Epoch 320/500\n",
      "14/14 [==============================] - 0s 2ms/step - loss: 0.0497 - accuracy: 0.9882\n",
      "Epoch 321/500\n",
      "14/14 [==============================] - 0s 2ms/step - loss: 0.0541 - accuracy: 0.9835\n",
      "Epoch 322/500\n"
     ]
    },
    {
     "name": "stdout",
     "output_type": "stream",
     "text": [
      "14/14 [==============================] - 0s 3ms/step - loss: 0.0647 - accuracy: 0.9811\n",
      "Epoch 323/500\n",
      "14/14 [==============================] - 0s 2ms/step - loss: 0.0612 - accuracy: 0.9882\n",
      "Epoch 324/500\n",
      "14/14 [==============================] - 0s 2ms/step - loss: 0.0516 - accuracy: 0.9835\n",
      "Epoch 325/500\n",
      "14/14 [==============================] - 0s 2ms/step - loss: 0.0516 - accuracy: 0.9835\n",
      "Epoch 326/500\n",
      "14/14 [==============================] - 0s 2ms/step - loss: 0.0488 - accuracy: 0.9858\n",
      "Epoch 327/500\n",
      "14/14 [==============================] - 0s 3ms/step - loss: 0.0459 - accuracy: 0.9835\n",
      "Epoch 328/500\n",
      "14/14 [==============================] - 0s 2ms/step - loss: 0.0461 - accuracy: 0.9929\n",
      "Epoch 329/500\n",
      "14/14 [==============================] - 0s 3ms/step - loss: 0.0500 - accuracy: 0.9882\n",
      "Epoch 330/500\n",
      "14/14 [==============================] - 0s 2ms/step - loss: 0.0502 - accuracy: 0.9835\n",
      "Epoch 331/500\n",
      "14/14 [==============================] - 0s 3ms/step - loss: 0.0484 - accuracy: 0.9882\n",
      "Epoch 332/500\n",
      "14/14 [==============================] - 0s 3ms/step - loss: 0.0478 - accuracy: 0.9835\n",
      "Epoch 333/500\n",
      "14/14 [==============================] - 0s 2ms/step - loss: 0.0478 - accuracy: 0.9906\n",
      "Epoch 334/500\n",
      "14/14 [==============================] - 0s 2ms/step - loss: 0.0512 - accuracy: 0.9858\n",
      "Epoch 335/500\n",
      "14/14 [==============================] - 0s 2ms/step - loss: 0.0536 - accuracy: 0.9835\n",
      "Epoch 336/500\n",
      "14/14 [==============================] - 0s 3ms/step - loss: 0.0455 - accuracy: 0.9906\n",
      "Epoch 337/500\n",
      "14/14 [==============================] - 0s 3ms/step - loss: 0.0474 - accuracy: 0.9858\n",
      "Epoch 338/500\n",
      "14/14 [==============================] - 0s 2ms/step - loss: 0.0469 - accuracy: 0.9811\n",
      "Epoch 339/500\n",
      "14/14 [==============================] - 0s 3ms/step - loss: 0.0503 - accuracy: 0.9906\n",
      "Epoch 340/500\n",
      "14/14 [==============================] - 0s 2ms/step - loss: 0.0439 - accuracy: 0.9858\n",
      "Epoch 341/500\n",
      "14/14 [==============================] - 0s 3ms/step - loss: 0.0463 - accuracy: 0.9929\n",
      "Epoch 342/500\n",
      "14/14 [==============================] - 0s 2ms/step - loss: 0.0452 - accuracy: 0.9882\n",
      "Epoch 343/500\n",
      "14/14 [==============================] - 0s 2ms/step - loss: 0.0452 - accuracy: 0.9906\n",
      "Epoch 344/500\n",
      "14/14 [==============================] - 0s 2ms/step - loss: 0.0480 - accuracy: 0.9882\n",
      "Epoch 345/500\n",
      "14/14 [==============================] - 0s 2ms/step - loss: 0.0428 - accuracy: 0.9882\n",
      "Epoch 346/500\n",
      "14/14 [==============================] - 0s 3ms/step - loss: 0.0457 - accuracy: 0.9882\n",
      "Epoch 347/500\n",
      "14/14 [==============================] - 0s 2ms/step - loss: 0.0488 - accuracy: 0.9835\n",
      "Epoch 348/500\n",
      "14/14 [==============================] - 0s 2ms/step - loss: 0.0417 - accuracy: 0.9882\n",
      "Epoch 349/500\n",
      "14/14 [==============================] - 0s 3ms/step - loss: 0.0426 - accuracy: 0.9906\n",
      "Epoch 350/500\n",
      "14/14 [==============================] - 0s 3ms/step - loss: 0.0454 - accuracy: 0.9882\n",
      "Epoch 351/500\n",
      "14/14 [==============================] - 0s 2ms/step - loss: 0.0408 - accuracy: 0.9976\n",
      "Epoch 352/500\n",
      "14/14 [==============================] - 0s 2ms/step - loss: 0.0560 - accuracy: 0.9788\n",
      "Epoch 353/500\n",
      "14/14 [==============================] - 0s 2ms/step - loss: 0.0435 - accuracy: 0.9882\n",
      "Epoch 354/500\n",
      "14/14 [==============================] - 0s 2ms/step - loss: 0.0395 - accuracy: 0.9929\n",
      "Epoch 355/500\n",
      "14/14 [==============================] - 0s 3ms/step - loss: 0.0409 - accuracy: 0.9929\n",
      "Epoch 356/500\n",
      "14/14 [==============================] - 0s 2ms/step - loss: 0.0398 - accuracy: 0.9906\n",
      "Epoch 357/500\n",
      "14/14 [==============================] - 0s 3ms/step - loss: 0.0392 - accuracy: 0.9953\n",
      "Epoch 358/500\n",
      "14/14 [==============================] - 0s 2ms/step - loss: 0.0405 - accuracy: 0.9906\n",
      "Epoch 359/500\n",
      "14/14 [==============================] - 0s 2ms/step - loss: 0.0411 - accuracy: 0.9906\n",
      "Epoch 360/500\n",
      "14/14 [==============================] - 0s 2ms/step - loss: 0.0560 - accuracy: 0.9858\n",
      "Epoch 361/500\n",
      "14/14 [==============================] - 0s 2ms/step - loss: 0.0423 - accuracy: 0.9953\n",
      "Epoch 362/500\n",
      "14/14 [==============================] - 0s 2ms/step - loss: 0.0434 - accuracy: 0.9858\n",
      "Epoch 363/500\n",
      "14/14 [==============================] - 0s 2ms/step - loss: 0.0449 - accuracy: 0.9882\n",
      "Epoch 364/500\n",
      "14/14 [==============================] - 0s 2ms/step - loss: 0.0421 - accuracy: 0.9882\n",
      "Epoch 365/500\n",
      "14/14 [==============================] - 0s 2ms/step - loss: 0.0402 - accuracy: 0.9882\n",
      "Epoch 366/500\n",
      "14/14 [==============================] - 0s 2ms/step - loss: 0.0395 - accuracy: 0.9906\n",
      "Epoch 367/500\n",
      "14/14 [==============================] - 0s 2ms/step - loss: 0.0394 - accuracy: 0.9929\n",
      "Epoch 368/500\n",
      "14/14 [==============================] - 0s 4ms/step - loss: 0.0473 - accuracy: 0.9906\n",
      "Epoch 369/500\n",
      "14/14 [==============================] - 0s 2ms/step - loss: 0.0413 - accuracy: 0.9882\n",
      "Epoch 370/500\n",
      "14/14 [==============================] - 0s 4ms/step - loss: 0.0402 - accuracy: 0.9953\n",
      "Epoch 371/500\n",
      "14/14 [==============================] - 0s 2ms/step - loss: 0.0382 - accuracy: 0.9882\n",
      "Epoch 372/500\n",
      "14/14 [==============================] - 0s 2ms/step - loss: 0.0391 - accuracy: 0.9906\n",
      "Epoch 373/500\n",
      "14/14 [==============================] - 0s 3ms/step - loss: 0.0381 - accuracy: 0.9953\n",
      "Epoch 374/500\n",
      "14/14 [==============================] - 0s 3ms/step - loss: 0.0365 - accuracy: 0.9906\n",
      "Epoch 375/500\n",
      "14/14 [==============================] - 0s 3ms/step - loss: 0.0386 - accuracy: 0.9976\n",
      "Epoch 376/500\n",
      "14/14 [==============================] - 0s 2ms/step - loss: 0.0405 - accuracy: 0.9882\n",
      "Epoch 377/500\n",
      "14/14 [==============================] - 0s 2ms/step - loss: 0.0358 - accuracy: 0.9906\n",
      "Epoch 378/500\n",
      "14/14 [==============================] - 0s 2ms/step - loss: 0.0357 - accuracy: 0.9929\n",
      "Epoch 379/500\n",
      "14/14 [==============================] - 0s 2ms/step - loss: 0.0332 - accuracy: 0.9953\n",
      "Epoch 380/500\n",
      "14/14 [==============================] - 0s 2ms/step - loss: 0.0369 - accuracy: 0.9906\n",
      "Epoch 381/500\n",
      "14/14 [==============================] - 0s 2ms/step - loss: 0.0365 - accuracy: 0.9906\n",
      "Epoch 382/500\n",
      "14/14 [==============================] - 0s 2ms/step - loss: 0.0338 - accuracy: 0.9929\n",
      "Epoch 383/500\n",
      "14/14 [==============================] - 0s 3ms/step - loss: 0.0346 - accuracy: 0.9906\n",
      "Epoch 384/500\n",
      "14/14 [==============================] - 0s 2ms/step - loss: 0.0340 - accuracy: 0.9953\n",
      "Epoch 385/500\n",
      "14/14 [==============================] - 0s 3ms/step - loss: 0.0371 - accuracy: 0.9953\n",
      "Epoch 386/500\n",
      "14/14 [==============================] - 0s 3ms/step - loss: 0.0452 - accuracy: 0.9882\n",
      "Epoch 387/500\n",
      "14/14 [==============================] - 0s 2ms/step - loss: 0.0333 - accuracy: 0.9953\n",
      "Epoch 388/500\n",
      "14/14 [==============================] - 0s 2ms/step - loss: 0.0344 - accuracy: 0.9929\n",
      "Epoch 389/500\n",
      "14/14 [==============================] - 0s 2ms/step - loss: 0.0342 - accuracy: 0.9929\n",
      "Epoch 390/500\n",
      "14/14 [==============================] - 0s 2ms/step - loss: 0.0436 - accuracy: 0.9882\n",
      "Epoch 391/500\n",
      "14/14 [==============================] - 0s 2ms/step - loss: 0.0357 - accuracy: 0.9929\n",
      "Epoch 392/500\n",
      "14/14 [==============================] - 0s 2ms/step - loss: 0.0343 - accuracy: 0.9906\n",
      "Epoch 393/500\n",
      "14/14 [==============================] - 0s 2ms/step - loss: 0.0352 - accuracy: 0.9906\n",
      "Epoch 394/500\n",
      "14/14 [==============================] - 0s 3ms/step - loss: 0.0322 - accuracy: 0.9953\n",
      "Epoch 395/500\n",
      "14/14 [==============================] - 0s 2ms/step - loss: 0.0341 - accuracy: 0.9929\n",
      "Epoch 396/500\n",
      "14/14 [==============================] - 0s 2ms/step - loss: 0.0316 - accuracy: 0.9976\n",
      "Epoch 397/500\n",
      "14/14 [==============================] - 0s 3ms/step - loss: 0.0339 - accuracy: 0.9953\n",
      "Epoch 398/500\n",
      "14/14 [==============================] - 0s 2ms/step - loss: 0.0309 - accuracy: 0.9953\n",
      "Epoch 399/500\n",
      "14/14 [==============================] - 0s 2ms/step - loss: 0.0417 - accuracy: 0.9906\n",
      "Epoch 400/500\n",
      "14/14 [==============================] - 0s 2ms/step - loss: 0.0390 - accuracy: 0.9882\n",
      "Epoch 401/500\n",
      "14/14 [==============================] - 0s 2ms/step - loss: 0.0375 - accuracy: 0.9882\n",
      "Epoch 402/500\n",
      "14/14 [==============================] - 0s 2ms/step - loss: 0.0395 - accuracy: 0.9906\n",
      "Epoch 403/500\n"
     ]
    },
    {
     "name": "stdout",
     "output_type": "stream",
     "text": [
      "14/14 [==============================] - 0s 3ms/step - loss: 0.0356 - accuracy: 0.9953\n",
      "Epoch 404/500\n",
      "14/14 [==============================] - 0s 3ms/step - loss: 0.0314 - accuracy: 0.9953\n",
      "Epoch 405/500\n",
      "14/14 [==============================] - 0s 3ms/step - loss: 0.0300 - accuracy: 0.9953\n",
      "Epoch 406/500\n",
      "14/14 [==============================] - 0s 3ms/step - loss: 0.0357 - accuracy: 0.9953\n",
      "Epoch 407/500\n",
      "14/14 [==============================] - 0s 3ms/step - loss: 0.0408 - accuracy: 0.9835\n",
      "Epoch 408/500\n",
      "14/14 [==============================] - 0s 2ms/step - loss: 0.0338 - accuracy: 0.9929\n",
      "Epoch 409/500\n",
      "14/14 [==============================] - 0s 2ms/step - loss: 0.0302 - accuracy: 0.9953\n",
      "Epoch 410/500\n",
      "14/14 [==============================] - 0s 2ms/step - loss: 0.0327 - accuracy: 0.9953\n",
      "Epoch 411/500\n",
      "14/14 [==============================] - 0s 2ms/step - loss: 0.0281 - accuracy: 0.9953\n",
      "Epoch 412/500\n",
      "14/14 [==============================] - 0s 2ms/step - loss: 0.0303 - accuracy: 0.9953\n",
      "Epoch 413/500\n",
      "14/14 [==============================] - 0s 2ms/step - loss: 0.0302 - accuracy: 0.9976\n",
      "Epoch 414/500\n",
      "14/14 [==============================] - 0s 3ms/step - loss: 0.0281 - accuracy: 0.9953\n",
      "Epoch 415/500\n",
      "14/14 [==============================] - 0s 2ms/step - loss: 0.0296 - accuracy: 0.9953\n",
      "Epoch 416/500\n",
      "14/14 [==============================] - 0s 2ms/step - loss: 0.0329 - accuracy: 0.9929\n",
      "Epoch 417/500\n",
      "14/14 [==============================] - 0s 2ms/step - loss: 0.0320 - accuracy: 0.9929\n",
      "Epoch 418/500\n",
      "14/14 [==============================] - 0s 2ms/step - loss: 0.0455 - accuracy: 0.9882\n",
      "Epoch 419/500\n",
      "14/14 [==============================] - ETA: 0s - loss: 0.0442 - accuracy: 1.00 - 0s 2ms/step - loss: 0.0387 - accuracy: 0.9929\n",
      "Epoch 420/500\n",
      "14/14 [==============================] - 0s 2ms/step - loss: 0.0303 - accuracy: 0.9953\n",
      "Epoch 421/500\n",
      "14/14 [==============================] - 0s 2ms/step - loss: 0.0309 - accuracy: 0.9953\n",
      "Epoch 422/500\n",
      "14/14 [==============================] - 0s 2ms/step - loss: 0.0284 - accuracy: 0.9976\n",
      "Epoch 423/500\n",
      "14/14 [==============================] - 0s 2ms/step - loss: 0.0276 - accuracy: 0.9953\n",
      "Epoch 424/500\n",
      "14/14 [==============================] - 0s 2ms/step - loss: 0.0308 - accuracy: 0.9953\n",
      "Epoch 425/500\n",
      "14/14 [==============================] - 0s 2ms/step - loss: 0.0281 - accuracy: 0.9953\n",
      "Epoch 426/500\n",
      "14/14 [==============================] - 0s 2ms/step - loss: 0.0262 - accuracy: 0.9976\n",
      "Epoch 427/500\n",
      "14/14 [==============================] - 0s 2ms/step - loss: 0.0283 - accuracy: 0.9953\n",
      "Epoch 428/500\n",
      "14/14 [==============================] - 0s 2ms/step - loss: 0.0260 - accuracy: 0.9976\n",
      "Epoch 429/500\n",
      "14/14 [==============================] - 0s 2ms/step - loss: 0.0281 - accuracy: 0.9953\n",
      "Epoch 430/500\n",
      "14/14 [==============================] - 0s 3ms/step - loss: 0.0269 - accuracy: 0.9976\n",
      "Epoch 431/500\n",
      "14/14 [==============================] - 0s 2ms/step - loss: 0.0266 - accuracy: 0.9953\n",
      "Epoch 432/500\n",
      "14/14 [==============================] - 0s 2ms/step - loss: 0.0254 - accuracy: 0.9953\n",
      "Epoch 433/500\n",
      "14/14 [==============================] - 0s 3ms/step - loss: 0.0281 - accuracy: 0.9953\n",
      "Epoch 434/500\n",
      "14/14 [==============================] - 0s 2ms/step - loss: 0.0270 - accuracy: 0.9929\n",
      "Epoch 435/500\n",
      "14/14 [==============================] - 0s 2ms/step - loss: 0.0261 - accuracy: 0.9953\n",
      "Epoch 436/500\n",
      "14/14 [==============================] - 0s 2ms/step - loss: 0.0314 - accuracy: 0.9953\n",
      "Epoch 437/500\n",
      "14/14 [==============================] - 0s 3ms/step - loss: 0.0368 - accuracy: 0.9953\n",
      "Epoch 438/500\n",
      "14/14 [==============================] - 0s 3ms/step - loss: 0.0292 - accuracy: 0.9953\n",
      "Epoch 439/500\n",
      "14/14 [==============================] - 0s 2ms/step - loss: 0.0271 - accuracy: 0.9953\n",
      "Epoch 440/500\n",
      "14/14 [==============================] - 0s 3ms/step - loss: 0.0260 - accuracy: 0.9953\n",
      "Epoch 441/500\n",
      "14/14 [==============================] - 0s 2ms/step - loss: 0.0251 - accuracy: 0.9953\n",
      "Epoch 442/500\n",
      "14/14 [==============================] - 0s 3ms/step - loss: 0.0261 - accuracy: 0.9953\n",
      "Epoch 443/500\n",
      "14/14 [==============================] - 0s 2ms/step - loss: 0.0258 - accuracy: 0.9953\n",
      "Epoch 444/500\n",
      "14/14 [==============================] - 0s 2ms/step - loss: 0.0256 - accuracy: 0.9953\n",
      "Epoch 445/500\n",
      "14/14 [==============================] - 0s 3ms/step - loss: 0.0251 - accuracy: 0.9976\n",
      "Epoch 446/500\n",
      "14/14 [==============================] - 0s 2ms/step - loss: 0.0243 - accuracy: 0.9953\n",
      "Epoch 447/500\n",
      "14/14 [==============================] - 0s 3ms/step - loss: 0.0266 - accuracy: 0.9929\n",
      "Epoch 448/500\n",
      "14/14 [==============================] - 0s 3ms/step - loss: 0.0237 - accuracy: 0.9976\n",
      "Epoch 449/500\n",
      "14/14 [==============================] - 0s 3ms/step - loss: 0.0246 - accuracy: 0.9953\n",
      "Epoch 450/500\n",
      "14/14 [==============================] - 0s 2ms/step - loss: 0.0244 - accuracy: 0.9953\n",
      "Epoch 451/500\n",
      "14/14 [==============================] - 0s 3ms/step - loss: 0.0256 - accuracy: 0.9929\n",
      "Epoch 452/500\n",
      "14/14 [==============================] - 0s 3ms/step - loss: 0.0247 - accuracy: 0.9953\n",
      "Epoch 453/500\n",
      "14/14 [==============================] - 0s 3ms/step - loss: 0.0230 - accuracy: 0.9976\n",
      "Epoch 454/500\n",
      "14/14 [==============================] - 0s 3ms/step - loss: 0.0241 - accuracy: 0.9953\n",
      "Epoch 455/500\n",
      "14/14 [==============================] - 0s 2ms/step - loss: 0.0234 - accuracy: 0.9953\n",
      "Epoch 456/500\n",
      "14/14 [==============================] - 0s 2ms/step - loss: 0.0237 - accuracy: 0.9976\n",
      "Epoch 457/500\n",
      "14/14 [==============================] - 0s 3ms/step - loss: 0.0233 - accuracy: 0.9953\n",
      "Epoch 458/500\n",
      "14/14 [==============================] - 0s 3ms/step - loss: 0.0254 - accuracy: 0.9953\n",
      "Epoch 459/500\n",
      "14/14 [==============================] - 0s 3ms/step - loss: 0.0255 - accuracy: 0.9929\n",
      "Epoch 460/500\n",
      "14/14 [==============================] - 0s 2ms/step - loss: 0.0231 - accuracy: 0.9953\n",
      "Epoch 461/500\n",
      "14/14 [==============================] - 0s 3ms/step - loss: 0.0233 - accuracy: 0.9953\n",
      "Epoch 462/500\n",
      "14/14 [==============================] - 0s 2ms/step - loss: 0.0256 - accuracy: 0.9953\n",
      "Epoch 463/500\n",
      "14/14 [==============================] - 0s 3ms/step - loss: 0.0218 - accuracy: 0.9953\n",
      "Epoch 464/500\n",
      "14/14 [==============================] - 0s 2ms/step - loss: 0.0231 - accuracy: 0.9953\n",
      "Epoch 465/500\n",
      "14/14 [==============================] - 0s 2ms/step - loss: 0.0217 - accuracy: 0.9953\n",
      "Epoch 466/500\n",
      "14/14 [==============================] - 0s 2ms/step - loss: 0.0219 - accuracy: 0.9976\n",
      "Epoch 467/500\n",
      "14/14 [==============================] - 0s 2ms/step - loss: 0.0225 - accuracy: 0.9953\n",
      "Epoch 468/500\n",
      "14/14 [==============================] - 0s 2ms/step - loss: 0.0219 - accuracy: 0.9953\n",
      "Epoch 469/500\n",
      "14/14 [==============================] - 0s 2ms/step - loss: 0.0203 - accuracy: 0.9976\n",
      "Epoch 470/500\n",
      "14/14 [==============================] - 0s 2ms/step - loss: 0.0208 - accuracy: 0.9976\n",
      "Epoch 471/500\n",
      "14/14 [==============================] - 0s 2ms/step - loss: 0.0207 - accuracy: 0.9953\n",
      "Epoch 472/500\n",
      "14/14 [==============================] - 0s 2ms/step - loss: 0.0286 - accuracy: 0.9976\n",
      "Epoch 473/500\n",
      "14/14 [==============================] - 0s 3ms/step - loss: 0.0248 - accuracy: 0.9953\n",
      "Epoch 474/500\n",
      "14/14 [==============================] - 0s 2ms/step - loss: 0.0225 - accuracy: 0.9976\n",
      "Epoch 475/500\n",
      "14/14 [==============================] - 0s 2ms/step - loss: 0.0211 - accuracy: 0.9953\n",
      "Epoch 476/500\n",
      "14/14 [==============================] - 0s 2ms/step - loss: 0.0213 - accuracy: 0.9976\n",
      "Epoch 477/500\n",
      "14/14 [==============================] - 0s 2ms/step - loss: 0.0272 - accuracy: 0.9953\n",
      "Epoch 478/500\n",
      "14/14 [==============================] - 0s 2ms/step - loss: 0.0203 - accuracy: 1.0000\n",
      "Epoch 479/500\n",
      "14/14 [==============================] - 0s 2ms/step - loss: 0.0228 - accuracy: 0.9929\n",
      "Epoch 480/500\n",
      "14/14 [==============================] - 0s 2ms/step - loss: 0.0227 - accuracy: 0.9976\n",
      "Epoch 481/500\n",
      "14/14 [==============================] - 0s 3ms/step - loss: 0.0199 - accuracy: 0.9953\n",
      "Epoch 482/500\n",
      "14/14 [==============================] - 0s 3ms/step - loss: 0.0187 - accuracy: 0.9976\n",
      "Epoch 483/500\n"
     ]
    },
    {
     "name": "stdout",
     "output_type": "stream",
     "text": [
      "14/14 [==============================] - 0s 3ms/step - loss: 0.0188 - accuracy: 0.9953\n",
      "Epoch 484/500\n",
      "14/14 [==============================] - 0s 2ms/step - loss: 0.0219 - accuracy: 0.9953\n",
      "Epoch 485/500\n",
      "14/14 [==============================] - 0s 3ms/step - loss: 0.0185 - accuracy: 0.9976\n",
      "Epoch 486/500\n",
      "14/14 [==============================] - 0s 3ms/step - loss: 0.0190 - accuracy: 0.9953\n",
      "Epoch 487/500\n",
      "14/14 [==============================] - 0s 3ms/step - loss: 0.0182 - accuracy: 0.9953\n",
      "Epoch 488/500\n",
      "14/14 [==============================] - 0s 3ms/step - loss: 0.0191 - accuracy: 0.9976\n",
      "Epoch 489/500\n",
      "14/14 [==============================] - 0s 3ms/step - loss: 0.0186 - accuracy: 0.9976\n",
      "Epoch 490/500\n",
      "14/14 [==============================] - 0s 2ms/step - loss: 0.0207 - accuracy: 0.9953\n",
      "Epoch 491/500\n",
      "14/14 [==============================] - 0s 2ms/step - loss: 0.0179 - accuracy: 0.9976\n",
      "Epoch 492/500\n",
      "14/14 [==============================] - 0s 2ms/step - loss: 0.0194 - accuracy: 0.9976\n",
      "Epoch 493/500\n",
      "14/14 [==============================] - 0s 3ms/step - loss: 0.0202 - accuracy: 0.9953\n",
      "Epoch 494/500\n",
      "14/14 [==============================] - 0s 3ms/step - loss: 0.0188 - accuracy: 0.9953\n",
      "Epoch 495/500\n",
      "14/14 [==============================] - 0s 3ms/step - loss: 0.0188 - accuracy: 0.9953\n",
      "Epoch 496/500\n",
      "14/14 [==============================] - 0s 2ms/step - loss: 0.0290 - accuracy: 0.9953\n",
      "Epoch 497/500\n",
      "14/14 [==============================] - 0s 3ms/step - loss: 0.0228 - accuracy: 0.9953\n",
      "Epoch 498/500\n",
      "14/14 [==============================] - 0s 3ms/step - loss: 0.0205 - accuracy: 0.9976\n",
      "Epoch 499/500\n",
      "14/14 [==============================] - 0s 2ms/step - loss: 0.0183 - accuracy: 0.9953\n",
      "Epoch 500/500\n",
      "14/14 [==============================] - 0s 3ms/step - loss: 0.0176 - accuracy: 0.9976\n"
     ]
    },
    {
     "data": {
      "text/plain": [
       "<tensorflow.python.keras.callbacks.History at 0x1d5675670d0>"
      ]
     },
     "execution_count": 108,
     "metadata": {},
     "output_type": "execute_result"
    }
   ],
   "source": [
    "modelNN = keras.Sequential([\n",
    "    keras.layers.Dense(100,input_shape=(X.shape[1],),activation='relu'),\n",
    "    keras.layers.Dense(10,activation='relu'),\n",
    "    keras.layers.Dense(1,activation='sigmoid')\n",
    "    \n",
    "])\n",
    "modelNN.compile(\n",
    "    optimizer = 'adam',\n",
    "    loss = 'binary_crossentropy',\n",
    "    metrics = ['accuracy']\n",
    ")\n",
    "modelNN.fit(X_sm,y_sm,epochs=500)"
   ]
  },
  {
   "cell_type": "code",
   "execution_count": 110,
   "id": "253a4b83",
   "metadata": {},
   "outputs": [
    {
     "name": "stdout",
     "output_type": "stream",
     "text": [
      "4/4 [==============================] - 0s 2ms/step - loss: 0.5184 - accuracy: 0.9364\n"
     ]
    },
    {
     "data": {
      "text/plain": [
       "[0.5184148550033569, 0.9363636374473572]"
      ]
     },
     "execution_count": 110,
     "metadata": {},
     "output_type": "execute_result"
    }
   ],
   "source": [
    "modelNN.evaluate(X_test,y_test)"
   ]
  },
  {
   "cell_type": "code",
   "execution_count": 111,
   "id": "404df86e",
   "metadata": {},
   "outputs": [],
   "source": [
    "y_p = modelNN.predict(X_test)"
   ]
  },
  {
   "cell_type": "code",
   "execution_count": 112,
   "id": "57648ffb",
   "metadata": {},
   "outputs": [],
   "source": [
    "y_predicted = []\n",
    "for yi in y_p:\n",
    "    if yi>0.5:\n",
    "        y_predicted.append(1)\n",
    "    else:\n",
    "        y_predicted.append(0)\n"
   ]
  },
  {
   "cell_type": "code",
   "execution_count": 113,
   "id": "20ebcf18",
   "metadata": {},
   "outputs": [
    {
     "name": "stdout",
     "output_type": "stream",
     "text": [
      "              precision    recall  f1-score   support\n",
      "\n",
      "           0       0.95      0.98      0.96        91\n",
      "           1       0.88      0.74      0.80        19\n",
      "\n",
      "    accuracy                           0.94       110\n",
      "   macro avg       0.91      0.86      0.88       110\n",
      "weighted avg       0.93      0.94      0.93       110\n",
      "\n"
     ]
    },
    {
     "data": {
      "text/plain": [
       "Text(24.0, 0.5, 'Predicted')"
      ]
     },
     "execution_count": 113,
     "metadata": {},
     "output_type": "execute_result"
    },
    {
     "data": {
      "image/png": "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\n",
      "text/plain": [
       "<Figure size 360x288 with 2 Axes>"
      ]
     },
     "metadata": {
      "needs_background": "light"
     },
     "output_type": "display_data"
    }
   ],
   "source": [
    "cm = tf.math.confusion_matrix(labels=y_test,predictions=y_predicted)\n",
    "print(classification_report(y_test,y_predicted))\n",
    "plt.figure(figsize = (5,4))\n",
    "sn.heatmap(cm, annot=True, fmt='d')\n",
    "plt.xlabel('Truth')\n",
    "plt.ylabel('Predicted')"
   ]
  },
  {
   "cell_type": "code",
   "execution_count": null,
   "id": "a8ef922b",
   "metadata": {},
   "outputs": [],
   "source": []
  }
 ],
 "metadata": {
  "kernelspec": {
   "display_name": "Python 3",
   "language": "python",
   "name": "python3"
  },
  "language_info": {
   "codemirror_mode": {
    "name": "ipython",
    "version": 3
   },
   "file_extension": ".py",
   "mimetype": "text/x-python",
   "name": "python",
   "nbconvert_exporter": "python",
   "pygments_lexer": "ipython3",
   "version": "3.8.8"
  }
 },
 "nbformat": 4,
 "nbformat_minor": 5
}
