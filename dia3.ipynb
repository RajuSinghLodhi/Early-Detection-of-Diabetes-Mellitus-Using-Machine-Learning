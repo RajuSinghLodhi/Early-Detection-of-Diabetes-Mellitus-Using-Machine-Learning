{
 "cells": [
  {
   "cell_type": "markdown",
   "id": "1c169bff",
   "metadata": {},
   "source": [
    "# Diabetes Prediction"
   ]
  },
  {
   "cell_type": "markdown",
   "id": "0ee8c6e0",
   "metadata": {},
   "source": [
    "Dataset : http://staff.pubhealth.ku.dk/~tag/Teaching/share/data/Diabetes.html "
   ]
  },
  {
   "cell_type": "code",
   "execution_count": 1,
   "id": "3ac5bcf0",
   "metadata": {},
   "outputs": [],
   "source": [
    "import numpy as np\n",
    "import pandas as pd\n",
    "from matplotlib import pyplot as plt\n",
    "%matplotlib inline\n",
    "import seaborn as sn"
   ]
  },
  {
   "cell_type": "code",
   "execution_count": 2,
   "id": "b27e07c6",
   "metadata": {},
   "outputs": [
    {
     "ename": "FileNotFoundError",
     "evalue": "[Errno 2] No such file or directory: 'DiabetesRegistry.csv'",
     "output_type": "error",
     "traceback": [
      "\u001b[1;31m---------------------------------------------------------------------------\u001b[0m",
      "\u001b[1;31mFileNotFoundError\u001b[0m                         Traceback (most recent call last)",
      "\u001b[1;32mC:\\Users\\HITEND~1\\AppData\\Local\\Temp/ipykernel_7644/3176897931.py\u001b[0m in \u001b[0;36m<module>\u001b[1;34m\u001b[0m\n\u001b[1;32m----> 1\u001b[1;33m \u001b[0mdf\u001b[0m \u001b[1;33m=\u001b[0m \u001b[0mpd\u001b[0m\u001b[1;33m.\u001b[0m\u001b[0mread_csv\u001b[0m\u001b[1;33m(\u001b[0m\u001b[1;34m'DiabetesRegistry.csv'\u001b[0m\u001b[1;33m)\u001b[0m\u001b[1;33m\u001b[0m\u001b[1;33m\u001b[0m\u001b[0m\n\u001b[0m",
      "\u001b[1;32mC:\\Anaconda\\lib\\site-packages\\pandas\\util\\_decorators.py\u001b[0m in \u001b[0;36mwrapper\u001b[1;34m(*args, **kwargs)\u001b[0m\n\u001b[0;32m    309\u001b[0m                     \u001b[0mstacklevel\u001b[0m\u001b[1;33m=\u001b[0m\u001b[0mstacklevel\u001b[0m\u001b[1;33m,\u001b[0m\u001b[1;33m\u001b[0m\u001b[1;33m\u001b[0m\u001b[0m\n\u001b[0;32m    310\u001b[0m                 )\n\u001b[1;32m--> 311\u001b[1;33m             \u001b[1;32mreturn\u001b[0m \u001b[0mfunc\u001b[0m\u001b[1;33m(\u001b[0m\u001b[1;33m*\u001b[0m\u001b[0margs\u001b[0m\u001b[1;33m,\u001b[0m \u001b[1;33m**\u001b[0m\u001b[0mkwargs\u001b[0m\u001b[1;33m)\u001b[0m\u001b[1;33m\u001b[0m\u001b[1;33m\u001b[0m\u001b[0m\n\u001b[0m\u001b[0;32m    312\u001b[0m \u001b[1;33m\u001b[0m\u001b[0m\n\u001b[0;32m    313\u001b[0m         \u001b[1;32mreturn\u001b[0m \u001b[0mwrapper\u001b[0m\u001b[1;33m\u001b[0m\u001b[1;33m\u001b[0m\u001b[0m\n",
      "\u001b[1;32mC:\\Anaconda\\lib\\site-packages\\pandas\\io\\parsers\\readers.py\u001b[0m in \u001b[0;36mread_csv\u001b[1;34m(filepath_or_buffer, sep, delimiter, header, names, index_col, usecols, squeeze, prefix, mangle_dupe_cols, dtype, engine, converters, true_values, false_values, skipinitialspace, skiprows, skipfooter, nrows, na_values, keep_default_na, na_filter, verbose, skip_blank_lines, parse_dates, infer_datetime_format, keep_date_col, date_parser, dayfirst, cache_dates, iterator, chunksize, compression, thousands, decimal, lineterminator, quotechar, quoting, doublequote, escapechar, comment, encoding, encoding_errors, dialect, error_bad_lines, warn_bad_lines, on_bad_lines, delim_whitespace, low_memory, memory_map, float_precision, storage_options)\u001b[0m\n\u001b[0;32m    584\u001b[0m     \u001b[0mkwds\u001b[0m\u001b[1;33m.\u001b[0m\u001b[0mupdate\u001b[0m\u001b[1;33m(\u001b[0m\u001b[0mkwds_defaults\u001b[0m\u001b[1;33m)\u001b[0m\u001b[1;33m\u001b[0m\u001b[1;33m\u001b[0m\u001b[0m\n\u001b[0;32m    585\u001b[0m \u001b[1;33m\u001b[0m\u001b[0m\n\u001b[1;32m--> 586\u001b[1;33m     \u001b[1;32mreturn\u001b[0m \u001b[0m_read\u001b[0m\u001b[1;33m(\u001b[0m\u001b[0mfilepath_or_buffer\u001b[0m\u001b[1;33m,\u001b[0m \u001b[0mkwds\u001b[0m\u001b[1;33m)\u001b[0m\u001b[1;33m\u001b[0m\u001b[1;33m\u001b[0m\u001b[0m\n\u001b[0m\u001b[0;32m    587\u001b[0m \u001b[1;33m\u001b[0m\u001b[0m\n\u001b[0;32m    588\u001b[0m \u001b[1;33m\u001b[0m\u001b[0m\n",
      "\u001b[1;32mC:\\Anaconda\\lib\\site-packages\\pandas\\io\\parsers\\readers.py\u001b[0m in \u001b[0;36m_read\u001b[1;34m(filepath_or_buffer, kwds)\u001b[0m\n\u001b[0;32m    480\u001b[0m \u001b[1;33m\u001b[0m\u001b[0m\n\u001b[0;32m    481\u001b[0m     \u001b[1;31m# Create the parser.\u001b[0m\u001b[1;33m\u001b[0m\u001b[1;33m\u001b[0m\u001b[0m\n\u001b[1;32m--> 482\u001b[1;33m     \u001b[0mparser\u001b[0m \u001b[1;33m=\u001b[0m \u001b[0mTextFileReader\u001b[0m\u001b[1;33m(\u001b[0m\u001b[0mfilepath_or_buffer\u001b[0m\u001b[1;33m,\u001b[0m \u001b[1;33m**\u001b[0m\u001b[0mkwds\u001b[0m\u001b[1;33m)\u001b[0m\u001b[1;33m\u001b[0m\u001b[1;33m\u001b[0m\u001b[0m\n\u001b[0m\u001b[0;32m    483\u001b[0m \u001b[1;33m\u001b[0m\u001b[0m\n\u001b[0;32m    484\u001b[0m     \u001b[1;32mif\u001b[0m \u001b[0mchunksize\u001b[0m \u001b[1;32mor\u001b[0m \u001b[0miterator\u001b[0m\u001b[1;33m:\u001b[0m\u001b[1;33m\u001b[0m\u001b[1;33m\u001b[0m\u001b[0m\n",
      "\u001b[1;32mC:\\Anaconda\\lib\\site-packages\\pandas\\io\\parsers\\readers.py\u001b[0m in \u001b[0;36m__init__\u001b[1;34m(self, f, engine, **kwds)\u001b[0m\n\u001b[0;32m    809\u001b[0m             \u001b[0mself\u001b[0m\u001b[1;33m.\u001b[0m\u001b[0moptions\u001b[0m\u001b[1;33m[\u001b[0m\u001b[1;34m\"has_index_names\"\u001b[0m\u001b[1;33m]\u001b[0m \u001b[1;33m=\u001b[0m \u001b[0mkwds\u001b[0m\u001b[1;33m[\u001b[0m\u001b[1;34m\"has_index_names\"\u001b[0m\u001b[1;33m]\u001b[0m\u001b[1;33m\u001b[0m\u001b[1;33m\u001b[0m\u001b[0m\n\u001b[0;32m    810\u001b[0m \u001b[1;33m\u001b[0m\u001b[0m\n\u001b[1;32m--> 811\u001b[1;33m         \u001b[0mself\u001b[0m\u001b[1;33m.\u001b[0m\u001b[0m_engine\u001b[0m \u001b[1;33m=\u001b[0m \u001b[0mself\u001b[0m\u001b[1;33m.\u001b[0m\u001b[0m_make_engine\u001b[0m\u001b[1;33m(\u001b[0m\u001b[0mself\u001b[0m\u001b[1;33m.\u001b[0m\u001b[0mengine\u001b[0m\u001b[1;33m)\u001b[0m\u001b[1;33m\u001b[0m\u001b[1;33m\u001b[0m\u001b[0m\n\u001b[0m\u001b[0;32m    812\u001b[0m \u001b[1;33m\u001b[0m\u001b[0m\n\u001b[0;32m    813\u001b[0m     \u001b[1;32mdef\u001b[0m \u001b[0mclose\u001b[0m\u001b[1;33m(\u001b[0m\u001b[0mself\u001b[0m\u001b[1;33m)\u001b[0m\u001b[1;33m:\u001b[0m\u001b[1;33m\u001b[0m\u001b[1;33m\u001b[0m\u001b[0m\n",
      "\u001b[1;32mC:\\Anaconda\\lib\\site-packages\\pandas\\io\\parsers\\readers.py\u001b[0m in \u001b[0;36m_make_engine\u001b[1;34m(self, engine)\u001b[0m\n\u001b[0;32m   1038\u001b[0m             )\n\u001b[0;32m   1039\u001b[0m         \u001b[1;31m# error: Too many arguments for \"ParserBase\"\u001b[0m\u001b[1;33m\u001b[0m\u001b[1;33m\u001b[0m\u001b[0m\n\u001b[1;32m-> 1040\u001b[1;33m         \u001b[1;32mreturn\u001b[0m \u001b[0mmapping\u001b[0m\u001b[1;33m[\u001b[0m\u001b[0mengine\u001b[0m\u001b[1;33m]\u001b[0m\u001b[1;33m(\u001b[0m\u001b[0mself\u001b[0m\u001b[1;33m.\u001b[0m\u001b[0mf\u001b[0m\u001b[1;33m,\u001b[0m \u001b[1;33m**\u001b[0m\u001b[0mself\u001b[0m\u001b[1;33m.\u001b[0m\u001b[0moptions\u001b[0m\u001b[1;33m)\u001b[0m  \u001b[1;31m# type: ignore[call-arg]\u001b[0m\u001b[1;33m\u001b[0m\u001b[1;33m\u001b[0m\u001b[0m\n\u001b[0m\u001b[0;32m   1041\u001b[0m \u001b[1;33m\u001b[0m\u001b[0m\n\u001b[0;32m   1042\u001b[0m     \u001b[1;32mdef\u001b[0m \u001b[0m_failover_to_python\u001b[0m\u001b[1;33m(\u001b[0m\u001b[0mself\u001b[0m\u001b[1;33m)\u001b[0m\u001b[1;33m:\u001b[0m\u001b[1;33m\u001b[0m\u001b[1;33m\u001b[0m\u001b[0m\n",
      "\u001b[1;32mC:\\Anaconda\\lib\\site-packages\\pandas\\io\\parsers\\c_parser_wrapper.py\u001b[0m in \u001b[0;36m__init__\u001b[1;34m(self, src, **kwds)\u001b[0m\n\u001b[0;32m     49\u001b[0m \u001b[1;33m\u001b[0m\u001b[0m\n\u001b[0;32m     50\u001b[0m         \u001b[1;31m# open handles\u001b[0m\u001b[1;33m\u001b[0m\u001b[1;33m\u001b[0m\u001b[0m\n\u001b[1;32m---> 51\u001b[1;33m         \u001b[0mself\u001b[0m\u001b[1;33m.\u001b[0m\u001b[0m_open_handles\u001b[0m\u001b[1;33m(\u001b[0m\u001b[0msrc\u001b[0m\u001b[1;33m,\u001b[0m \u001b[0mkwds\u001b[0m\u001b[1;33m)\u001b[0m\u001b[1;33m\u001b[0m\u001b[1;33m\u001b[0m\u001b[0m\n\u001b[0m\u001b[0;32m     52\u001b[0m         \u001b[1;32massert\u001b[0m \u001b[0mself\u001b[0m\u001b[1;33m.\u001b[0m\u001b[0mhandles\u001b[0m \u001b[1;32mis\u001b[0m \u001b[1;32mnot\u001b[0m \u001b[1;32mNone\u001b[0m\u001b[1;33m\u001b[0m\u001b[1;33m\u001b[0m\u001b[0m\n\u001b[0;32m     53\u001b[0m \u001b[1;33m\u001b[0m\u001b[0m\n",
      "\u001b[1;32mC:\\Anaconda\\lib\\site-packages\\pandas\\io\\parsers\\base_parser.py\u001b[0m in \u001b[0;36m_open_handles\u001b[1;34m(self, src, kwds)\u001b[0m\n\u001b[0;32m    220\u001b[0m         \u001b[0mLet\u001b[0m \u001b[0mthe\u001b[0m \u001b[0mreaders\u001b[0m \u001b[0mopen\u001b[0m \u001b[0mIOHandles\u001b[0m \u001b[0mafter\u001b[0m \u001b[0mthey\u001b[0m \u001b[0mare\u001b[0m \u001b[0mdone\u001b[0m \u001b[1;32mwith\u001b[0m \u001b[0mtheir\u001b[0m \u001b[0mpotential\u001b[0m \u001b[0mraises\u001b[0m\u001b[1;33m.\u001b[0m\u001b[1;33m\u001b[0m\u001b[1;33m\u001b[0m\u001b[0m\n\u001b[0;32m    221\u001b[0m         \"\"\"\n\u001b[1;32m--> 222\u001b[1;33m         self.handles = get_handle(\n\u001b[0m\u001b[0;32m    223\u001b[0m             \u001b[0msrc\u001b[0m\u001b[1;33m,\u001b[0m\u001b[1;33m\u001b[0m\u001b[1;33m\u001b[0m\u001b[0m\n\u001b[0;32m    224\u001b[0m             \u001b[1;34m\"r\"\u001b[0m\u001b[1;33m,\u001b[0m\u001b[1;33m\u001b[0m\u001b[1;33m\u001b[0m\u001b[0m\n",
      "\u001b[1;32mC:\\Anaconda\\lib\\site-packages\\pandas\\io\\common.py\u001b[0m in \u001b[0;36mget_handle\u001b[1;34m(path_or_buf, mode, encoding, compression, memory_map, is_text, errors, storage_options)\u001b[0m\n\u001b[0;32m    700\u001b[0m         \u001b[1;32mif\u001b[0m \u001b[0mioargs\u001b[0m\u001b[1;33m.\u001b[0m\u001b[0mencoding\u001b[0m \u001b[1;32mand\u001b[0m \u001b[1;34m\"b\"\u001b[0m \u001b[1;32mnot\u001b[0m \u001b[1;32min\u001b[0m \u001b[0mioargs\u001b[0m\u001b[1;33m.\u001b[0m\u001b[0mmode\u001b[0m\u001b[1;33m:\u001b[0m\u001b[1;33m\u001b[0m\u001b[1;33m\u001b[0m\u001b[0m\n\u001b[0;32m    701\u001b[0m             \u001b[1;31m# Encoding\u001b[0m\u001b[1;33m\u001b[0m\u001b[1;33m\u001b[0m\u001b[0m\n\u001b[1;32m--> 702\u001b[1;33m             handle = open(\n\u001b[0m\u001b[0;32m    703\u001b[0m                 \u001b[0mhandle\u001b[0m\u001b[1;33m,\u001b[0m\u001b[1;33m\u001b[0m\u001b[1;33m\u001b[0m\u001b[0m\n\u001b[0;32m    704\u001b[0m                 \u001b[0mioargs\u001b[0m\u001b[1;33m.\u001b[0m\u001b[0mmode\u001b[0m\u001b[1;33m,\u001b[0m\u001b[1;33m\u001b[0m\u001b[1;33m\u001b[0m\u001b[0m\n",
      "\u001b[1;31mFileNotFoundError\u001b[0m: [Errno 2] No such file or directory: 'DiabetesRegistry.csv'"
     ]
    }
   ],
   "source": [
    "df = pd.read_csv('DiabetesRegistry.csv')"
   ]
  },
  {
   "cell_type": "code",
   "execution_count": null,
   "id": "fec87a70",
   "metadata": {},
   "outputs": [],
   "source": [
    "df.shape"
   ]
  },
  {
   "cell_type": "code",
   "execution_count": null,
   "id": "8d1eddb2",
   "metadata": {
    "scrolled": true
   },
   "outputs": [],
   "source": [
    "df.head()"
   ]
  },
  {
   "cell_type": "markdown",
   "id": "2c9fb56e",
   "metadata": {},
   "source": [
    "**Filling missing blood pressure data and averageing the blood pressure values**"
   ]
  },
  {
   "cell_type": "code",
   "execution_count": null,
   "id": "d3d86714",
   "metadata": {},
   "outputs": [],
   "source": [
    "df['bp.2s'].fillna(df['bp.1s'],inplace=True)\n",
    "df['bp.2d'].fillna(df['bp.1d'],inplace=True)"
   ]
  },
  {
   "cell_type": "code",
   "execution_count": null,
   "id": "728a25c3",
   "metadata": {},
   "outputs": [],
   "source": [
    "systolicBP = (df['bp.1s']+df['bp.2s'])//2\n",
    "diastolicBP = (df['bp.1d']+df['bp.2d'])//2"
   ]
  },
  {
   "cell_type": "markdown",
   "id": "b3bd7c0f",
   "metadata": {},
   "source": [
    "**Calculating BMI**"
   ]
  },
  {
   "cell_type": "code",
   "execution_count": null,
   "id": "02cbc41f",
   "metadata": {},
   "outputs": [],
   "source": [
    "weight = (df['Weight 1']+df['Weight 2'])/2\n",
    "weightKG = weight *  0.45359237\n",
    "heightMeter = df['Height']*0.0254\n",
    "BMI = weightKG/(heightMeter**2)"
   ]
  },
  {
   "cell_type": "markdown",
   "id": "7a2b0c36",
   "metadata": {},
   "source": [
    "**Adding blood pressure and BMI columns to our Data Frame**"
   ]
  },
  {
   "cell_type": "code",
   "execution_count": null,
   "id": "c02f3d7b",
   "metadata": {},
   "outputs": [],
   "source": [
    "BP = pd.concat([systolicBP,diastolicBP,BMI],axis='columns',keys=['systolicBP','diastolicBP','BMI'])\n",
    "df = pd.concat([df,BP],axis='columns')\n",
    "df.drop(['bp.1s','bp.2s','bp.1d','bp.2d','Height','Weight 1','Weight 2'],axis='columns',inplace=True)"
   ]
  },
  {
   "cell_type": "markdown",
   "id": "fc3da8ec",
   "metadata": {},
   "source": [
    "**Calculating Waist to Hip ratio**"
   ]
  },
  {
   "cell_type": "code",
   "execution_count": 3,
   "id": "18605972",
   "metadata": {},
   "outputs": [
    {
     "ename": "NameError",
     "evalue": "name 'df' is not defined",
     "output_type": "error",
     "traceback": [
      "\u001b[1;31m---------------------------------------------------------------------------\u001b[0m",
      "\u001b[1;31mNameError\u001b[0m                                 Traceback (most recent call last)",
      "\u001b[1;32mC:\\Users\\HITEND~1\\AppData\\Local\\Temp/ipykernel_19160/254846243.py\u001b[0m in \u001b[0;36m<module>\u001b[1;34m\u001b[0m\n\u001b[1;32m----> 1\u001b[1;33m \u001b[0mW2Hratio\u001b[0m \u001b[1;33m=\u001b[0m \u001b[0mnp\u001b[0m\u001b[1;33m.\u001b[0m\u001b[0marray\u001b[0m\u001b[1;33m(\u001b[0m\u001b[0mdf\u001b[0m\u001b[1;33m[\u001b[0m\u001b[1;34m'waist'\u001b[0m\u001b[1;33m]\u001b[0m\u001b[1;33m)\u001b[0m\u001b[1;33m/\u001b[0m\u001b[0mnp\u001b[0m\u001b[1;33m.\u001b[0m\u001b[0marray\u001b[0m\u001b[1;33m(\u001b[0m\u001b[0mdf\u001b[0m\u001b[1;33m[\u001b[0m\u001b[1;34m'hip'\u001b[0m\u001b[1;33m]\u001b[0m\u001b[1;33m)\u001b[0m\u001b[1;33m\u001b[0m\u001b[1;33m\u001b[0m\u001b[0m\n\u001b[0m\u001b[0;32m      2\u001b[0m \u001b[0mW2Hratio\u001b[0m \u001b[1;33m=\u001b[0m \u001b[0mpd\u001b[0m\u001b[1;33m.\u001b[0m\u001b[0mDataFrame\u001b[0m\u001b[1;33m(\u001b[0m\u001b[0mW2Hratio\u001b[0m\u001b[1;33m,\u001b[0m\u001b[0mcolumns\u001b[0m\u001b[1;33m=\u001b[0m\u001b[1;33m[\u001b[0m\u001b[1;34m'W/H_ratio'\u001b[0m\u001b[1;33m]\u001b[0m\u001b[1;33m)\u001b[0m\u001b[1;33m\u001b[0m\u001b[1;33m\u001b[0m\u001b[0m\n\u001b[0;32m      3\u001b[0m \u001b[0mdf\u001b[0m \u001b[1;33m=\u001b[0m \u001b[0mpd\u001b[0m\u001b[1;33m.\u001b[0m\u001b[0mconcat\u001b[0m\u001b[1;33m(\u001b[0m\u001b[1;33m[\u001b[0m\u001b[0mdf\u001b[0m\u001b[1;33m,\u001b[0m\u001b[0mW2Hratio\u001b[0m\u001b[1;33m]\u001b[0m\u001b[1;33m,\u001b[0m\u001b[0maxis\u001b[0m\u001b[1;33m=\u001b[0m\u001b[1;34m'columns'\u001b[0m\u001b[1;33m)\u001b[0m\u001b[1;33m\u001b[0m\u001b[1;33m\u001b[0m\u001b[0m\n\u001b[0;32m      4\u001b[0m \u001b[0mdf\u001b[0m\u001b[1;33m.\u001b[0m\u001b[0mdrop\u001b[0m\u001b[1;33m(\u001b[0m\u001b[1;33m[\u001b[0m\u001b[1;34m'waist'\u001b[0m\u001b[1;33m,\u001b[0m\u001b[1;34m'hip'\u001b[0m\u001b[1;33m]\u001b[0m\u001b[1;33m,\u001b[0m\u001b[0maxis\u001b[0m \u001b[1;33m=\u001b[0m \u001b[1;34m'columns'\u001b[0m\u001b[1;33m,\u001b[0m\u001b[0minplace\u001b[0m\u001b[1;33m=\u001b[0m\u001b[1;32mTrue\u001b[0m\u001b[1;33m)\u001b[0m\u001b[1;33m\u001b[0m\u001b[1;33m\u001b[0m\u001b[0m\n",
      "\u001b[1;31mNameError\u001b[0m: name 'df' is not defined"
     ]
    }
   ],
   "source": [
    "W2Hratio = np.array(df['waist'])/np.array(df['hip'])\n",
    "W2Hratio = pd.DataFrame(W2Hratio,columns=['W/H_ratio'])\n",
    "df = pd.concat([df,W2Hratio],axis='columns')\n",
    "df.drop(['waist','hip'],axis = 'columns',inplace=True)"
   ]
  },
  {
   "cell_type": "code",
   "execution_count": 4,
   "id": "3d99a8d6",
   "metadata": {},
   "outputs": [
    {
     "ename": "NameError",
     "evalue": "name 'df' is not defined",
     "output_type": "error",
     "traceback": [
      "\u001b[1;31m---------------------------------------------------------------------------\u001b[0m",
      "\u001b[1;31mNameError\u001b[0m                                 Traceback (most recent call last)",
      "\u001b[1;32mC:\\Users\\HITEND~1\\AppData\\Local\\Temp/ipykernel_19160/964094849.py\u001b[0m in \u001b[0;36m<module>\u001b[1;34m\u001b[0m\n\u001b[1;32m----> 1\u001b[1;33m \u001b[0mdf\u001b[0m\u001b[1;33m.\u001b[0m\u001b[0mhead\u001b[0m\u001b[1;33m(\u001b[0m\u001b[1;33m)\u001b[0m\u001b[1;33m\u001b[0m\u001b[1;33m\u001b[0m\u001b[0m\n\u001b[0m",
      "\u001b[1;31mNameError\u001b[0m: name 'df' is not defined"
     ]
    }
   ],
   "source": [
    "df.head()"
   ]
  },
  {
   "cell_type": "markdown",
   "id": "3d07702f",
   "metadata": {},
   "source": [
    "**Using One Hot encoding for Gender column**"
   ]
  },
  {
   "cell_type": "code",
   "execution_count": 5,
   "id": "4e02d337",
   "metadata": {},
   "outputs": [
    {
     "ename": "NameError",
     "evalue": "name 'df' is not defined",
     "output_type": "error",
     "traceback": [
      "\u001b[1;31m---------------------------------------------------------------------------\u001b[0m",
      "\u001b[1;31mNameError\u001b[0m                                 Traceback (most recent call last)",
      "\u001b[1;32mC:\\Users\\HITEND~1\\AppData\\Local\\Temp/ipykernel_19160/22311985.py\u001b[0m in \u001b[0;36m<module>\u001b[1;34m\u001b[0m\n\u001b[1;32m----> 1\u001b[1;33m \u001b[0mG\u001b[0m \u001b[1;33m=\u001b[0m \u001b[0mpd\u001b[0m\u001b[1;33m.\u001b[0m\u001b[0mget_dummies\u001b[0m\u001b[1;33m(\u001b[0m\u001b[0mdf\u001b[0m\u001b[1;33m[\u001b[0m\u001b[1;34m'Gender'\u001b[0m\u001b[1;33m]\u001b[0m\u001b[1;33m)\u001b[0m\u001b[1;33m\u001b[0m\u001b[1;33m\u001b[0m\u001b[0m\n\u001b[0m\u001b[0;32m      2\u001b[0m \u001b[0mdf\u001b[0m \u001b[1;33m=\u001b[0m \u001b[0mpd\u001b[0m\u001b[1;33m.\u001b[0m\u001b[0mconcat\u001b[0m\u001b[1;33m(\u001b[0m\u001b[1;33m[\u001b[0m\u001b[0mdf\u001b[0m\u001b[1;33m,\u001b[0m\u001b[0mG\u001b[0m\u001b[1;33m]\u001b[0m\u001b[1;33m,\u001b[0m\u001b[0maxis\u001b[0m\u001b[1;33m=\u001b[0m\u001b[1;34m'columns'\u001b[0m\u001b[1;33m)\u001b[0m\u001b[1;33m\u001b[0m\u001b[1;33m\u001b[0m\u001b[0m\n\u001b[0;32m      3\u001b[0m \u001b[0mdf\u001b[0m\u001b[1;33m.\u001b[0m\u001b[0mdrop\u001b[0m\u001b[1;33m(\u001b[0m\u001b[1;33m[\u001b[0m\u001b[1;34m'Gender'\u001b[0m\u001b[1;33m,\u001b[0m\u001b[1;34m'male'\u001b[0m\u001b[1;33m]\u001b[0m\u001b[1;33m,\u001b[0m\u001b[0maxis\u001b[0m\u001b[1;33m=\u001b[0m\u001b[1;34m'columns'\u001b[0m\u001b[1;33m,\u001b[0m\u001b[0minplace\u001b[0m\u001b[1;33m=\u001b[0m\u001b[1;32mTrue\u001b[0m\u001b[1;33m)\u001b[0m\u001b[1;33m\u001b[0m\u001b[1;33m\u001b[0m\u001b[0m\n",
      "\u001b[1;31mNameError\u001b[0m: name 'df' is not defined"
     ]
    }
   ],
   "source": [
    "G = pd.get_dummies(df['Gender'])\n",
    "df = pd.concat([df,G],axis='columns')\n",
    "df.drop(['Gender','male'],axis='columns',inplace=True)"
   ]
  },
  {
   "cell_type": "markdown",
   "id": "74b9cc9d",
   "metadata": {},
   "source": [
    "**Label encoding for frame column**"
   ]
  },
  {
   "cell_type": "code",
   "execution_count": 6,
   "id": "3d6d8d85",
   "metadata": {},
   "outputs": [
    {
     "ename": "NameError",
     "evalue": "name 'df' is not defined",
     "output_type": "error",
     "traceback": [
      "\u001b[1;31m---------------------------------------------------------------------------\u001b[0m",
      "\u001b[1;31mNameError\u001b[0m                                 Traceback (most recent call last)",
      "\u001b[1;32mC:\\Users\\HITEND~1\\AppData\\Local\\Temp/ipykernel_19160/3523784833.py\u001b[0m in \u001b[0;36m<module>\u001b[1;34m\u001b[0m\n\u001b[0;32m      1\u001b[0m \u001b[1;32mfrom\u001b[0m \u001b[0msklearn\u001b[0m\u001b[1;33m.\u001b[0m\u001b[0mpreprocessing\u001b[0m \u001b[1;32mimport\u001b[0m \u001b[0mLabelEncoder\u001b[0m\u001b[1;33m\u001b[0m\u001b[1;33m\u001b[0m\u001b[0m\n\u001b[0;32m      2\u001b[0m \u001b[0mle\u001b[0m \u001b[1;33m=\u001b[0m \u001b[0mLabelEncoder\u001b[0m\u001b[1;33m(\u001b[0m\u001b[1;33m)\u001b[0m\u001b[1;33m\u001b[0m\u001b[1;33m\u001b[0m\u001b[0m\n\u001b[1;32m----> 3\u001b[1;33m \u001b[0mle\u001b[0m\u001b[1;33m.\u001b[0m\u001b[0mfit\u001b[0m\u001b[1;33m(\u001b[0m\u001b[0mdf\u001b[0m\u001b[1;33m[\u001b[0m\u001b[1;34m'frame'\u001b[0m\u001b[1;33m]\u001b[0m\u001b[1;33m)\u001b[0m\u001b[1;33m\u001b[0m\u001b[1;33m\u001b[0m\u001b[0m\n\u001b[0m\u001b[0;32m      4\u001b[0m \u001b[0mdf\u001b[0m\u001b[1;33m[\u001b[0m\u001b[1;34m'frame'\u001b[0m\u001b[1;33m]\u001b[0m \u001b[1;33m=\u001b[0m \u001b[0mle\u001b[0m\u001b[1;33m.\u001b[0m\u001b[0mtransform\u001b[0m\u001b[1;33m(\u001b[0m\u001b[0mdf\u001b[0m\u001b[1;33m[\u001b[0m\u001b[1;34m'frame'\u001b[0m\u001b[1;33m]\u001b[0m\u001b[1;33m)\u001b[0m\u001b[1;33m\u001b[0m\u001b[1;33m\u001b[0m\u001b[0m\n",
      "\u001b[1;31mNameError\u001b[0m: name 'df' is not defined"
     ]
    }
   ],
   "source": [
    "from sklearn.preprocessing import LabelEncoder\n",
    "le = LabelEncoder()\n",
    "le.fit(df['frame'])\n",
    "df['frame'] = le.transform(df['frame'])"
   ]
  },
  {
   "cell_type": "markdown",
   "id": "c3d7a21f",
   "metadata": {},
   "source": [
    "**Removing entries with empty data values**"
   ]
  },
  {
   "cell_type": "code",
   "execution_count": 7,
   "id": "72fcb2ca",
   "metadata": {},
   "outputs": [
    {
     "ename": "NameError",
     "evalue": "name 'df' is not defined",
     "output_type": "error",
     "traceback": [
      "\u001b[1;31m---------------------------------------------------------------------------\u001b[0m",
      "\u001b[1;31mNameError\u001b[0m                                 Traceback (most recent call last)",
      "\u001b[1;32mC:\\Users\\HITEND~1\\AppData\\Local\\Temp/ipykernel_19160/2311172004.py\u001b[0m in \u001b[0;36m<module>\u001b[1;34m\u001b[0m\n\u001b[1;32m----> 1\u001b[1;33m \u001b[0mdf\u001b[0m\u001b[1;33m.\u001b[0m\u001b[0mdropna\u001b[0m\u001b[1;33m(\u001b[0m\u001b[0maxis\u001b[0m\u001b[1;33m=\u001b[0m\u001b[1;36m0\u001b[0m\u001b[1;33m,\u001b[0m\u001b[0minplace\u001b[0m\u001b[1;33m=\u001b[0m\u001b[1;32mTrue\u001b[0m\u001b[1;33m)\u001b[0m\u001b[1;33m\u001b[0m\u001b[1;33m\u001b[0m\u001b[0m\n\u001b[0m",
      "\u001b[1;31mNameError\u001b[0m: name 'df' is not defined"
     ]
    }
   ],
   "source": [
    "df.dropna(axis=0,inplace=True)"
   ]
  },
  {
   "cell_type": "code",
   "execution_count": 8,
   "id": "d0b7bac8",
   "metadata": {},
   "outputs": [
    {
     "ename": "NameError",
     "evalue": "name 'df' is not defined",
     "output_type": "error",
     "traceback": [
      "\u001b[1;31m---------------------------------------------------------------------------\u001b[0m",
      "\u001b[1;31mNameError\u001b[0m                                 Traceback (most recent call last)",
      "\u001b[1;32mC:\\Users\\HITEND~1\\AppData\\Local\\Temp/ipykernel_19160/857714779.py\u001b[0m in \u001b[0;36m<module>\u001b[1;34m\u001b[0m\n\u001b[1;32m----> 1\u001b[1;33m \u001b[0mdf\u001b[0m\u001b[1;33m.\u001b[0m\u001b[0mshape\u001b[0m\u001b[1;33m\u001b[0m\u001b[1;33m\u001b[0m\u001b[0m\n\u001b[0m",
      "\u001b[1;31mNameError\u001b[0m: name 'df' is not defined"
     ]
    }
   ],
   "source": [
    "df.shape"
   ]
  },
  {
   "cell_type": "code",
   "execution_count": 9,
   "id": "ed5c384c",
   "metadata": {},
   "outputs": [
    {
     "ename": "NameError",
     "evalue": "name 'df' is not defined",
     "output_type": "error",
     "traceback": [
      "\u001b[1;31m---------------------------------------------------------------------------\u001b[0m",
      "\u001b[1;31mNameError\u001b[0m                                 Traceback (most recent call last)",
      "\u001b[1;32mC:\\Users\\HITEND~1\\AppData\\Local\\Temp/ipykernel_19160/223627333.py\u001b[0m in \u001b[0;36m<module>\u001b[1;34m\u001b[0m\n\u001b[1;32m----> 1\u001b[1;33m \u001b[0mdf\u001b[0m\u001b[1;33m.\u001b[0m\u001b[0mhead\u001b[0m\u001b[1;33m(\u001b[0m\u001b[1;36m5\u001b[0m\u001b[1;33m)\u001b[0m\u001b[1;33m\u001b[0m\u001b[1;33m\u001b[0m\u001b[0m\n\u001b[0m",
      "\u001b[1;31mNameError\u001b[0m: name 'df' is not defined"
     ]
    }
   ],
   "source": [
    "df.head(5)"
   ]
  },
  {
   "cell_type": "code",
   "execution_count": null,
   "id": "67695f57",
   "metadata": {},
   "outputs": [],
   "source": []
  },
  {
   "cell_type": "markdown",
   "id": "0ae9a646",
   "metadata": {},
   "source": [
    "**Visualising Data***"
   ]
  },
  {
   "cell_type": "code",
   "execution_count": 10,
   "id": "7654a09e",
   "metadata": {},
   "outputs": [
    {
     "ename": "NameError",
     "evalue": "name 'df' is not defined",
     "output_type": "error",
     "traceback": [
      "\u001b[1;31m---------------------------------------------------------------------------\u001b[0m",
      "\u001b[1;31mNameError\u001b[0m                                 Traceback (most recent call last)",
      "\u001b[1;32mC:\\Users\\HITEND~1\\AppData\\Local\\Temp/ipykernel_19160/2213585075.py\u001b[0m in \u001b[0;36m<module>\u001b[1;34m\u001b[0m\n\u001b[1;32m----> 1\u001b[1;33m \u001b[0mcorrelation_matrix\u001b[0m \u001b[1;33m=\u001b[0m \u001b[0mdf\u001b[0m\u001b[1;33m.\u001b[0m\u001b[0mcorr\u001b[0m\u001b[1;33m(\u001b[0m\u001b[1;33m)\u001b[0m\u001b[1;33m.\u001b[0m\u001b[0mround\u001b[0m\u001b[1;33m(\u001b[0m\u001b[1;36m3\u001b[0m\u001b[1;33m)\u001b[0m\u001b[1;33m\u001b[0m\u001b[1;33m\u001b[0m\u001b[0m\n\u001b[0m\u001b[0;32m      2\u001b[0m \u001b[0mplt\u001b[0m\u001b[1;33m.\u001b[0m\u001b[0mfigure\u001b[0m\u001b[1;33m(\u001b[0m\u001b[0mfigsize\u001b[0m \u001b[1;33m=\u001b[0m \u001b[1;33m(\u001b[0m\u001b[1;36m15\u001b[0m\u001b[1;33m,\u001b[0m\u001b[1;36m15\u001b[0m\u001b[1;33m)\u001b[0m\u001b[1;33m)\u001b[0m\u001b[1;33m\u001b[0m\u001b[1;33m\u001b[0m\u001b[0m\n\u001b[0;32m      3\u001b[0m \u001b[0mdataplot\u001b[0m \u001b[1;33m=\u001b[0m \u001b[0msn\u001b[0m\u001b[1;33m.\u001b[0m\u001b[0mheatmap\u001b[0m\u001b[1;33m(\u001b[0m\u001b[0mcorrelation_matrix\u001b[0m\u001b[1;33m,\u001b[0m \u001b[0mcmap\u001b[0m\u001b[1;33m=\u001b[0m\u001b[1;34m\"YlGnBu\"\u001b[0m\u001b[1;33m,\u001b[0m \u001b[0mannot\u001b[0m\u001b[1;33m=\u001b[0m\u001b[1;32mTrue\u001b[0m\u001b[1;33m,\u001b[0m\u001b[0msquare\u001b[0m \u001b[1;33m=\u001b[0m \u001b[1;32mTrue\u001b[0m\u001b[1;33m)\u001b[0m\u001b[1;33m\u001b[0m\u001b[1;33m\u001b[0m\u001b[0m\n\u001b[0;32m      4\u001b[0m \u001b[0mplt\u001b[0m\u001b[1;33m.\u001b[0m\u001b[0mshow\u001b[0m\u001b[1;33m(\u001b[0m\u001b[1;33m)\u001b[0m\u001b[1;33m\u001b[0m\u001b[1;33m\u001b[0m\u001b[0m\n",
      "\u001b[1;31mNameError\u001b[0m: name 'df' is not defined"
     ]
    }
   ],
   "source": [
    "correlation_matrix = df.corr().round(3)\n",
    "plt.figure(figsize = (15,15))\n",
    "dataplot = sn.heatmap(correlation_matrix, cmap=\"YlGnBu\", annot=True,square = True)\n",
    "plt.show()"
   ]
  },
  {
   "cell_type": "code",
   "execution_count": 11,
   "id": "ea66a19a",
   "metadata": {},
   "outputs": [
    {
     "ename": "NameError",
     "evalue": "name 'df' is not defined",
     "output_type": "error",
     "traceback": [
      "\u001b[1;31m---------------------------------------------------------------------------\u001b[0m",
      "\u001b[1;31mNameError\u001b[0m                                 Traceback (most recent call last)",
      "\u001b[1;32mC:\\Users\\HITEND~1\\AppData\\Local\\Temp/ipykernel_19160/139147865.py\u001b[0m in \u001b[0;36m<module>\u001b[1;34m\u001b[0m\n\u001b[1;32m----> 1\u001b[1;33m \u001b[0mdiaSet\u001b[0m \u001b[1;33m=\u001b[0m \u001b[0mdf\u001b[0m\u001b[1;33m[\u001b[0m\u001b[0mdf\u001b[0m\u001b[1;33m[\u001b[0m\u001b[1;34m'glyhb'\u001b[0m\u001b[1;33m]\u001b[0m\u001b[1;33m>=\u001b[0m\u001b[1;36m6.5\u001b[0m\u001b[1;33m]\u001b[0m\u001b[1;33m\u001b[0m\u001b[1;33m\u001b[0m\u001b[0m\n\u001b[0m\u001b[0;32m      2\u001b[0m \u001b[0mNodiaSet\u001b[0m \u001b[1;33m=\u001b[0m \u001b[0mdf\u001b[0m\u001b[1;33m[\u001b[0m\u001b[0mdf\u001b[0m\u001b[1;33m[\u001b[0m\u001b[1;34m'glyhb'\u001b[0m\u001b[1;33m]\u001b[0m\u001b[1;33m<\u001b[0m\u001b[1;36m6.5\u001b[0m\u001b[1;33m]\u001b[0m\u001b[1;33m\u001b[0m\u001b[1;33m\u001b[0m\u001b[0m\n",
      "\u001b[1;31mNameError\u001b[0m: name 'df' is not defined"
     ]
    }
   ],
   "source": [
    "diaSet = df[df['glyhb']>=6.5]\n",
    "NodiaSet = df[df['glyhb']<6.5]"
   ]
  },
  {
   "cell_type": "code",
   "execution_count": 12,
   "id": "baa1a6d5",
   "metadata": {
    "scrolled": true
   },
   "outputs": [
    {
     "ename": "NameError",
     "evalue": "name 'NodiaSet' is not defined",
     "output_type": "error",
     "traceback": [
      "\u001b[1;31m---------------------------------------------------------------------------\u001b[0m",
      "\u001b[1;31mNameError\u001b[0m                                 Traceback (most recent call last)",
      "\u001b[1;32mC:\\Users\\HITEND~1\\AppData\\Local\\Temp/ipykernel_19160/630324589.py\u001b[0m in \u001b[0;36m<module>\u001b[1;34m\u001b[0m\n\u001b[1;32m----> 1\u001b[1;33m \u001b[0mplt\u001b[0m\u001b[1;33m.\u001b[0m\u001b[0mscatter\u001b[0m\u001b[1;33m(\u001b[0m\u001b[0mNodiaSet\u001b[0m\u001b[1;33m[\u001b[0m\u001b[1;34m'stab.glu'\u001b[0m\u001b[1;33m]\u001b[0m\u001b[1;33m,\u001b[0m\u001b[0mNodiaSet\u001b[0m\u001b[1;33m[\u001b[0m\u001b[1;34m'ratio'\u001b[0m\u001b[1;33m]\u001b[0m\u001b[1;33m,\u001b[0m\u001b[0mcolor\u001b[0m\u001b[1;33m=\u001b[0m\u001b[1;34m'green'\u001b[0m\u001b[1;33m,\u001b[0m\u001b[0mlabel\u001b[0m \u001b[1;33m=\u001b[0m \u001b[1;34m\"Diabetes Negetive\"\u001b[0m\u001b[1;33m)\u001b[0m\u001b[1;33m\u001b[0m\u001b[1;33m\u001b[0m\u001b[0m\n\u001b[0m\u001b[0;32m      2\u001b[0m \u001b[0mplt\u001b[0m\u001b[1;33m.\u001b[0m\u001b[0mscatter\u001b[0m\u001b[1;33m(\u001b[0m\u001b[0mdiaSet\u001b[0m\u001b[1;33m[\u001b[0m\u001b[1;34m'stab.glu'\u001b[0m\u001b[1;33m]\u001b[0m\u001b[1;33m,\u001b[0m\u001b[0mdiaSet\u001b[0m\u001b[1;33m[\u001b[0m\u001b[1;34m'ratio'\u001b[0m\u001b[1;33m]\u001b[0m\u001b[1;33m,\u001b[0m\u001b[0mcolor\u001b[0m\u001b[1;33m=\u001b[0m\u001b[1;34m'red'\u001b[0m\u001b[1;33m,\u001b[0m\u001b[0mlabel\u001b[0m\u001b[1;33m=\u001b[0m\u001b[1;34m\"Diabetes Positive\"\u001b[0m\u001b[1;33m)\u001b[0m\u001b[1;33m\u001b[0m\u001b[1;33m\u001b[0m\u001b[0m\n\u001b[0;32m      3\u001b[0m \u001b[0mplt\u001b[0m\u001b[1;33m.\u001b[0m\u001b[0mxlabel\u001b[0m\u001b[1;33m(\u001b[0m\u001b[1;34m'Stabilized Glucose'\u001b[0m\u001b[1;33m)\u001b[0m\u001b[1;33m\u001b[0m\u001b[1;33m\u001b[0m\u001b[0m\n\u001b[0;32m      4\u001b[0m \u001b[0mplt\u001b[0m\u001b[1;33m.\u001b[0m\u001b[0mylabel\u001b[0m\u001b[1;33m(\u001b[0m\u001b[1;34m'Cholesterol Ratio'\u001b[0m\u001b[1;33m)\u001b[0m\u001b[1;33m\u001b[0m\u001b[1;33m\u001b[0m\u001b[0m\n\u001b[0;32m      5\u001b[0m \u001b[0mplt\u001b[0m\u001b[1;33m.\u001b[0m\u001b[0mlegend\u001b[0m\u001b[1;33m(\u001b[0m\u001b[1;33m)\u001b[0m\u001b[1;33m\u001b[0m\u001b[1;33m\u001b[0m\u001b[0m\n",
      "\u001b[1;31mNameError\u001b[0m: name 'NodiaSet' is not defined"
     ]
    }
   ],
   "source": [
    "plt.scatter(NodiaSet['stab.glu'],NodiaSet['ratio'],color='green',label = \"Diabetes Negetive\")\n",
    "plt.scatter(diaSet['stab.glu'],diaSet['ratio'],color='red',label=\"Diabetes Positive\")\n",
    "plt.xlabel('Stabilized Glucose')\n",
    "plt.ylabel('Cholesterol Ratio')\n",
    "plt.legend()\n",
    "plt.show()"
   ]
  },
  {
   "cell_type": "code",
   "execution_count": 13,
   "id": "addcb3d2",
   "metadata": {},
   "outputs": [
    {
     "ename": "NameError",
     "evalue": "name 'NodiaSet' is not defined",
     "output_type": "error",
     "traceback": [
      "\u001b[1;31m---------------------------------------------------------------------------\u001b[0m",
      "\u001b[1;31mNameError\u001b[0m                                 Traceback (most recent call last)",
      "\u001b[1;32mC:\\Users\\HITEND~1\\AppData\\Local\\Temp/ipykernel_19160/2045555301.py\u001b[0m in \u001b[0;36m<module>\u001b[1;34m\u001b[0m\n\u001b[1;32m----> 1\u001b[1;33m \u001b[0mplt\u001b[0m\u001b[1;33m.\u001b[0m\u001b[0mscatter\u001b[0m\u001b[1;33m(\u001b[0m\u001b[0mNodiaSet\u001b[0m\u001b[1;33m[\u001b[0m\u001b[1;34m'stab.glu'\u001b[0m\u001b[1;33m]\u001b[0m\u001b[1;33m,\u001b[0m\u001b[0mNodiaSet\u001b[0m\u001b[1;33m[\u001b[0m\u001b[1;34m'BMI'\u001b[0m\u001b[1;33m]\u001b[0m\u001b[1;33m,\u001b[0m\u001b[0mcolor\u001b[0m\u001b[1;33m=\u001b[0m\u001b[1;34m'green'\u001b[0m\u001b[1;33m,\u001b[0m\u001b[0mlabel\u001b[0m \u001b[1;33m=\u001b[0m \u001b[1;34m\"Diabetes Negetive\"\u001b[0m\u001b[1;33m)\u001b[0m\u001b[1;33m\u001b[0m\u001b[1;33m\u001b[0m\u001b[0m\n\u001b[0m\u001b[0;32m      2\u001b[0m \u001b[0mplt\u001b[0m\u001b[1;33m.\u001b[0m\u001b[0mscatter\u001b[0m\u001b[1;33m(\u001b[0m\u001b[0mdiaSet\u001b[0m\u001b[1;33m[\u001b[0m\u001b[1;34m'stab.glu'\u001b[0m\u001b[1;33m]\u001b[0m\u001b[1;33m,\u001b[0m\u001b[0mdiaSet\u001b[0m\u001b[1;33m[\u001b[0m\u001b[1;34m'BMI'\u001b[0m\u001b[1;33m]\u001b[0m\u001b[1;33m,\u001b[0m\u001b[0mcolor\u001b[0m\u001b[1;33m=\u001b[0m\u001b[1;34m'red'\u001b[0m\u001b[1;33m,\u001b[0m\u001b[0mlabel\u001b[0m\u001b[1;33m=\u001b[0m\u001b[1;34m\"Diabetes Positive\"\u001b[0m\u001b[1;33m)\u001b[0m\u001b[1;33m\u001b[0m\u001b[1;33m\u001b[0m\u001b[0m\n\u001b[0;32m      3\u001b[0m \u001b[0mplt\u001b[0m\u001b[1;33m.\u001b[0m\u001b[0mxlabel\u001b[0m\u001b[1;33m(\u001b[0m\u001b[1;34m'Stabilized Glucose'\u001b[0m\u001b[1;33m)\u001b[0m\u001b[1;33m\u001b[0m\u001b[1;33m\u001b[0m\u001b[0m\n\u001b[0;32m      4\u001b[0m \u001b[0mplt\u001b[0m\u001b[1;33m.\u001b[0m\u001b[0mylabel\u001b[0m\u001b[1;33m(\u001b[0m\u001b[1;34m'BMI'\u001b[0m\u001b[1;33m)\u001b[0m\u001b[1;33m\u001b[0m\u001b[1;33m\u001b[0m\u001b[0m\n\u001b[0;32m      5\u001b[0m \u001b[0mplt\u001b[0m\u001b[1;33m.\u001b[0m\u001b[0mlegend\u001b[0m\u001b[1;33m(\u001b[0m\u001b[1;33m)\u001b[0m\u001b[1;33m\u001b[0m\u001b[1;33m\u001b[0m\u001b[0m\n",
      "\u001b[1;31mNameError\u001b[0m: name 'NodiaSet' is not defined"
     ]
    }
   ],
   "source": [
    "plt.scatter(NodiaSet['stab.glu'],NodiaSet['BMI'],color='green',label = \"Diabetes Negetive\")\n",
    "plt.scatter(diaSet['stab.glu'],diaSet['BMI'],color='red',label=\"Diabetes Positive\")\n",
    "plt.xlabel('Stabilized Glucose')\n",
    "plt.ylabel('BMI')\n",
    "plt.legend()\n",
    "plt.show()"
   ]
  },
  {
   "cell_type": "code",
   "execution_count": 14,
   "id": "87f9f3b1",
   "metadata": {},
   "outputs": [],
   "source": [
    "features = ['ratio','Age','systolicBP','diastolicBP','BMI','W/H_ratio','stab.glu','frame','female']"
   ]
  },
  {
   "cell_type": "markdown",
   "id": "71792b92",
   "metadata": {},
   "source": [
    "**Normalising the deseried features**"
   ]
  },
  {
   "cell_type": "code",
   "execution_count": 23,
   "id": "732041ae",
   "metadata": {},
   "outputs": [],
   "source": [
    "dfNormal = df\n",
    "for col in features:\n",
    "    dfNormal[col] = (df[col]-df[col].min())/(df[col].max()-df[col].min())\n",
    "    "
   ]
  },
  {
   "cell_type": "code",
   "execution_count": 24,
   "id": "dc6e4ba0",
   "metadata": {
    "scrolled": true
   },
   "outputs": [
    {
     "data": {
      "text/html": [
       "<div>\n",
       "<style scoped>\n",
       "    .dataframe tbody tr th:only-of-type {\n",
       "        vertical-align: middle;\n",
       "    }\n",
       "\n",
       "    .dataframe tbody tr th {\n",
       "        vertical-align: top;\n",
       "    }\n",
       "\n",
       "    .dataframe thead th {\n",
       "        text-align: right;\n",
       "    }\n",
       "</style>\n",
       "<table border=\"1\" class=\"dataframe\">\n",
       "  <thead>\n",
       "    <tr style=\"text-align: right;\">\n",
       "      <th></th>\n",
       "      <th>id</th>\n",
       "      <th>chol</th>\n",
       "      <th>stab.glu</th>\n",
       "      <th>hdl</th>\n",
       "      <th>ratio</th>\n",
       "      <th>glyhb</th>\n",
       "      <th>Location</th>\n",
       "      <th>Age</th>\n",
       "      <th>frame</th>\n",
       "      <th>time.ppn</th>\n",
       "      <th>systolicBP</th>\n",
       "      <th>diastolicBP</th>\n",
       "      <th>BMI</th>\n",
       "      <th>W/H_ratio</th>\n",
       "      <th>female</th>\n",
       "    </tr>\n",
       "  </thead>\n",
       "  <tbody>\n",
       "    <tr>\n",
       "      <th>0</th>\n",
       "      <td>1000</td>\n",
       "      <td>203.0</td>\n",
       "      <td>0.100890</td>\n",
       "      <td>56.0</td>\n",
       "      <td>0.117978</td>\n",
       "      <td>4.31</td>\n",
       "      <td>Buckingham</td>\n",
       "      <td>0.369863</td>\n",
       "      <td>0.333333</td>\n",
       "      <td>720.0</td>\n",
       "      <td>0.17500</td>\n",
       "      <td>0.144737</td>\n",
       "      <td>0.151388</td>\n",
       "      <td>0.176427</td>\n",
       "      <td>1.0</td>\n",
       "    </tr>\n",
       "    <tr>\n",
       "      <th>1</th>\n",
       "      <td>1001</td>\n",
       "      <td>165.0</td>\n",
       "      <td>0.145401</td>\n",
       "      <td>24.0</td>\n",
       "      <td>0.303371</td>\n",
       "      <td>4.44</td>\n",
       "      <td>Buckingham</td>\n",
       "      <td>0.136986</td>\n",
       "      <td>0.000000</td>\n",
       "      <td>360.0</td>\n",
       "      <td>0.13750</td>\n",
       "      <td>0.263158</td>\n",
       "      <td>0.545386</td>\n",
       "      <td>0.599765</td>\n",
       "      <td>1.0</td>\n",
       "    </tr>\n",
       "    <tr>\n",
       "      <th>2</th>\n",
       "      <td>1002</td>\n",
       "      <td>228.0</td>\n",
       "      <td>0.130564</td>\n",
       "      <td>37.0</td>\n",
       "      <td>0.264045</td>\n",
       "      <td>4.64</td>\n",
       "      <td>Buckingham</td>\n",
       "      <td>0.534247</td>\n",
       "      <td>0.000000</td>\n",
       "      <td>180.0</td>\n",
       "      <td>0.60625</td>\n",
       "      <td>0.578947</td>\n",
       "      <td>0.792995</td>\n",
       "      <td>0.385718</td>\n",
       "      <td>1.0</td>\n",
       "    </tr>\n",
       "    <tr>\n",
       "      <th>3</th>\n",
       "      <td>1003</td>\n",
       "      <td>78.0</td>\n",
       "      <td>0.133531</td>\n",
       "      <td>12.0</td>\n",
       "      <td>0.280899</td>\n",
       "      <td>4.63</td>\n",
       "      <td>Buckingham</td>\n",
       "      <td>0.657534</td>\n",
       "      <td>0.000000</td>\n",
       "      <td>480.0</td>\n",
       "      <td>0.12500</td>\n",
       "      <td>0.026316</td>\n",
       "      <td>0.071076</td>\n",
       "      <td>0.404744</td>\n",
       "      <td>0.0</td>\n",
       "    </tr>\n",
       "    <tr>\n",
       "      <th>4</th>\n",
       "      <td>1005</td>\n",
       "      <td>249.0</td>\n",
       "      <td>0.124629</td>\n",
       "      <td>28.0</td>\n",
       "      <td>0.415730</td>\n",
       "      <td>7.72</td>\n",
       "      <td>Buckingham</td>\n",
       "      <td>0.616438</td>\n",
       "      <td>0.333333</td>\n",
       "      <td>300.0</td>\n",
       "      <td>0.30000</td>\n",
       "      <td>0.421053</td>\n",
       "      <td>0.293303</td>\n",
       "      <td>0.848849</td>\n",
       "      <td>0.0</td>\n",
       "    </tr>\n",
       "  </tbody>\n",
       "</table>\n",
       "</div>"
      ],
      "text/plain": [
       "     id   chol  stab.glu   hdl     ratio  glyhb    Location       Age  \\\n",
       "0  1000  203.0  0.100890  56.0  0.117978   4.31  Buckingham  0.369863   \n",
       "1  1001  165.0  0.145401  24.0  0.303371   4.44  Buckingham  0.136986   \n",
       "2  1002  228.0  0.130564  37.0  0.264045   4.64  Buckingham  0.534247   \n",
       "3  1003   78.0  0.133531  12.0  0.280899   4.63  Buckingham  0.657534   \n",
       "4  1005  249.0  0.124629  28.0  0.415730   7.72  Buckingham  0.616438   \n",
       "\n",
       "      frame  time.ppn  systolicBP  diastolicBP       BMI  W/H_ratio  female  \n",
       "0  0.333333     720.0     0.17500     0.144737  0.151388   0.176427     1.0  \n",
       "1  0.000000     360.0     0.13750     0.263158  0.545386   0.599765     1.0  \n",
       "2  0.000000     180.0     0.60625     0.578947  0.792995   0.385718     1.0  \n",
       "3  0.000000     480.0     0.12500     0.026316  0.071076   0.404744     0.0  \n",
       "4  0.333333     300.0     0.30000     0.421053  0.293303   0.848849     0.0  "
      ]
     },
     "execution_count": 24,
     "metadata": {},
     "output_type": "execute_result"
    }
   ],
   "source": [
    "dfNormal.head()"
   ]
  },
  {
   "cell_type": "code",
   "execution_count": 25,
   "id": "4c05ef2d",
   "metadata": {
    "scrolled": true
   },
   "outputs": [
    {
     "data": {
      "text/html": [
       "<div>\n",
       "<style scoped>\n",
       "    .dataframe tbody tr th:only-of-type {\n",
       "        vertical-align: middle;\n",
       "    }\n",
       "\n",
       "    .dataframe tbody tr th {\n",
       "        vertical-align: top;\n",
       "    }\n",
       "\n",
       "    .dataframe thead th {\n",
       "        text-align: right;\n",
       "    }\n",
       "</style>\n",
       "<table border=\"1\" class=\"dataframe\">\n",
       "  <thead>\n",
       "    <tr style=\"text-align: right;\">\n",
       "      <th></th>\n",
       "      <th>id</th>\n",
       "      <th>chol</th>\n",
       "      <th>stab.glu</th>\n",
       "      <th>hdl</th>\n",
       "      <th>ratio</th>\n",
       "      <th>glyhb</th>\n",
       "      <th>Location</th>\n",
       "      <th>Age</th>\n",
       "      <th>frame</th>\n",
       "      <th>time.ppn</th>\n",
       "      <th>systolicBP</th>\n",
       "      <th>diastolicBP</th>\n",
       "      <th>BMI</th>\n",
       "      <th>W/H_ratio</th>\n",
       "      <th>female</th>\n",
       "    </tr>\n",
       "  </thead>\n",
       "  <tbody>\n",
       "    <tr>\n",
       "      <th>0</th>\n",
       "      <td>1000</td>\n",
       "      <td>203.0</td>\n",
       "      <td>0.100890</td>\n",
       "      <td>56.0</td>\n",
       "      <td>0.117978</td>\n",
       "      <td>4.31</td>\n",
       "      <td>Buckingham</td>\n",
       "      <td>0.369863</td>\n",
       "      <td>0.333333</td>\n",
       "      <td>720.0</td>\n",
       "      <td>0.17500</td>\n",
       "      <td>0.144737</td>\n",
       "      <td>0.151388</td>\n",
       "      <td>0.176427</td>\n",
       "      <td>1.0</td>\n",
       "    </tr>\n",
       "    <tr>\n",
       "      <th>1</th>\n",
       "      <td>1001</td>\n",
       "      <td>165.0</td>\n",
       "      <td>0.145401</td>\n",
       "      <td>24.0</td>\n",
       "      <td>0.303371</td>\n",
       "      <td>4.44</td>\n",
       "      <td>Buckingham</td>\n",
       "      <td>0.136986</td>\n",
       "      <td>0.000000</td>\n",
       "      <td>360.0</td>\n",
       "      <td>0.13750</td>\n",
       "      <td>0.263158</td>\n",
       "      <td>0.545386</td>\n",
       "      <td>0.599765</td>\n",
       "      <td>1.0</td>\n",
       "    </tr>\n",
       "    <tr>\n",
       "      <th>2</th>\n",
       "      <td>1002</td>\n",
       "      <td>228.0</td>\n",
       "      <td>0.130564</td>\n",
       "      <td>37.0</td>\n",
       "      <td>0.264045</td>\n",
       "      <td>4.64</td>\n",
       "      <td>Buckingham</td>\n",
       "      <td>0.534247</td>\n",
       "      <td>0.000000</td>\n",
       "      <td>180.0</td>\n",
       "      <td>0.60625</td>\n",
       "      <td>0.578947</td>\n",
       "      <td>0.792995</td>\n",
       "      <td>0.385718</td>\n",
       "      <td>1.0</td>\n",
       "    </tr>\n",
       "    <tr>\n",
       "      <th>3</th>\n",
       "      <td>1003</td>\n",
       "      <td>78.0</td>\n",
       "      <td>0.133531</td>\n",
       "      <td>12.0</td>\n",
       "      <td>0.280899</td>\n",
       "      <td>4.63</td>\n",
       "      <td>Buckingham</td>\n",
       "      <td>0.657534</td>\n",
       "      <td>0.000000</td>\n",
       "      <td>480.0</td>\n",
       "      <td>0.12500</td>\n",
       "      <td>0.026316</td>\n",
       "      <td>0.071076</td>\n",
       "      <td>0.404744</td>\n",
       "      <td>0.0</td>\n",
       "    </tr>\n",
       "    <tr>\n",
       "      <th>4</th>\n",
       "      <td>1005</td>\n",
       "      <td>249.0</td>\n",
       "      <td>0.124629</td>\n",
       "      <td>28.0</td>\n",
       "      <td>0.415730</td>\n",
       "      <td>7.72</td>\n",
       "      <td>Buckingham</td>\n",
       "      <td>0.616438</td>\n",
       "      <td>0.333333</td>\n",
       "      <td>300.0</td>\n",
       "      <td>0.30000</td>\n",
       "      <td>0.421053</td>\n",
       "      <td>0.293303</td>\n",
       "      <td>0.848849</td>\n",
       "      <td>0.0</td>\n",
       "    </tr>\n",
       "  </tbody>\n",
       "</table>\n",
       "</div>"
      ],
      "text/plain": [
       "     id   chol  stab.glu   hdl     ratio  glyhb    Location       Age  \\\n",
       "0  1000  203.0  0.100890  56.0  0.117978   4.31  Buckingham  0.369863   \n",
       "1  1001  165.0  0.145401  24.0  0.303371   4.44  Buckingham  0.136986   \n",
       "2  1002  228.0  0.130564  37.0  0.264045   4.64  Buckingham  0.534247   \n",
       "3  1003   78.0  0.133531  12.0  0.280899   4.63  Buckingham  0.657534   \n",
       "4  1005  249.0  0.124629  28.0  0.415730   7.72  Buckingham  0.616438   \n",
       "\n",
       "      frame  time.ppn  systolicBP  diastolicBP       BMI  W/H_ratio  female  \n",
       "0  0.333333     720.0     0.17500     0.144737  0.151388   0.176427     1.0  \n",
       "1  0.000000     360.0     0.13750     0.263158  0.545386   0.599765     1.0  \n",
       "2  0.000000     180.0     0.60625     0.578947  0.792995   0.385718     1.0  \n",
       "3  0.000000     480.0     0.12500     0.026316  0.071076   0.404744     0.0  \n",
       "4  0.333333     300.0     0.30000     0.421053  0.293303   0.848849     0.0  "
      ]
     },
     "execution_count": 25,
     "metadata": {},
     "output_type": "execute_result"
    }
   ],
   "source": [
    "meanRatio = dfNormal['ratio'].mean()\n",
    "meanAge = dfNormal['Age'].mean()\n",
    "meansystolicBP = dfNormal['systolicBP'].mean()\n",
    "meandiastolicBP = dfNormal['diastolicBP'].mean()\n",
    "meanglu = dfNormal['stab.glu'].mean()\n",
    "meanBMI = dfNormal['BMI'].mean()\n",
    "sdRatio = dfNormal['ratio'].std()\n",
    "sdAge = dfNormal['Age'].std()\n",
    "sdsystolicBP = dfNormal['systolicBP'].std()\n",
    "sddiastolicBP = dfNormal['diastolicBP'].std()\n",
    "sdBMI = dfNormal['BMI'].std()\n",
    "sdglu = dfNormal['stab.glu'].std()\n",
    "dfNormal.head()"
   ]
  },
  {
   "cell_type": "markdown",
   "id": "a07421d5",
   "metadata": {},
   "source": [
    "**Removing outliers**"
   ]
  },
  {
   "cell_type": "code",
   "execution_count": 26,
   "id": "e364d49d",
   "metadata": {},
   "outputs": [],
   "source": [
    "z = 2.97\n",
    "dfno_outlier = dfNormal[\n",
    "    (dfNormal.ratio>meanRatio-z*sdRatio) & (dfNormal.ratio<meanRatio+z*sdRatio) &\n",
    "    (dfNormal.Age>meanAge-z*sdAge) & (dfNormal.Age<meanAge+z*sdAge) &\n",
    "    (dfNormal.systolicBP>meansystolicBP-z*sdsystolicBP) & (dfNormal.systolicBP<meansystolicBP+z*sdsystolicBP) &\n",
    "    (dfNormal.diastolicBP>meandiastolicBP-z*sddiastolicBP) & (dfNormal.diastolicBP<meandiastolicBP+z*sddiastolicBP) &\n",
    "    (dfNormal.BMI>meanBMI-z*sdBMI) & (dfNormal.BMI<meanBMI+z*sdBMI)\n",
    "]"
   ]
  },
  {
   "cell_type": "code",
   "execution_count": 27,
   "id": "9c0bc328",
   "metadata": {},
   "outputs": [],
   "source": [
    "df_class0 = dfno_outlier[dfno_outlier['glyhb']<7]\n",
    "df_class1 = dfno_outlier[dfno_outlier['glyhb']>=7]"
   ]
  },
  {
   "cell_type": "code",
   "execution_count": 28,
   "id": "0efba651",
   "metadata": {},
   "outputs": [],
   "source": [
    "count_class0 = df_class0.shape[0]\n",
    "count_class1 = df_class1.shape[0]"
   ]
  },
  {
   "cell_type": "code",
   "execution_count": 29,
   "id": "815506e5",
   "metadata": {
    "scrolled": true
   },
   "outputs": [
    {
     "name": "stdout",
     "output_type": "stream",
     "text": [
      "Diabetes Negetive: 308\n",
      "Diabetes Positive: 57\n"
     ]
    }
   ],
   "source": [
    "print('Diabetes Negetive:',count_class0)\n",
    "print('Diabetes Positive:',count_class1)"
   ]
  },
  {
   "cell_type": "markdown",
   "id": "e11faaa0",
   "metadata": {},
   "source": [
    "*Our Dataset is unbalanced against the diabetes positive class. We will address it later*"
   ]
  },
  {
   "cell_type": "code",
   "execution_count": 30,
   "id": "8d6580f7",
   "metadata": {},
   "outputs": [
    {
     "data": {
      "text/html": [
       "<div>\n",
       "<style scoped>\n",
       "    .dataframe tbody tr th:only-of-type {\n",
       "        vertical-align: middle;\n",
       "    }\n",
       "\n",
       "    .dataframe tbody tr th {\n",
       "        vertical-align: top;\n",
       "    }\n",
       "\n",
       "    .dataframe thead th {\n",
       "        text-align: right;\n",
       "    }\n",
       "</style>\n",
       "<table border=\"1\" class=\"dataframe\">\n",
       "  <thead>\n",
       "    <tr style=\"text-align: right;\">\n",
       "      <th></th>\n",
       "      <th>ratio</th>\n",
       "      <th>Age</th>\n",
       "      <th>systolicBP</th>\n",
       "      <th>diastolicBP</th>\n",
       "      <th>BMI</th>\n",
       "      <th>W/H_ratio</th>\n",
       "      <th>stab.glu</th>\n",
       "      <th>frame</th>\n",
       "      <th>female</th>\n",
       "    </tr>\n",
       "  </thead>\n",
       "  <tbody>\n",
       "    <tr>\n",
       "      <th>0</th>\n",
       "      <td>0.117978</td>\n",
       "      <td>0.369863</td>\n",
       "      <td>0.17500</td>\n",
       "      <td>0.144737</td>\n",
       "      <td>0.151388</td>\n",
       "      <td>0.176427</td>\n",
       "      <td>0.100890</td>\n",
       "      <td>0.333333</td>\n",
       "      <td>1.0</td>\n",
       "    </tr>\n",
       "    <tr>\n",
       "      <th>1</th>\n",
       "      <td>0.303371</td>\n",
       "      <td>0.136986</td>\n",
       "      <td>0.13750</td>\n",
       "      <td>0.263158</td>\n",
       "      <td>0.545386</td>\n",
       "      <td>0.599765</td>\n",
       "      <td>0.145401</td>\n",
       "      <td>0.000000</td>\n",
       "      <td>1.0</td>\n",
       "    </tr>\n",
       "    <tr>\n",
       "      <th>2</th>\n",
       "      <td>0.264045</td>\n",
       "      <td>0.534247</td>\n",
       "      <td>0.60625</td>\n",
       "      <td>0.578947</td>\n",
       "      <td>0.792995</td>\n",
       "      <td>0.385718</td>\n",
       "      <td>0.130564</td>\n",
       "      <td>0.000000</td>\n",
       "      <td>1.0</td>\n",
       "    </tr>\n",
       "    <tr>\n",
       "      <th>3</th>\n",
       "      <td>0.280899</td>\n",
       "      <td>0.657534</td>\n",
       "      <td>0.12500</td>\n",
       "      <td>0.026316</td>\n",
       "      <td>0.071076</td>\n",
       "      <td>0.404744</td>\n",
       "      <td>0.133531</td>\n",
       "      <td>0.000000</td>\n",
       "      <td>0.0</td>\n",
       "    </tr>\n",
       "    <tr>\n",
       "      <th>4</th>\n",
       "      <td>0.415730</td>\n",
       "      <td>0.616438</td>\n",
       "      <td>0.30000</td>\n",
       "      <td>0.421053</td>\n",
       "      <td>0.293303</td>\n",
       "      <td>0.848849</td>\n",
       "      <td>0.124629</td>\n",
       "      <td>0.333333</td>\n",
       "      <td>0.0</td>\n",
       "    </tr>\n",
       "  </tbody>\n",
       "</table>\n",
       "</div>"
      ],
      "text/plain": [
       "      ratio       Age  systolicBP  diastolicBP       BMI  W/H_ratio  stab.glu  \\\n",
       "0  0.117978  0.369863     0.17500     0.144737  0.151388   0.176427  0.100890   \n",
       "1  0.303371  0.136986     0.13750     0.263158  0.545386   0.599765  0.145401   \n",
       "2  0.264045  0.534247     0.60625     0.578947  0.792995   0.385718  0.130564   \n",
       "3  0.280899  0.657534     0.12500     0.026316  0.071076   0.404744  0.133531   \n",
       "4  0.415730  0.616438     0.30000     0.421053  0.293303   0.848849  0.124629   \n",
       "\n",
       "      frame  female  \n",
       "0  0.333333     1.0  \n",
       "1  0.000000     1.0  \n",
       "2  0.000000     1.0  \n",
       "3  0.000000     0.0  \n",
       "4  0.333333     0.0  "
      ]
     },
     "execution_count": 30,
     "metadata": {},
     "output_type": "execute_result"
    }
   ],
   "source": [
    "X = dfno_outlier[features]\n",
    "X.head()"
   ]
  },
  {
   "cell_type": "code",
   "execution_count": 31,
   "id": "a1ecbd8f",
   "metadata": {},
   "outputs": [
    {
     "data": {
      "text/plain": [
       "(365, 9)"
      ]
     },
     "execution_count": 31,
     "metadata": {},
     "output_type": "execute_result"
    }
   ],
   "source": [
    "X.shape"
   ]
  },
  {
   "cell_type": "markdown",
   "id": "6e16f713",
   "metadata": {},
   "source": [
    "**Considering Glycosolated Hemoglobin level > 6.5 to be indicator of diabetes positive subject**"
   ]
  },
  {
   "cell_type": "code",
   "execution_count": 32,
   "id": "acbbb3b5",
   "metadata": {},
   "outputs": [],
   "source": [
    "y = dfno_outlier['glyhb']>=6.5\n",
    "y.replace({False:0,True:1},inplace=True)"
   ]
  },
  {
   "cell_type": "code",
   "execution_count": 102,
   "id": "54fbe733",
   "metadata": {},
   "outputs": [
    {
     "data": {
      "text/plain": [
       "0    4.31\n",
       "1    4.44\n",
       "2    4.64\n",
       "3    4.63\n",
       "4    7.72\n",
       "Name: glyhb, dtype: float64"
      ]
     },
     "execution_count": 102,
     "metadata": {},
     "output_type": "execute_result"
    }
   ],
   "source": [
    "y2 = dfno_outlier['glyhb']\n",
    "y2.head()"
   ]
  },
  {
   "cell_type": "markdown",
   "id": "b30cbd10",
   "metadata": {},
   "source": [
    "**Spliting Data into training and testing phases**"
   ]
  },
  {
   "cell_type": "code",
   "execution_count": 61,
   "id": "960f80bf",
   "metadata": {},
   "outputs": [],
   "source": [
    "from sklearn.model_selection import train_test_split\n",
    "X_train,X_test,y_train,y_test = train_test_split(X,y,test_size=0.3,random_state=15, stratify=y)"
   ]
  },
  {
   "cell_type": "code",
   "execution_count": 62,
   "id": "0cb9666b",
   "metadata": {
    "scrolled": true
   },
   "outputs": [
    {
     "data": {
      "text/plain": [
       "(255, 9)"
      ]
     },
     "execution_count": 62,
     "metadata": {},
     "output_type": "execute_result"
    }
   ],
   "source": [
    "X_train.shape"
   ]
  },
  {
   "cell_type": "code",
   "execution_count": 63,
   "id": "d1fd445a",
   "metadata": {},
   "outputs": [
    {
     "data": {
      "text/plain": [
       "(110, 9)"
      ]
     },
     "execution_count": 63,
     "metadata": {},
     "output_type": "execute_result"
    }
   ],
   "source": [
    "X_test.shape"
   ]
  },
  {
   "cell_type": "code",
   "execution_count": 64,
   "id": "7e823b00",
   "metadata": {},
   "outputs": [
    {
     "data": {
      "text/plain": [
       "0    212\n",
       "1     43\n",
       "Name: glyhb, dtype: int64"
      ]
     },
     "execution_count": 64,
     "metadata": {},
     "output_type": "execute_result"
    }
   ],
   "source": [
    "y_train.value_counts()"
   ]
  },
  {
   "cell_type": "markdown",
   "id": "7a83aa53",
   "metadata": {},
   "source": [
    "**Using SMOTE to oversample diabetes positive class in training data**"
   ]
  },
  {
   "cell_type": "code",
   "execution_count": 65,
   "id": "898fc310",
   "metadata": {},
   "outputs": [
    {
     "data": {
      "text/plain": [
       "0    212\n",
       "1    212\n",
       "Name: glyhb, dtype: int64"
      ]
     },
     "execution_count": 65,
     "metadata": {},
     "output_type": "execute_result"
    }
   ],
   "source": [
    "from imblearn.over_sampling import SMOTE\n",
    "smote =SMOTE(sampling_strategy='minority')\n",
    "X_sm,y_sm = smote.fit_resample(X_train,y_train)\n",
    "y_sm.value_counts()"
   ]
  },
  {
   "cell_type": "code",
   "execution_count": 66,
   "id": "94f8864e",
   "metadata": {},
   "outputs": [
    {
     "data": {
      "text/plain": [
       "0    212\n",
       "1    212\n",
       "Name: glyhb, dtype: int64"
      ]
     },
     "execution_count": 66,
     "metadata": {},
     "output_type": "execute_result"
    }
   ],
   "source": [
    "y_sm.value_counts()"
   ]
  },
  {
   "cell_type": "code",
   "execution_count": 67,
   "id": "2e610f10",
   "metadata": {},
   "outputs": [],
   "source": [
    "from sklearn.metrics import confusion_matrix,classification_report\n",
    "from sklearn.model_selection import cross_val_score as cvs"
   ]
  },
  {
   "cell_type": "code",
   "execution_count": 68,
   "id": "f229427c",
   "metadata": {},
   "outputs": [],
   "source": [
    "def printScore(model,X_test,y_test):\n",
    "    y_predicted = model.predict(X_test)\n",
    "    print(classification_report(y_test,y_predicted))\n",
    "    cm = confusion_matrix(y_predicted,y_test)\n",
    "    plt.figure(figsize = (5,4))\n",
    "    sn.heatmap(cm,annot = True,fmt='d')\n",
    "    plt.xlabel('Truth')\n",
    "    plt.ylabel('Predicted')"
   ]
  },
  {
   "cell_type": "markdown",
   "id": "45713f0e",
   "metadata": {},
   "source": [
    "### Logistic Regression Model"
   ]
  },
  {
   "cell_type": "code",
   "execution_count": 69,
   "id": "6189d0f4",
   "metadata": {
    "scrolled": true
   },
   "outputs": [
    {
     "name": "stdout",
     "output_type": "stream",
     "text": [
      "accuracy: 0.8849315068493151\n"
     ]
    }
   ],
   "source": [
    "from sklearn.linear_model import LogisticRegression\n",
    "modelLR = LogisticRegression()\n",
    "score = cvs(modelLR,X,y,cv=5)\n",
    "print('accuracy:',np.mean(score))"
   ]
  },
  {
   "cell_type": "code",
   "execution_count": 70,
   "id": "9233cf8c",
   "metadata": {
    "scrolled": true
   },
   "outputs": [
    {
     "name": "stdout",
     "output_type": "stream",
     "text": [
      "              precision    recall  f1-score   support\n",
      "\n",
      "           0       0.98      0.91      0.94        91\n",
      "           1       0.68      0.89      0.77        19\n",
      "\n",
      "    accuracy                           0.91       110\n",
      "   macro avg       0.83      0.90      0.86       110\n",
      "weighted avg       0.93      0.91      0.91       110\n",
      "\n"
     ]
    },
    {
     "data": {
      "image/png": "[encoded data removed]",
      "text/plain": [
       "<Figure size 360x288 with 2 Axes>"
      ]
     },
     "metadata": {
      "needs_background": "light"
     },
     "output_type": "display_data"
    }
   ],
   "source": [
    "modelLR.fit(X_sm,y_sm)\n",
    "printScore(modelLR,X_test,y_test)"
   ]
  },
  {
   "cell_type": "markdown",
   "id": "706b6f37",
   "metadata": {},
   "source": [
    "### Decision Tree Classifier"
   ]
  },
  {
   "cell_type": "code",
   "execution_count": 71,
   "id": "82007efc",
   "metadata": {},
   "outputs": [
    {
     "name": "stdout",
     "output_type": "stream",
     "text": [
      "accuracy: 0.8520547945205479\n"
     ]
    }
   ],
   "source": [
    "from sklearn import tree\n",
    "modelTree = tree.DecisionTreeClassifier()\n",
    "score = cvs(modelTree,X,y,cv=5)\n",
    "print('accuracy:',np.mean(score))"
   ]
  },
  {
   "cell_type": "code",
   "execution_count": 72,
   "id": "d3d89eb1",
   "metadata": {},
   "outputs": [
    {
     "name": "stdout",
     "output_type": "stream",
     "text": [
      "              precision    recall  f1-score   support\n",
      "\n",
      "           0       0.95      0.90      0.93        91\n",
      "           1       0.62      0.79      0.70        19\n",
      "\n",
      "    accuracy                           0.88       110\n",
      "   macro avg       0.79      0.85      0.81       110\n",
      "weighted avg       0.90      0.88      0.89       110\n",
      "\n"
     ]
    },
    {
     "data": {
      "image/png": "[encoded data removed]",
      "text/plain": [
       "<Figure size 360x288 with 2 Axes>"
      ]
     },
     "metadata": {
      "needs_background": "light"
     },
     "output_type": "display_data"
    }
   ],
   "source": [
    "modelTree.fit(X_sm,y_sm)\n",
    "printScore(modelTree,X_test,y_test)"
   ]
  },
  {
   "cell_type": "markdown",
   "id": "9af7001e",
   "metadata": {},
   "source": [
    "### Support Vector Classification"
   ]
  },
  {
   "cell_type": "markdown",
   "id": "c3a0d5ca",
   "metadata": {},
   "source": [
    "#### Linear kernel"
   ]
  },
  {
   "cell_type": "code",
   "execution_count": 73,
   "id": "fe3ef3cb",
   "metadata": {},
   "outputs": [
    {
     "name": "stdout",
     "output_type": "stream",
     "text": [
      "accuracy: 0.9178082191780822\n"
     ]
    }
   ],
   "source": [
    "from sklearn.svm import SVC\n",
    "modelSVClinear = SVC(C=5,kernel='linear')\n",
    "score = cvs(modelSVClinear,X,y,cv=5)\n",
    "print('accuracy:',np.mean(score))"
   ]
  },
  {
   "cell_type": "code",
   "execution_count": 74,
   "id": "3cee737a",
   "metadata": {},
   "outputs": [
    {
     "name": "stdout",
     "output_type": "stream",
     "text": [
      "              precision    recall  f1-score   support\n",
      "\n",
      "           0       0.98      0.91      0.94        91\n",
      "           1       0.68      0.89      0.77        19\n",
      "\n",
      "    accuracy                           0.91       110\n",
      "   macro avg       0.83      0.90      0.86       110\n",
      "weighted avg       0.93      0.91      0.91       110\n",
      "\n"
     ]
    },
    {
     "data": {
      "image/png": "[encoded data removed]",
      "text/plain": [
       "<Figure size 360x288 with 2 Axes>"
      ]
     },
     "metadata": {
      "needs_background": "light"
     },
     "output_type": "display_data"
    }
   ],
   "source": [
    "modelSVClinear.fit(X_sm,y_sm)\n",
    "printScore(modelSVClinear,X_test,y_test)"
   ]
  },
  {
   "cell_type": "markdown",
   "id": "50578b60",
   "metadata": {},
   "source": [
    "#### Polynomial Kernel"
   ]
  },
  {
   "cell_type": "code",
   "execution_count": 75,
   "id": "70dfbd6d",
   "metadata": {},
   "outputs": [
    {
     "name": "stdout",
     "output_type": "stream",
     "text": [
      "accuracy: 0.8493150684931507\n"
     ]
    }
   ],
   "source": [
    "modelSVCpoly = SVC(C=50,kernel = 'poly')\n",
    "score = cvs(modelSVCpoly,X,y,cv=5)\n",
    "print('accuracy:',np.mean(score))"
   ]
  },
  {
   "cell_type": "code",
   "execution_count": 76,
   "id": "36daa645",
   "metadata": {},
   "outputs": [
    {
     "name": "stdout",
     "output_type": "stream",
     "text": [
      "              precision    recall  f1-score   support\n",
      "\n",
      "           0       0.95      0.90      0.93        91\n",
      "           1       0.62      0.79      0.70        19\n",
      "\n",
      "    accuracy                           0.88       110\n",
      "   macro avg       0.79      0.85      0.81       110\n",
      "weighted avg       0.90      0.88      0.89       110\n",
      "\n"
     ]
    },
    {
     "data": {
      "image/png": "[encoded data removed]",
      "text/plain": [
       "<Figure size 360x288 with 2 Axes>"
      ]
     },
     "metadata": {
      "needs_background": "light"
     },
     "output_type": "display_data"
    }
   ],
   "source": [
    "modelSVCpoly.fit(X_sm,y_sm)\n",
    "printScore(modelSVCpoly,X_test,y_test)"
   ]
  },
  {
   "cell_type": "markdown",
   "id": "c15e8681",
   "metadata": {},
   "source": [
    "#### RBF kernel"
   ]
  },
  {
   "cell_type": "code",
   "execution_count": 77,
   "id": "e14fde1f",
   "metadata": {
    "scrolled": true
   },
   "outputs": [
    {
     "name": "stdout",
     "output_type": "stream",
     "text": [
      "accuracy: 0.9013698630136986\n"
     ]
    }
   ],
   "source": [
    "modelSVCrbf = SVC(C=10,kernel = 'rbf')\n",
    "score = cvs(modelSVCrbf,X,y,cv=5)\n",
    "print('accuracy:',np.mean(score))"
   ]
  },
  {
   "cell_type": "code",
   "execution_count": 78,
   "id": "d7f05259",
   "metadata": {},
   "outputs": [
    {
     "name": "stdout",
     "output_type": "stream",
     "text": [
      "              precision    recall  f1-score   support\n",
      "\n",
      "           0       0.95      0.92      0.94        91\n",
      "           1       0.68      0.79      0.73        19\n",
      "\n",
      "    accuracy                           0.90       110\n",
      "   macro avg       0.82      0.86      0.84       110\n",
      "weighted avg       0.91      0.90      0.90       110\n",
      "\n"
     ]
    },
    {
     "data": {
      "image/png": "[encoded data removed]",
      "text/plain": [
       "<Figure size 360x288 with 2 Axes>"
      ]
     },
     "metadata": {
      "needs_background": "light"
     },
     "output_type": "display_data"
    }
   ],
   "source": [
    "modelSVCrbf.fit(X_sm,y_sm)\n",
    "printScore(modelSVCrbf,X_test,y_test)"
   ]
  },
  {
   "cell_type": "markdown",
   "id": "910e43e1",
   "metadata": {},
   "source": [
    "#### Sigmoid kernel"
   ]
  },
  {
   "cell_type": "code",
   "execution_count": 79,
   "id": "d37dc69b",
   "metadata": {},
   "outputs": [
    {
     "name": "stdout",
     "output_type": "stream",
     "text": [
      "accuracy: 0.8\n"
     ]
    }
   ],
   "source": [
    "modelSVCsigmoid = SVC(C=0.5,kernel = 'sigmoid')\n",
    "score = cvs(modelSVCsigmoid,X,y,cv=5)\n",
    "print('accuracy:',np.mean(score))"
   ]
  },
  {
   "cell_type": "code",
   "execution_count": 80,
   "id": "054621de",
   "metadata": {},
   "outputs": [
    {
     "name": "stdout",
     "output_type": "stream",
     "text": [
      "              precision    recall  f1-score   support\n",
      "\n",
      "           0       0.77      0.41      0.53        91\n",
      "           1       0.13      0.42      0.20        19\n",
      "\n",
      "    accuracy                           0.41       110\n",
      "   macro avg       0.45      0.41      0.36       110\n",
      "weighted avg       0.66      0.41      0.47       110\n",
      "\n"
     ]
    },
    {
     "data": {
      "image/png": "[encoded data removed]",
      "text/plain": [
       "<Figure size 360x288 with 2 Axes>"
      ]
     },
     "metadata": {
      "needs_background": "light"
     },
     "output_type": "display_data"
    }
   ],
   "source": [
    "modelSVCsigmoid.fit(X_sm,y_sm)\n",
    "printScore(modelSVCsigmoid,X_test,y_test)"
   ]
  },
  {
   "cell_type": "markdown",
   "id": "309206c4",
   "metadata": {},
   "source": [
    "### Random Forest Classifier"
   ]
  },
  {
   "cell_type": "code",
   "execution_count": 98,
   "id": "5b8fe376",
   "metadata": {},
   "outputs": [
    {
     "name": "stdout",
     "output_type": "stream",
     "text": [
      "accuracy: 0.9178082191780821\n"
     ]
    }
   ],
   "source": [
    "from sklearn.ensemble import RandomForestClassifier\n",
    "modelRF = RandomForestClassifier(n_estimators = 200,criterion='gini')\n",
    "score = cvs(modelRF,X,y,cv=5)\n",
    "print('accuracy:',np.mean(score))"
   ]
  },
  {
   "cell_type": "code",
   "execution_count": 99,
   "id": "91e9744e",
   "metadata": {},
   "outputs": [
    {
     "name": "stdout",
     "output_type": "stream",
     "text": [
      "              precision    recall  f1-score   support\n",
      "\n",
      "           0       0.96      0.97      0.96        91\n",
      "           1       0.83      0.79      0.81        19\n",
      "\n",
      "    accuracy                           0.94       110\n",
      "   macro avg       0.89      0.88      0.89       110\n",
      "weighted avg       0.94      0.94      0.94       110\n",
      "\n"
     ]
    },
    {
     "data": {
      "image/png": "[encoded data removed]",
      "text/plain": [
       "<Figure size 360x288 with 2 Axes>"
      ]
     },
     "metadata": {
      "needs_background": "light"
     },
     "output_type": "display_data"
    }
   ],
   "source": [
    "modelRF.fit(X_sm,y_sm)\n",
    "printScore(modelRF,X_test,y_test)"
   ]
  },
  {
   "cell_type": "code",
   "execution_count": 118,
   "id": "ebd72c8d",
   "metadata": {},
   "outputs": [
    {
     "name": "stdout",
     "output_type": "stream",
     "text": [
      "0.9125375375375375\n"
     ]
    }
   ],
   "source": [
    "from sklearn.naive_bayes import GaussianNB\n",
    "modelGNB = GaussianNB()\n",
    "score = cvs(modelGNB,X,y,cv=10)\n",
    "print(np.mean(score))"
   ]
  },
  {
   "cell_type": "code",
   "execution_count": 119,
   "id": "5e47bff9",
   "metadata": {},
   "outputs": [
    {
     "name": "stdout",
     "output_type": "stream",
     "text": [
      "              precision    recall  f1-score   support\n",
      "\n",
      "           0       0.97      0.86      0.91        91\n",
      "           1       0.57      0.89      0.69        19\n",
      "\n",
      "    accuracy                           0.86       110\n",
      "   macro avg       0.77      0.88      0.80       110\n",
      "weighted avg       0.90      0.86      0.87       110\n",
      "\n"
     ]
    },
    {
     "data": {
      "image/png": "[encoded data removed]",
      "text/plain": [
       "<Figure size 360x288 with 2 Axes>"
      ]
     },
     "metadata": {
      "needs_background": "light"
     },
     "output_type": "display_data"
    }
   ],
   "source": [
    "modelGNB.fit(X_sm,y_sm)\n",
    "printScore(modelGNB,X_test,y_test)"
   ]
  },
  {
   "cell_type": "markdown",
   "id": "dfb4c691",
   "metadata": {},
   "source": [
    "### Artificial Neural Network Model"
   ]
  },
  {
   "cell_type": "code",
   "execution_count": 83,
   "id": "87fc331a",
   "metadata": {},
   "outputs": [],
   "source": [
    "from tensorflow import keras \n",
    "import tensorflow as tf"
   ]
  },
  {
   "cell_type": "code",
   "execution_count": 108,
   "id": "d64a197d",
   "metadata": {},
   "outputs": [
    {
     "name": "stdout",
     "output_type": "stream",
     "text": [
      "Epoch 1/500\n",
      "14/14 [==============================] - 0s 2ms/step - loss: 0.6963 - accuracy: 0.5307\n",
      "Epoch 2/500\n",
      "14/14 [==============================] - 0s 2ms/step - loss: 0.6600 - accuracy: 0.6958\n",
      "Epoch 3/500\n",
      "14/14 [==============================] - 0s 2ms/step - loss: 0.6331 - accuracy: 0.7028\n",
      "Epoch 4/500\n",
      "14/14 [==============================] - 0s 2ms/step - loss: 0.6064 - accuracy: 0.7311\n",
      "Epoch 5/500\n",
      "14/14 [==============================] - 0s 2ms/step - loss: 0.5747 - accuracy: 0.7594\n",
      "Epoch 6/500\n",
      "14/14 [==============================] - 0s 2ms/step - loss: 0.5424 - accuracy: 0.7712\n",
      "Epoch 7/500\n",
      "14/14 [==============================] - 0s 2ms/step - loss: 0.5097 - accuracy: 0.7948\n",
      "Epoch 8/500\n",
      "14/14 [==============================] - 0s 2ms/step - loss: 0.4804 - accuracy: 0.8042\n",
      "Epoch 9/500\n",
      "14/14 [==============================] - 0s 2ms/step - loss: 0.4564 - accuracy: 0.8208\n",
      "Epoch 10/500\n",
      "14/14 [==============================] - 0s 2ms/step - loss: 0.4369 - accuracy: 0.8208\n",
      "Epoch 11/500\n",
      "14/14 [==============================] - 0s 2ms/step - loss: 0.4110 - accuracy: 0.8302\n",
      "Epoch 12/500\n",
      "14/14 [==============================] - 0s 2ms/step - loss: 0.3942 - accuracy: 0.8420\n",
      "Epoch 13/500\n",
      "14/14 [==============================] - 0s 3ms/step - loss: 0.3798 - accuracy: 0.8396\n",
      "Epoch 14/500\n",
      "14/14 [==============================] - 0s 2ms/step - loss: 0.3657 - accuracy: 0.8514\n",
      "Epoch 15/500\n",
      "14/14 [==============================] - 0s 2ms/step - loss: 0.3529 - accuracy: 0.8373\n",
      "Epoch 16/500\n",
      "14/14 [==============================] - 0s 2ms/step - loss: 0.3400 - accuracy: 0.8538\n",
      "Epoch 17/500\n",
      "14/14 [==============================] - 0s 2ms/step - loss: 0.3325 - accuracy: 0.8656\n",
      "Epoch 18/500\n",
      "14/14 [==============================] - 0s 2ms/step - loss: 0.3281 - accuracy: 0.8656\n",
      "Epoch 19/500\n",
      "14/14 [==============================] - 0s 3ms/step - loss: 0.3196 - accuracy: 0.8703\n",
      "Epoch 20/500\n",
      "14/14 [==============================] - 0s 3ms/step - loss: 0.3094 - accuracy: 0.8844\n",
      "Epoch 21/500\n",
      "14/14 [==============================] - 0s 2ms/step - loss: 0.3024 - accuracy: 0.8797\n",
      "Epoch 22/500\n",
      "14/14 [==============================] - 0s 2ms/step - loss: 0.2969 - accuracy: 0.8892\n",
      "Epoch 23/500\n",
      "14/14 [==============================] - 0s 2ms/step - loss: 0.2928 - accuracy: 0.8892\n",
      "Epoch 24/500\n",
      "14/14 [==============================] - 0s 2ms/step - loss: 0.2913 - accuracy: 0.8868\n",
      "Epoch 25/500\n",
      "14/14 [==============================] - 0s 2ms/step - loss: 0.2849 - accuracy: 0.8892\n",
      "Epoch 26/500\n",
      "14/14 [==============================] - 0s 2ms/step - loss: 0.2794 - accuracy: 0.8986\n",
      "Epoch 27/500\n",
      "14/14 [==============================] - 0s 3ms/step - loss: 0.2835 - accuracy: 0.8892\n",
      "Epoch 28/500\n",
      "14/14 [==============================] - 0s 2ms/step - loss: 0.2738 - accuracy: 0.8868\n",
      "Epoch 29/500\n",
      "14/14 [==============================] - 0s 2ms/step - loss: 0.2791 - accuracy: 0.8986\n",
      "Epoch 30/500\n",
      "14/14 [==============================] - 0s 2ms/step - loss: 0.2783 - accuracy: 0.8774\n",
      "Epoch 31/500\n",
      "14/14 [==============================] - 0s 3ms/step - loss: 0.2680 - accuracy: 0.9080\n",
      "Epoch 32/500\n",
      "14/14 [==============================] - 0s 2ms/step - loss: 0.2707 - accuracy: 0.8939\n",
      "Epoch 33/500\n",
      "14/14 [==============================] - 0s 3ms/step - loss: 0.2661 - accuracy: 0.9057\n",
      "Epoch 34/500\n",
      "14/14 [==============================] - 0s 2ms/step - loss: 0.2563 - accuracy: 0.9033\n",
      "Epoch 35/500\n",
      "14/14 [==============================] - 0s 2ms/step - loss: 0.2540 - accuracy: 0.9127\n",
      "Epoch 36/500\n",
      "14/14 [==============================] - 0s 3ms/step - loss: 0.2508 - accuracy: 0.9151\n",
      "Epoch 37/500\n",
      "14/14 [==============================] - 0s 2ms/step - loss: 0.2582 - accuracy: 0.8986\n",
      "Epoch 38/500\n",
      "14/14 [==============================] - 0s 3ms/step - loss: 0.2486 - accuracy: 0.9127\n",
      "Epoch 39/500\n",
      "14/14 [==============================] - 0s 2ms/step - loss: 0.2440 - accuracy: 0.9151\n",
      "Epoch 40/500\n",
      "14/14 [==============================] - 0s 3ms/step - loss: 0.2420 - accuracy: 0.9175\n",
      "Epoch 41/500\n",
      "14/14 [==============================] - 0s 2ms/step - loss: 0.2400 - accuracy: 0.9175\n",
      "Epoch 42/500\n",
      "14/14 [==============================] - 0s 2ms/step - loss: 0.2383 - accuracy: 0.9151\n",
      "Epoch 43/500\n",
      "14/14 [==============================] - 0s 2ms/step - loss: 0.2382 - accuracy: 0.9151\n",
      "Epoch 44/500\n",
      "14/14 [==============================] - 0s 2ms/step - loss: 0.2319 - accuracy: 0.9151\n",
      "Epoch 45/500\n",
      "14/14 [==============================] - 0s 2ms/step - loss: 0.2318 - accuracy: 0.9175\n",
      "Epoch 46/500\n",
      "14/14 [==============================] - 0s 2ms/step - loss: 0.2279 - accuracy: 0.9222\n",
      "Epoch 47/500\n",
      "14/14 [==============================] - 0s 2ms/step - loss: 0.2381 - accuracy: 0.9080\n",
      "Epoch 48/500\n",
      "14/14 [==============================] - 0s 3ms/step - loss: 0.2314 - accuracy: 0.9127\n",
      "Epoch 49/500\n",
      "14/14 [==============================] - ETA: 0s - loss: 0.2478 - accuracy: 0.87 - 0s 2ms/step - loss: 0.2263 - accuracy: 0.9222\n",
      "Epoch 50/500\n",
      "14/14 [==============================] - 0s 3ms/step - loss: 0.2245 - accuracy: 0.9151\n",
      "Epoch 51/500\n",
      "14/14 [==============================] - 0s 2ms/step - loss: 0.2228 - accuracy: 0.9175\n",
      "Epoch 52/500\n",
      "14/14 [==============================] - 0s 3ms/step - loss: 0.2211 - accuracy: 0.9127\n",
      "Epoch 53/500\n",
      "14/14 [==============================] - 0s 2ms/step - loss: 0.2178 - accuracy: 0.9198\n",
      "Epoch 54/500\n",
      "14/14 [==============================] - 0s 2ms/step - loss: 0.2186 - accuracy: 0.9080\n",
      "Epoch 55/500\n",
      "14/14 [==============================] - 0s 3ms/step - loss: 0.2172 - accuracy: 0.9175\n",
      "Epoch 56/500\n",
      "14/14 [==============================] - 0s 3ms/step - loss: 0.2136 - accuracy: 0.9175\n",
      "Epoch 57/500\n",
      "14/14 [==============================] - 0s 2ms/step - loss: 0.2111 - accuracy: 0.9127\n",
      "Epoch 58/500\n",
      "14/14 [==============================] - 0s 2ms/step - loss: 0.2172 - accuracy: 0.9151\n",
      "Epoch 59/500\n",
      "14/14 [==============================] - 0s 2ms/step - loss: 0.2111 - accuracy: 0.9151\n",
      "Epoch 60/500\n",
      "14/14 [==============================] - 0s 2ms/step - loss: 0.2096 - accuracy: 0.9175\n",
      "Epoch 61/500\n",
      "14/14 [==============================] - 0s 3ms/step - loss: 0.2080 - accuracy: 0.9151\n",
      "Epoch 62/500\n",
      "14/14 [==============================] - 0s 3ms/step - loss: 0.2034 - accuracy: 0.9175\n",
      "Epoch 63/500\n",
      "14/14 [==============================] - 0s 3ms/step - loss: 0.2021 - accuracy: 0.9222\n",
      "Epoch 64/500\n",
      "14/14 [==============================] - 0s 2ms/step - loss: 0.2022 - accuracy: 0.9198\n",
      "Epoch 65/500\n",
      "14/14 [==============================] - 0s 2ms/step - loss: 0.1998 - accuracy: 0.9175\n",
      "Epoch 66/500\n",
      "14/14 [==============================] - 0s 2ms/step - loss: 0.1982 - accuracy: 0.9222\n",
      "Epoch 67/500\n",
      "14/14 [==============================] - 0s 3ms/step - loss: 0.1982 - accuracy: 0.9245\n",
      "Epoch 68/500\n",
      "14/14 [==============================] - 0s 2ms/step - loss: 0.1965 - accuracy: 0.9245\n",
      "Epoch 69/500\n",
      "14/14 [==============================] - 0s 2ms/step - loss: 0.1942 - accuracy: 0.9292\n",
      "Epoch 70/500\n",
      "14/14 [==============================] - 0s 3ms/step - loss: 0.2052 - accuracy: 0.9151\n",
      "Epoch 71/500\n",
      "14/14 [==============================] - 0s 2ms/step - loss: 0.1892 - accuracy: 0.9222\n",
      "Epoch 72/500\n",
      "14/14 [==============================] - 0s 2ms/step - loss: 0.1925 - accuracy: 0.9269\n",
      "Epoch 73/500\n",
      "14/14 [==============================] - 0s 3ms/step - loss: 0.1880 - accuracy: 0.9269\n",
      "Epoch 74/500\n",
      "14/14 [==============================] - 0s 2ms/step - loss: 0.1921 - accuracy: 0.9175\n",
      "Epoch 75/500\n",
      "14/14 [==============================] - 0s 3ms/step - loss: 0.1951 - accuracy: 0.9198\n",
      "Epoch 76/500\n",
      "14/14 [==============================] - 0s 3ms/step - loss: 0.1943 - accuracy: 0.9292\n",
      "Epoch 77/500\n",
      "14/14 [==============================] - 0s 3ms/step - loss: 0.1827 - accuracy: 0.9292\n",
      "Epoch 78/500\n",
      "14/14 [==============================] - 0s 3ms/step - loss: 0.1839 - accuracy: 0.9316\n",
      "Epoch 79/500\n",
      "14/14 [==============================] - 0s 2ms/step - loss: 0.1890 - accuracy: 0.9269\n",
      "Epoch 80/500\n",
      "14/14 [==============================] - 0s 2ms/step - loss: 0.1823 - accuracy: 0.9292\n",
      "Epoch 81/500\n",
      "14/14 [==============================] - 0s 3ms/step - loss: 0.1882 - accuracy: 0.9292\n",
      "Epoch 82/500\n",
      "14/14 [==============================] - 0s 3ms/step - loss: 0.1873 - accuracy: 0.9151\n",
      "Epoch 83/500\n",
      "14/14 [==============================] - 0s 3ms/step - loss: 0.1783 - accuracy: 0.9269\n",
      "Epoch 84/500\n",
      "14/14 [==============================] - 0s 3ms/step - loss: 0.1790 - accuracy: 0.9292\n",
      "Epoch 85/500\n",
      "14/14 [==============================] - 0s 3ms/step - loss: 0.1754 - accuracy: 0.9316\n",
      "Epoch 86/500\n",
      "14/14 [==============================] - 0s 3ms/step - loss: 0.1778 - accuracy: 0.9245\n",
      "Epoch 87/500\n",
      "14/14 [==============================] - 0s 2ms/step - loss: 0.1777 - accuracy: 0.9292\n",
      "Epoch 88/500\n",
      "14/14 [==============================] - 0s 2ms/step - loss: 0.1701 - accuracy: 0.9410\n",
      "Epoch 89/500\n",
      "14/14 [==============================] - 0s 2ms/step - loss: 0.1696 - accuracy: 0.9387\n",
      "Epoch 90/500\n",
      "14/14 [==============================] - 0s 2ms/step - loss: 0.1717 - accuracy: 0.9316\n",
      "Epoch 91/500\n",
      "14/14 [==============================] - 0s 2ms/step - loss: 0.1751 - accuracy: 0.9316\n",
      "Epoch 92/500\n",
      "14/14 [==============================] - 0s 2ms/step - loss: 0.1648 - accuracy: 0.9387\n",
      "Epoch 93/500\n",
      "14/14 [==============================] - 0s 2ms/step - loss: 0.1677 - accuracy: 0.9363\n",
      "Epoch 94/500\n",
      "14/14 [==============================] - 0s 2ms/step - loss: 0.1621 - accuracy: 0.9410\n",
      "Epoch 95/500\n",
      "14/14 [==============================] - 0s 2ms/step - loss: 0.1608 - accuracy: 0.9410\n",
      "Epoch 96/500\n",
      "14/14 [==============================] - 0s 2ms/step - loss: 0.1646 - accuracy: 0.9316\n",
      "Epoch 97/500\n",
      "14/14 [==============================] - 0s 2ms/step - loss: 0.1690 - accuracy: 0.9363\n",
      "Epoch 98/500\n",
      "14/14 [==============================] - 0s 2ms/step - loss: 0.1608 - accuracy: 0.9434\n",
      "Epoch 99/500\n",
      "14/14 [==============================] - 0s 2ms/step - loss: 0.1593 - accuracy: 0.9434\n",
      "Epoch 100/500\n",
      "14/14 [==============================] - 0s 2ms/step - loss: 0.1583 - accuracy: 0.9434\n",
      "Epoch 101/500\n",
      "14/14 [==============================] - 0s 2ms/step - loss: 0.1577 - accuracy: 0.9458\n",
      "Epoch 102/500\n",
      "14/14 [==============================] - 0s 2ms/step - loss: 0.1606 - accuracy: 0.9458\n",
      "Epoch 103/500\n",
      "14/14 [==============================] - 0s 2ms/step - loss: 0.1521 - accuracy: 0.9458\n",
      "Epoch 104/500\n",
      "14/14 [==============================] - 0s 2ms/step - loss: 0.1544 - accuracy: 0.9505\n",
      "Epoch 105/500\n",
      "14/14 [==============================] - 0s 2ms/step - loss: 0.1531 - accuracy: 0.9481\n",
      "Epoch 106/500\n",
      "14/14 [==============================] - 0s 2ms/step - loss: 0.1564 - accuracy: 0.9434\n",
      "Epoch 107/500\n",
      "14/14 [==============================] - 0s 2ms/step - loss: 0.1568 - accuracy: 0.9387\n",
      "Epoch 108/500\n",
      "14/14 [==============================] - 0s 2ms/step - loss: 0.1484 - accuracy: 0.9505\n",
      "Epoch 109/500\n",
      "14/14 [==============================] - 0s 2ms/step - loss: 0.1477 - accuracy: 0.9458\n",
      "Epoch 110/500\n",
      "14/14 [==============================] - 0s 2ms/step - loss: 0.1474 - accuracy: 0.9481\n",
      "Epoch 111/500\n",
      "14/14 [==============================] - 0s 2ms/step - loss: 0.1450 - accuracy: 0.9505\n",
      "Epoch 112/500\n",
      "14/14 [==============================] - 0s 2ms/step - loss: 0.1452 - accuracy: 0.9481\n",
      "Epoch 113/500\n",
      "14/14 [==============================] - 0s 2ms/step - loss: 0.1506 - accuracy: 0.9458\n",
      "Epoch 114/500\n",
      "14/14 [==============================] - 0s 2ms/step - loss: 0.1522 - accuracy: 0.9458\n",
      "Epoch 115/500\n",
      "14/14 [==============================] - 0s 2ms/step - loss: 0.1577 - accuracy: 0.9387\n",
      "Epoch 116/500\n",
      "14/14 [==============================] - 0s 2ms/step - loss: 0.1420 - accuracy: 0.9505\n",
      "Epoch 117/500\n",
      "14/14 [==============================] - 0s 2ms/step - loss: 0.1395 - accuracy: 0.9481\n",
      "Epoch 118/500\n",
      "14/14 [==============================] - 0s 2ms/step - loss: 0.1410 - accuracy: 0.9458\n",
      "Epoch 119/500\n",
      "14/14 [==============================] - 0s 2ms/step - loss: 0.1365 - accuracy: 0.9552\n",
      "Epoch 120/500\n",
      "14/14 [==============================] - 0s 2ms/step - loss: 0.1411 - accuracy: 0.9410\n",
      "Epoch 121/500\n",
      "14/14 [==============================] - 0s 2ms/step - loss: 0.1382 - accuracy: 0.9505\n",
      "Epoch 122/500\n",
      "14/14 [==============================] - 0s 2ms/step - loss: 0.1376 - accuracy: 0.9575\n",
      "Epoch 123/500\n",
      "14/14 [==============================] - 0s 2ms/step - loss: 0.1364 - accuracy: 0.9528\n",
      "Epoch 124/500\n",
      "14/14 [==============================] - 0s 2ms/step - loss: 0.1339 - accuracy: 0.9410\n",
      "Epoch 125/500\n",
      "14/14 [==============================] - 0s 3ms/step - loss: 0.1348 - accuracy: 0.9599\n",
      "Epoch 126/500\n",
      "14/14 [==============================] - 0s 2ms/step - loss: 0.1347 - accuracy: 0.9552\n",
      "Epoch 127/500\n",
      "14/14 [==============================] - 0s 2ms/step - loss: 0.1318 - accuracy: 0.9552\n",
      "Epoch 128/500\n",
      "14/14 [==============================] - 0s 2ms/step - loss: 0.1336 - accuracy: 0.9505\n",
      "Epoch 129/500\n",
      "14/14 [==============================] - 0s 3ms/step - loss: 0.1335 - accuracy: 0.9528\n",
      "Epoch 130/500\n",
      "14/14 [==============================] - 0s 2ms/step - loss: 0.1318 - accuracy: 0.9528\n",
      "Epoch 131/500\n",
      "14/14 [==============================] - 0s 2ms/step - loss: 0.1291 - accuracy: 0.9599\n",
      "Epoch 132/500\n",
      "14/14 [==============================] - 0s 2ms/step - loss: 0.1270 - accuracy: 0.9552\n",
      "Epoch 133/500\n",
      "14/14 [==============================] - 0s 2ms/step - loss: 0.1302 - accuracy: 0.9528\n",
      "Epoch 134/500\n",
      "14/14 [==============================] - 0s 2ms/step - loss: 0.1251 - accuracy: 0.9599\n",
      "Epoch 135/500\n",
      "14/14 [==============================] - 0s 2ms/step - loss: 0.1255 - accuracy: 0.9599\n",
      "Epoch 136/500\n",
      "14/14 [==============================] - 0s 2ms/step - loss: 0.1270 - accuracy: 0.9505\n",
      "Epoch 137/500\n",
      "14/14 [==============================] - 0s 2ms/step - loss: 0.1262 - accuracy: 0.9623\n",
      "Epoch 138/500\n",
      "14/14 [==============================] - 0s 2ms/step - loss: 0.1244 - accuracy: 0.9552\n",
      "Epoch 139/500\n",
      "14/14 [==============================] - 0s 2ms/step - loss: 0.1199 - accuracy: 0.9575\n",
      "Epoch 140/500\n",
      "14/14 [==============================] - 0s 2ms/step - loss: 0.1260 - accuracy: 0.9528\n",
      "Epoch 141/500\n",
      "14/14 [==============================] - 0s 2ms/step - loss: 0.1267 - accuracy: 0.9552\n",
      "Epoch 142/500\n",
      "14/14 [==============================] - 0s 2ms/step - loss: 0.1170 - accuracy: 0.9599\n",
      "Epoch 143/500\n",
      "14/14 [==============================] - 0s 2ms/step - loss: 0.1210 - accuracy: 0.9646\n",
      "Epoch 144/500\n",
      "14/14 [==============================] - 0s 2ms/step - loss: 0.1222 - accuracy: 0.9623\n",
      "Epoch 145/500\n",
      "14/14 [==============================] - 0s 2ms/step - loss: 0.1260 - accuracy: 0.9552\n",
      "Epoch 146/500\n",
      "14/14 [==============================] - 0s 2ms/step - loss: 0.1257 - accuracy: 0.9552\n",
      "Epoch 147/500\n",
      "14/14 [==============================] - 0s 2ms/step - loss: 0.1255 - accuracy: 0.9575\n",
      "Epoch 148/500\n",
      "14/14 [==============================] - ETA: 0s - loss: 0.0297 - accuracy: 1.00 - 0s 2ms/step - loss: 0.1170 - accuracy: 0.9599\n",
      "Epoch 149/500\n",
      "14/14 [==============================] - 0s 3ms/step - loss: 0.1265 - accuracy: 0.9458\n",
      "Epoch 150/500\n",
      "14/14 [==============================] - 0s 2ms/step - loss: 0.1252 - accuracy: 0.9599\n",
      "Epoch 151/500\n",
      "14/14 [==============================] - 0s 2ms/step - loss: 0.1176 - accuracy: 0.9646\n",
      "Epoch 152/500\n",
      "14/14 [==============================] - 0s 2ms/step - loss: 0.1149 - accuracy: 0.9599\n",
      "Epoch 153/500\n",
      "14/14 [==============================] - 0s 2ms/step - loss: 0.1121 - accuracy: 0.9623\n",
      "Epoch 154/500\n",
      "14/14 [==============================] - 0s 2ms/step - loss: 0.1122 - accuracy: 0.9575\n",
      "Epoch 155/500\n",
      "14/14 [==============================] - 0s 2ms/step - loss: 0.1137 - accuracy: 0.9599\n",
      "Epoch 156/500\n",
      "14/14 [==============================] - 0s 2ms/step - loss: 0.1123 - accuracy: 0.9623\n",
      "Epoch 157/500\n",
      "14/14 [==============================] - 0s 2ms/step - loss: 0.1114 - accuracy: 0.9599\n",
      "Epoch 158/500\n",
      "14/14 [==============================] - 0s 2ms/step - loss: 0.1110 - accuracy: 0.9623\n",
      "Epoch 159/500\n",
      "14/14 [==============================] - 0s 2ms/step - loss: 0.1106 - accuracy: 0.9646\n",
      "Epoch 160/500\n",
      "14/14 [==============================] - 0s 2ms/step - loss: 0.1193 - accuracy: 0.9552\n",
      "Epoch 161/500\n",
      "14/14 [==============================] - 0s 2ms/step - loss: 0.1321 - accuracy: 0.9528\n",
      "Epoch 162/500\n",
      "14/14 [==============================] - 0s 2ms/step - loss: 0.1076 - accuracy: 0.9623\n",
      "Epoch 163/500\n"
     ]
    },
    {
     "name": "stdout",
     "output_type": "stream",
     "text": [
      "14/14 [==============================] - 0s 2ms/step - loss: 0.1106 - accuracy: 0.9646\n",
      "Epoch 164/500\n",
      "14/14 [==============================] - 0s 2ms/step - loss: 0.1084 - accuracy: 0.9623\n",
      "Epoch 165/500\n",
      "14/14 [==============================] - 0s 2ms/step - loss: 0.1099 - accuracy: 0.9623\n",
      "Epoch 166/500\n",
      "14/14 [==============================] - 0s 2ms/step - loss: 0.1085 - accuracy: 0.9646\n",
      "Epoch 167/500\n",
      "14/14 [==============================] - 0s 2ms/step - loss: 0.1120 - accuracy: 0.9693\n",
      "Epoch 168/500\n",
      "14/14 [==============================] - 0s 2ms/step - loss: 0.1048 - accuracy: 0.9670\n",
      "Epoch 169/500\n",
      "14/14 [==============================] - 0s 2ms/step - loss: 0.1128 - accuracy: 0.9599\n",
      "Epoch 170/500\n",
      "14/14 [==============================] - 0s 2ms/step - loss: 0.1104 - accuracy: 0.9693\n",
      "Epoch 171/500\n",
      "14/14 [==============================] - 0s 2ms/step - loss: 0.1159 - accuracy: 0.9623\n",
      "Epoch 172/500\n",
      "14/14 [==============================] - 0s 2ms/step - loss: 0.1129 - accuracy: 0.9599\n",
      "Epoch 173/500\n",
      "14/14 [==============================] - 0s 2ms/step - loss: 0.1080 - accuracy: 0.9646\n",
      "Epoch 174/500\n",
      "14/14 [==============================] - 0s 2ms/step - loss: 0.1070 - accuracy: 0.9693\n",
      "Epoch 175/500\n",
      "14/14 [==============================] - 0s 2ms/step - loss: 0.1068 - accuracy: 0.9646\n",
      "Epoch 176/500\n",
      "14/14 [==============================] - 0s 2ms/step - loss: 0.0999 - accuracy: 0.9670\n",
      "Epoch 177/500\n",
      "14/14 [==============================] - 0s 2ms/step - loss: 0.1014 - accuracy: 0.9646\n",
      "Epoch 178/500\n",
      "14/14 [==============================] - 0s 2ms/step - loss: 0.1006 - accuracy: 0.9670\n",
      "Epoch 179/500\n",
      "14/14 [==============================] - 0s 3ms/step - loss: 0.1044 - accuracy: 0.9693\n",
      "Epoch 180/500\n",
      "14/14 [==============================] - 0s 2ms/step - loss: 0.1012 - accuracy: 0.9623\n",
      "Epoch 181/500\n",
      "14/14 [==============================] - 0s 2ms/step - loss: 0.0964 - accuracy: 0.9623\n",
      "Epoch 182/500\n",
      "14/14 [==============================] - 0s 3ms/step - loss: 0.0947 - accuracy: 0.9646\n",
      "Epoch 183/500\n",
      "14/14 [==============================] - 0s 2ms/step - loss: 0.0962 - accuracy: 0.9717\n",
      "Epoch 184/500\n",
      "14/14 [==============================] - 0s 3ms/step - loss: 0.0953 - accuracy: 0.9670\n",
      "Epoch 185/500\n",
      "14/14 [==============================] - 0s 2ms/step - loss: 0.0966 - accuracy: 0.9646\n",
      "Epoch 186/500\n",
      "14/14 [==============================] - 0s 2ms/step - loss: 0.0949 - accuracy: 0.9670\n",
      "Epoch 187/500\n",
      "14/14 [==============================] - 0s 2ms/step - loss: 0.0925 - accuracy: 0.9646\n",
      "Epoch 188/500\n",
      "14/14 [==============================] - 0s 2ms/step - loss: 0.0937 - accuracy: 0.9670\n",
      "Epoch 189/500\n",
      "14/14 [==============================] - 0s 3ms/step - loss: 0.0955 - accuracy: 0.9717\n",
      "Epoch 190/500\n",
      "14/14 [==============================] - 0s 2ms/step - loss: 0.0999 - accuracy: 0.9670\n",
      "Epoch 191/500\n",
      "14/14 [==============================] - 0s 2ms/step - loss: 0.0953 - accuracy: 0.9646\n",
      "Epoch 192/500\n",
      "14/14 [==============================] - 0s 2ms/step - loss: 0.0958 - accuracy: 0.9717\n",
      "Epoch 193/500\n",
      "14/14 [==============================] - 0s 2ms/step - loss: 0.0991 - accuracy: 0.9670\n",
      "Epoch 194/500\n",
      "14/14 [==============================] - 0s 3ms/step - loss: 0.0963 - accuracy: 0.9646\n",
      "Epoch 195/500\n",
      "14/14 [==============================] - 0s 3ms/step - loss: 0.0967 - accuracy: 0.9670\n",
      "Epoch 196/500\n",
      "14/14 [==============================] - 0s 5ms/step - loss: 0.0964 - accuracy: 0.9623\n",
      "Epoch 197/500\n",
      "14/14 [==============================] - 0s 3ms/step - loss: 0.1066 - accuracy: 0.9623\n",
      "Epoch 198/500\n",
      "14/14 [==============================] - 0s 3ms/step - loss: 0.1011 - accuracy: 0.9693\n",
      "Epoch 199/500\n",
      "14/14 [==============================] - 0s 3ms/step - loss: 0.0920 - accuracy: 0.9717\n",
      "Epoch 200/500\n",
      "14/14 [==============================] - ETA: 0s - loss: 0.1620 - accuracy: 0.93 - 0s 2ms/step - loss: 0.0888 - accuracy: 0.9717\n",
      "Epoch 201/500\n",
      "14/14 [==============================] - 0s 2ms/step - loss: 0.0920 - accuracy: 0.9670\n",
      "Epoch 202/500\n",
      "14/14 [==============================] - 0s 2ms/step - loss: 0.1010 - accuracy: 0.9670\n",
      "Epoch 203/500\n",
      "14/14 [==============================] - 0s 2ms/step - loss: 0.1012 - accuracy: 0.9670\n",
      "Epoch 204/500\n",
      "14/14 [==============================] - 0s 2ms/step - loss: 0.0880 - accuracy: 0.9788\n",
      "Epoch 205/500\n",
      "14/14 [==============================] - 0s 2ms/step - loss: 0.0920 - accuracy: 0.9693\n",
      "Epoch 206/500\n",
      "14/14 [==============================] - 0s 2ms/step - loss: 0.1014 - accuracy: 0.9717\n",
      "Epoch 207/500\n",
      "14/14 [==============================] - 0s 2ms/step - loss: 0.0925 - accuracy: 0.9646\n",
      "Epoch 208/500\n",
      "14/14 [==============================] - 0s 2ms/step - loss: 0.0918 - accuracy: 0.9670\n",
      "Epoch 209/500\n",
      "14/14 [==============================] - 0s 2ms/step - loss: 0.0889 - accuracy: 0.9788\n",
      "Epoch 210/500\n",
      "14/14 [==============================] - 0s 2ms/step - loss: 0.0845 - accuracy: 0.9693\n",
      "Epoch 211/500\n",
      "14/14 [==============================] - 0s 2ms/step - loss: 0.0880 - accuracy: 0.9717\n",
      "Epoch 212/500\n",
      "14/14 [==============================] - 0s 2ms/step - loss: 0.0874 - accuracy: 0.9788\n",
      "Epoch 213/500\n",
      "14/14 [==============================] - 0s 2ms/step - loss: 0.0954 - accuracy: 0.9623\n",
      "Epoch 214/500\n",
      "14/14 [==============================] - 0s 2ms/step - loss: 0.0805 - accuracy: 0.9741\n",
      "Epoch 215/500\n",
      "14/14 [==============================] - 0s 3ms/step - loss: 0.1018 - accuracy: 0.9670\n",
      "Epoch 216/500\n",
      "14/14 [==============================] - 0s 2ms/step - loss: 0.0928 - accuracy: 0.9693\n",
      "Epoch 217/500\n",
      "14/14 [==============================] - 0s 2ms/step - loss: 0.0792 - accuracy: 0.9764\n",
      "Epoch 218/500\n",
      "14/14 [==============================] - 0s 3ms/step - loss: 0.0824 - accuracy: 0.9717\n",
      "Epoch 219/500\n",
      "14/14 [==============================] - 0s 2ms/step - loss: 0.0842 - accuracy: 0.9717\n",
      "Epoch 220/500\n",
      "14/14 [==============================] - 0s 2ms/step - loss: 0.0827 - accuracy: 0.9741\n",
      "Epoch 221/500\n",
      "14/14 [==============================] - 0s 2ms/step - loss: 0.0845 - accuracy: 0.9764\n",
      "Epoch 222/500\n",
      "14/14 [==============================] - 0s 2ms/step - loss: 0.0868 - accuracy: 0.9764\n",
      "Epoch 223/500\n",
      "14/14 [==============================] - 0s 2ms/step - loss: 0.0854 - accuracy: 0.9717\n",
      "Epoch 224/500\n",
      "14/14 [==============================] - 0s 2ms/step - loss: 0.0839 - accuracy: 0.9646\n",
      "Epoch 225/500\n",
      "14/14 [==============================] - 0s 2ms/step - loss: 0.0907 - accuracy: 0.9646\n",
      "Epoch 226/500\n",
      "14/14 [==============================] - 0s 2ms/step - loss: 0.0784 - accuracy: 0.9741\n",
      "Epoch 227/500\n",
      "14/14 [==============================] - 0s 2ms/step - loss: 0.0793 - accuracy: 0.9693\n",
      "Epoch 228/500\n",
      "14/14 [==============================] - 0s 2ms/step - loss: 0.0835 - accuracy: 0.9717\n",
      "Epoch 229/500\n",
      "14/14 [==============================] - 0s 2ms/step - loss: 0.0808 - accuracy: 0.9693\n",
      "Epoch 230/500\n",
      "14/14 [==============================] - 0s 2ms/step - loss: 0.0794 - accuracy: 0.9788\n",
      "Epoch 231/500\n",
      "14/14 [==============================] - 0s 2ms/step - loss: 0.0786 - accuracy: 0.9764\n",
      "Epoch 232/500\n",
      "14/14 [==============================] - 0s 2ms/step - loss: 0.0757 - accuracy: 0.9717\n",
      "Epoch 233/500\n",
      "14/14 [==============================] - 0s 3ms/step - loss: 0.0763 - accuracy: 0.9741\n",
      "Epoch 234/500\n",
      "14/14 [==============================] - 0s 2ms/step - loss: 0.0734 - accuracy: 0.9741\n",
      "Epoch 235/500\n",
      "14/14 [==============================] - 0s 2ms/step - loss: 0.0757 - accuracy: 0.9741\n",
      "Epoch 236/500\n",
      "14/14 [==============================] - 0s 2ms/step - loss: 0.0774 - accuracy: 0.9764\n",
      "Epoch 237/500\n",
      "14/14 [==============================] - 0s 2ms/step - loss: 0.0719 - accuracy: 0.9788\n",
      "Epoch 238/500\n",
      "14/14 [==============================] - 0s 2ms/step - loss: 0.0733 - accuracy: 0.9764\n",
      "Epoch 239/500\n",
      "14/14 [==============================] - 0s 2ms/step - loss: 0.0712 - accuracy: 0.9764\n",
      "Epoch 240/500\n",
      "14/14 [==============================] - 0s 2ms/step - loss: 0.0740 - accuracy: 0.9788\n",
      "Epoch 241/500\n",
      "14/14 [==============================] - 0s 2ms/step - loss: 0.0741 - accuracy: 0.9741\n",
      "Epoch 242/500\n",
      "14/14 [==============================] - 0s 2ms/step - loss: 0.0745 - accuracy: 0.9764\n",
      "Epoch 243/500\n",
      "14/14 [==============================] - 0s 2ms/step - loss: 0.0766 - accuracy: 0.9741\n",
      "Epoch 244/500\n",
      "14/14 [==============================] - 0s 2ms/step - loss: 0.0754 - accuracy: 0.9764\n",
      "Epoch 245/500\n",
      "14/14 [==============================] - 0s 2ms/step - loss: 0.0722 - accuracy: 0.9788\n",
      "Epoch 246/500\n",
      "14/14 [==============================] - 0s 3ms/step - loss: 0.0696 - accuracy: 0.9741\n",
      "Epoch 247/500\n",
      "14/14 [==============================] - 0s 2ms/step - loss: 0.0726 - accuracy: 0.9764\n",
      "Epoch 248/500\n",
      "14/14 [==============================] - 0s 3ms/step - loss: 0.0766 - accuracy: 0.9741\n",
      "Epoch 249/500\n",
      "14/14 [==============================] - ETA: 0s - loss: 0.0644 - accuracy: 0.96 - 0s 3ms/step - loss: 0.0847 - accuracy: 0.9693\n",
      "Epoch 250/500\n",
      "14/14 [==============================] - 0s 2ms/step - loss: 0.0751 - accuracy: 0.9717\n",
      "Epoch 251/500\n",
      "14/14 [==============================] - 0s 3ms/step - loss: 0.0753 - accuracy: 0.9764\n",
      "Epoch 252/500\n",
      "14/14 [==============================] - 0s 3ms/step - loss: 0.0690 - accuracy: 0.9788\n",
      "Epoch 253/500\n",
      "14/14 [==============================] - 0s 3ms/step - loss: 0.0782 - accuracy: 0.9764\n",
      "Epoch 254/500\n",
      "14/14 [==============================] - 0s 3ms/step - loss: 0.0694 - accuracy: 0.9811\n",
      "Epoch 255/500\n",
      "14/14 [==============================] - 0s 3ms/step - loss: 0.0664 - accuracy: 0.9788\n",
      "Epoch 256/500\n",
      "14/14 [==============================] - 0s 2ms/step - loss: 0.0660 - accuracy: 0.9811\n",
      "Epoch 257/500\n",
      "14/14 [==============================] - 0s 2ms/step - loss: 0.0662 - accuracy: 0.9788\n",
      "Epoch 258/500\n",
      "14/14 [==============================] - 0s 2ms/step - loss: 0.0807 - accuracy: 0.9717\n",
      "Epoch 259/500\n",
      "14/14 [==============================] - 0s 2ms/step - loss: 0.0667 - accuracy: 0.9835\n",
      "Epoch 260/500\n",
      "14/14 [==============================] - 0s 2ms/step - loss: 0.0700 - accuracy: 0.9670\n",
      "Epoch 261/500\n",
      "14/14 [==============================] - 0s 2ms/step - loss: 0.0736 - accuracy: 0.9717\n",
      "Epoch 262/500\n",
      "14/14 [==============================] - 0s 2ms/step - loss: 0.0663 - accuracy: 0.9788\n",
      "Epoch 263/500\n",
      "14/14 [==============================] - 0s 3ms/step - loss: 0.0665 - accuracy: 0.9811\n",
      "Epoch 264/500\n",
      "14/14 [==============================] - 0s 3ms/step - loss: 0.0657 - accuracy: 0.9764\n",
      "Epoch 265/500\n",
      "14/14 [==============================] - ETA: 0s - loss: 0.0382 - accuracy: 1.00 - 0s 2ms/step - loss: 0.0666 - accuracy: 0.9788\n",
      "Epoch 266/500\n",
      "14/14 [==============================] - 0s 3ms/step - loss: 0.0661 - accuracy: 0.9788\n",
      "Epoch 267/500\n",
      "14/14 [==============================] - 0s 3ms/step - loss: 0.0653 - accuracy: 0.9835\n",
      "Epoch 268/500\n",
      "14/14 [==============================] - 0s 2ms/step - loss: 0.0647 - accuracy: 0.9764\n",
      "Epoch 269/500\n",
      "14/14 [==============================] - 0s 2ms/step - loss: 0.0681 - accuracy: 0.9717\n",
      "Epoch 270/500\n",
      "14/14 [==============================] - 0s 3ms/step - loss: 0.0636 - accuracy: 0.9788\n",
      "Epoch 271/500\n",
      "14/14 [==============================] - 0s 2ms/step - loss: 0.0639 - accuracy: 0.9811\n",
      "Epoch 272/500\n",
      "14/14 [==============================] - 0s 2ms/step - loss: 0.0602 - accuracy: 0.9835\n",
      "Epoch 273/500\n",
      "14/14 [==============================] - 0s 2ms/step - loss: 0.0631 - accuracy: 0.9788\n",
      "Epoch 274/500\n",
      "14/14 [==============================] - 0s 2ms/step - loss: 0.0636 - accuracy: 0.9788\n",
      "Epoch 275/500\n",
      "14/14 [==============================] - 0s 2ms/step - loss: 0.0637 - accuracy: 0.9811\n",
      "Epoch 276/500\n",
      "14/14 [==============================] - 0s 2ms/step - loss: 0.0608 - accuracy: 0.9835\n",
      "Epoch 277/500\n",
      "14/14 [==============================] - 0s 2ms/step - loss: 0.0612 - accuracy: 0.9741\n",
      "Epoch 278/500\n",
      "14/14 [==============================] - 0s 3ms/step - loss: 0.0628 - accuracy: 0.9811\n",
      "Epoch 279/500\n",
      "14/14 [==============================] - 0s 2ms/step - loss: 0.0689 - accuracy: 0.9764\n",
      "Epoch 280/500\n",
      "14/14 [==============================] - 0s 2ms/step - loss: 0.0623 - accuracy: 0.9764\n",
      "Epoch 281/500\n",
      "14/14 [==============================] - 0s 2ms/step - loss: 0.0586 - accuracy: 0.9858\n",
      "Epoch 282/500\n",
      "14/14 [==============================] - 0s 3ms/step - loss: 0.0590 - accuracy: 0.9788\n",
      "Epoch 283/500\n",
      "14/14 [==============================] - 0s 3ms/step - loss: 0.0595 - accuracy: 0.9835\n",
      "Epoch 284/500\n",
      "14/14 [==============================] - 0s 3ms/step - loss: 0.0574 - accuracy: 0.9835\n",
      "Epoch 285/500\n",
      "14/14 [==============================] - 0s 3ms/step - loss: 0.0566 - accuracy: 0.9858\n",
      "Epoch 286/500\n",
      "14/14 [==============================] - 0s 2ms/step - loss: 0.0614 - accuracy: 0.9811\n",
      "Epoch 287/500\n",
      "14/14 [==============================] - 0s 2ms/step - loss: 0.0634 - accuracy: 0.9811\n",
      "Epoch 288/500\n",
      "14/14 [==============================] - 0s 3ms/step - loss: 0.0581 - accuracy: 0.9764\n",
      "Epoch 289/500\n",
      "14/14 [==============================] - ETA: 0s - loss: 0.0349 - accuracy: 1.00 - 0s 2ms/step - loss: 0.0579 - accuracy: 0.9835\n",
      "Epoch 290/500\n",
      "14/14 [==============================] - 0s 2ms/step - loss: 0.0805 - accuracy: 0.9835\n",
      "Epoch 291/500\n",
      "14/14 [==============================] - 0s 3ms/step - loss: 0.0662 - accuracy: 0.9788\n",
      "Epoch 292/500\n",
      "14/14 [==============================] - 0s 3ms/step - loss: 0.0683 - accuracy: 0.9717\n",
      "Epoch 293/500\n",
      "14/14 [==============================] - 0s 3ms/step - loss: 0.0587 - accuracy: 0.9811\n",
      "Epoch 294/500\n",
      "14/14 [==============================] - 0s 3ms/step - loss: 0.0559 - accuracy: 0.9811\n",
      "Epoch 295/500\n",
      "14/14 [==============================] - 0s 3ms/step - loss: 0.0603 - accuracy: 0.9811\n",
      "Epoch 296/500\n",
      "14/14 [==============================] - 0s 3ms/step - loss: 0.0550 - accuracy: 0.9858\n",
      "Epoch 297/500\n",
      "14/14 [==============================] - 0s 4ms/step - loss: 0.0698 - accuracy: 0.9717\n",
      "Epoch 298/500\n",
      "14/14 [==============================] - 0s 3ms/step - loss: 0.0689 - accuracy: 0.9717\n",
      "Epoch 299/500\n",
      "14/14 [==============================] - 0s 3ms/step - loss: 0.0541 - accuracy: 0.9835\n",
      "Epoch 300/500\n",
      "14/14 [==============================] - 0s 3ms/step - loss: 0.0533 - accuracy: 0.9858\n",
      "Epoch 301/500\n",
      "14/14 [==============================] - 0s 2ms/step - loss: 0.0565 - accuracy: 0.9858\n",
      "Epoch 302/500\n",
      "14/14 [==============================] - 0s 3ms/step - loss: 0.0524 - accuracy: 0.9858\n",
      "Epoch 303/500\n",
      "14/14 [==============================] - 0s 3ms/step - loss: 0.0527 - accuracy: 0.9858\n",
      "Epoch 304/500\n",
      "14/14 [==============================] - 0s 2ms/step - loss: 0.0597 - accuracy: 0.9882\n",
      "Epoch 305/500\n",
      "14/14 [==============================] - ETA: 0s - loss: 0.1876 - accuracy: 0.93 - 0s 2ms/step - loss: 0.0606 - accuracy: 0.9835\n",
      "Epoch 306/500\n",
      "14/14 [==============================] - 0s 2ms/step - loss: 0.0515 - accuracy: 0.9811\n",
      "Epoch 307/500\n",
      "14/14 [==============================] - 0s 2ms/step - loss: 0.0503 - accuracy: 0.9882\n",
      "Epoch 308/500\n",
      "14/14 [==============================] - 0s 2ms/step - loss: 0.0514 - accuracy: 0.9858\n",
      "Epoch 309/500\n",
      "14/14 [==============================] - 0s 2ms/step - loss: 0.0509 - accuracy: 0.9858\n",
      "Epoch 310/500\n",
      "14/14 [==============================] - 0s 2ms/step - loss: 0.0532 - accuracy: 0.9835\n",
      "Epoch 311/500\n",
      "14/14 [==============================] - 0s 2ms/step - loss: 0.0522 - accuracy: 0.9858\n",
      "Epoch 312/500\n",
      "14/14 [==============================] - 0s 2ms/step - loss: 0.0523 - accuracy: 0.9882\n",
      "Epoch 313/500\n",
      "14/14 [==============================] - 0s 2ms/step - loss: 0.0522 - accuracy: 0.9858\n",
      "Epoch 314/500\n",
      "14/14 [==============================] - 0s 2ms/step - loss: 0.0528 - accuracy: 0.9741\n",
      "Epoch 315/500\n",
      "14/14 [==============================] - 0s 2ms/step - loss: 0.0559 - accuracy: 0.9858\n",
      "Epoch 316/500\n",
      "14/14 [==============================] - 0s 2ms/step - loss: 0.0481 - accuracy: 0.9882\n",
      "Epoch 317/500\n",
      "14/14 [==============================] - 0s 2ms/step - loss: 0.0502 - accuracy: 0.9811\n",
      "Epoch 318/500\n",
      "14/14 [==============================] - 0s 2ms/step - loss: 0.0604 - accuracy: 0.9835\n",
      "Epoch 319/500\n",
      "14/14 [==============================] - 0s 2ms/step - loss: 0.0529 - accuracy: 0.9811\n",
      "Epoch 320/500\n",
      "14/14 [==============================] - 0s 2ms/step - loss: 0.0497 - accuracy: 0.9882\n",
      "Epoch 321/500\n",
      "14/14 [==============================] - 0s 2ms/step - loss: 0.0541 - accuracy: 0.9835\n",
      "Epoch 322/500\n"
     ]
    },
    {
     "name": "stdout",
     "output_type": "stream",
     "text": [
      "14/14 [==============================] - 0s 3ms/step - loss: 0.0647 - accuracy: 0.9811\n",
      "Epoch 323/500\n",
      "14/14 [==============================] - 0s 2ms/step - loss: 0.0612 - accuracy: 0.9882\n",
      "Epoch 324/500\n",
      "14/14 [==============================] - 0s 2ms/step - loss: 0.0516 - accuracy: 0.9835\n",
      "Epoch 325/500\n",
      "14/14 [==============================] - 0s 2ms/step - loss: 0.0516 - accuracy: 0.9835\n",
      "Epoch 326/500\n",
      "14/14 [==============================] - 0s 2ms/step - loss: 0.0488 - accuracy: 0.9858\n",
      "Epoch 327/500\n",
      "14/14 [==============================] - 0s 3ms/step - loss: 0.0459 - accuracy: 0.9835\n",
      "Epoch 328/500\n",
      "14/14 [==============================] - 0s 2ms/step - loss: 0.0461 - accuracy: 0.9929\n",
      "Epoch 329/500\n",
      "14/14 [==============================] - 0s 3ms/step - loss: 0.0500 - accuracy: 0.9882\n",
      "Epoch 330/500\n",
      "14/14 [==============================] - 0s 2ms/step - loss: 0.0502 - accuracy: 0.9835\n",
      "Epoch 331/500\n",
      "14/14 [==============================] - 0s 3ms/step - loss: 0.0484 - accuracy: 0.9882\n",
      "Epoch 332/500\n",
      "14/14 [==============================] - 0s 3ms/step - loss: 0.0478 - accuracy: 0.9835\n",
      "Epoch 333/500\n",
      "14/14 [==============================] - 0s 2ms/step - loss: 0.0478 - accuracy: 0.9906\n",
      "Epoch 334/500\n",
      "14/14 [==============================] - 0s 2ms/step - loss: 0.0512 - accuracy: 0.9858\n",
      "Epoch 335/500\n",
      "14/14 [==============================] - 0s 2ms/step - loss: 0.0536 - accuracy: 0.9835\n",
      "Epoch 336/500\n",
      "14/14 [==============================] - 0s 3ms/step - loss: 0.0455 - accuracy: 0.9906\n",
      "Epoch 337/500\n",
      "14/14 [==============================] - 0s 3ms/step - loss: 0.0474 - accuracy: 0.9858\n",
      "Epoch 338/500\n",
      "14/14 [==============================] - 0s 2ms/step - loss: 0.0469 - accuracy: 0.9811\n",
      "Epoch 339/500\n",
      "14/14 [==============================] - 0s 3ms/step - loss: 0.0503 - accuracy: 0.9906\n",
      "Epoch 340/500\n",
      "14/14 [==============================] - 0s 2ms/step - loss: 0.0439 - accuracy: 0.9858\n",
      "Epoch 341/500\n",
      "14/14 [==============================] - 0s 3ms/step - loss: 0.0463 - accuracy: 0.9929\n",
      "Epoch 342/500\n",
      "14/14 [==============================] - 0s 2ms/step - loss: 0.0452 - accuracy: 0.9882\n",
      "Epoch 343/500\n",
      "14/14 [==============================] - 0s 2ms/step - loss: 0.0452 - accuracy: 0.9906\n",
      "Epoch 344/500\n",
      "14/14 [==============================] - 0s 2ms/step - loss: 0.0480 - accuracy: 0.9882\n",
      "Epoch 345/500\n",
      "14/14 [==============================] - 0s 2ms/step - loss: 0.0428 - accuracy: 0.9882\n",
      "Epoch 346/500\n",
      "14/14 [==============================] - 0s 3ms/step - loss: 0.0457 - accuracy: 0.9882\n",
      "Epoch 347/500\n",
      "14/14 [==============================] - 0s 2ms/step - loss: 0.0488 - accuracy: 0.9835\n",
      "Epoch 348/500\n",
      "14/14 [==============================] - 0s 2ms/step - loss: 0.0417 - accuracy: 0.9882\n",
      "Epoch 349/500\n",
      "14/14 [==============================] - 0s 3ms/step - loss: 0.0426 - accuracy: 0.9906\n",
      "Epoch 350/500\n",
      "14/14 [==============================] - 0s 3ms/step - loss: 0.0454 - accuracy: 0.9882\n",
      "Epoch 351/500\n",
      "14/14 [==============================] - 0s 2ms/step - loss: 0.0408 - accuracy: 0.9976\n",
      "Epoch 352/500\n",
      "14/14 [==============================] - 0s 2ms/step - loss: 0.0560 - accuracy: 0.9788\n",
      "Epoch 353/500\n",
      "14/14 [==============================] - 0s 2ms/step - loss: 0.0435 - accuracy: 0.9882\n",
      "Epoch 354/500\n",
      "14/14 [==============================] - 0s 2ms/step - loss: 0.0395 - accuracy: 0.9929\n",
      "Epoch 355/500\n",
      "14/14 [==============================] - 0s 3ms/step - loss: 0.0409 - accuracy: 0.9929\n",
      "Epoch 356/500\n",
      "14/14 [==============================] - 0s 2ms/step - loss: 0.0398 - accuracy: 0.9906\n",
      "Epoch 357/500\n",
      "14/14 [==============================] - 0s 3ms/step - loss: 0.0392 - accuracy: 0.9953\n",
      "Epoch 358/500\n",
      "14/14 [==============================] - 0s 2ms/step - loss: 0.0405 - accuracy: 0.9906\n",
      "Epoch 359/500\n",
      "14/14 [==============================] - 0s 2ms/step - loss: 0.0411 - accuracy: 0.9906\n",
      "Epoch 360/500\n",
      "14/14 [==============================] - 0s 2ms/step - loss: 0.0560 - accuracy: 0.9858\n",
      "Epoch 361/500\n",
      "14/14 [==============================] - 0s 2ms/step - loss: 0.0423 - accuracy: 0.9953\n",
      "Epoch 362/500\n",
      "14/14 [==============================] - 0s 2ms/step - loss: 0.0434 - accuracy: 0.9858\n",
      "Epoch 363/500\n",
      "14/14 [==============================] - 0s 2ms/step - loss: 0.0449 - accuracy: 0.9882\n",
      "Epoch 364/500\n",
      "14/14 [==============================] - 0s 2ms/step - loss: 0.0421 - accuracy: 0.9882\n",
      "Epoch 365/500\n",
      "14/14 [==============================] - 0s 2ms/step - loss: 0.0402 - accuracy: 0.9882\n",
      "Epoch 366/500\n",
      "14/14 [==============================] - 0s 2ms/step - loss: 0.0395 - accuracy: 0.9906\n",
      "Epoch 367/500\n",
      "14/14 [==============================] - 0s 2ms/step - loss: 0.0394 - accuracy: 0.9929\n",
      "Epoch 368/500\n",
      "14/14 [==============================] - 0s 4ms/step - loss: 0.0473 - accuracy: 0.9906\n",
      "Epoch 369/500\n",
      "14/14 [==============================] - 0s 2ms/step - loss: 0.0413 - accuracy: 0.9882\n",
      "Epoch 370/500\n",
      "14/14 [==============================] - 0s 4ms/step - loss: 0.0402 - accuracy: 0.9953\n",
      "Epoch 371/500\n",
      "14/14 [==============================] - 0s 2ms/step - loss: 0.0382 - accuracy: 0.9882\n",
      "Epoch 372/500\n",
      "14/14 [==============================] - 0s 2ms/step - loss: 0.0391 - accuracy: 0.9906\n",
      "Epoch 373/500\n",
      "14/14 [==============================] - 0s 3ms/step - loss: 0.0381 - accuracy: 0.9953\n",
      "Epoch 374/500\n",
      "14/14 [==============================] - 0s 3ms/step - loss: 0.0365 - accuracy: 0.9906\n",
      "Epoch 375/500\n",
      "14/14 [==============================] - 0s 3ms/step - loss: 0.0386 - accuracy: 0.9976\n",
      "Epoch 376/500\n",
      "14/14 [==============================] - 0s 2ms/step - loss: 0.0405 - accuracy: 0.9882\n",
      "Epoch 377/500\n",
      "14/14 [==============================] - 0s 2ms/step - loss: 0.0358 - accuracy: 0.9906\n",
      "Epoch 378/500\n",
      "14/14 [==============================] - 0s 2ms/step - loss: 0.0357 - accuracy: 0.9929\n",
      "Epoch 379/500\n",
      "14/14 [==============================] - 0s 2ms/step - loss: 0.0332 - accuracy: 0.9953\n",
      "Epoch 380/500\n",
      "14/14 [==============================] - 0s 2ms/step - loss: 0.0369 - accuracy: 0.9906\n",
      "Epoch 381/500\n",
      "14/14 [==============================] - 0s 2ms/step - loss: 0.0365 - accuracy: 0.9906\n",
      "Epoch 382/500\n",
      "14/14 [==============================] - 0s 2ms/step - loss: 0.0338 - accuracy: 0.9929\n",
      "Epoch 383/500\n",
      "14/14 [==============================] - 0s 3ms/step - loss: 0.0346 - accuracy: 0.9906\n",
      "Epoch 384/500\n",
      "14/14 [==============================] - 0s 2ms/step - loss: 0.0340 - accuracy: 0.9953\n",
      "Epoch 385/500\n",
      "14/14 [==============================] - 0s 3ms/step - loss: 0.0371 - accuracy: 0.9953\n",
      "Epoch 386/500\n",
      "14/14 [==============================] - 0s 3ms/step - loss: 0.0452 - accuracy: 0.9882\n",
      "Epoch 387/500\n",
      "14/14 [==============================] - 0s 2ms/step - loss: 0.0333 - accuracy: 0.9953\n",
      "Epoch 388/500\n",
      "14/14 [==============================] - 0s 2ms/step - loss: 0.0344 - accuracy: 0.9929\n",
      "Epoch 389/500\n",
      "14/14 [==============================] - 0s 2ms/step - loss: 0.0342 - accuracy: 0.9929\n",
      "Epoch 390/500\n",
      "14/14 [==============================] - 0s 2ms/step - loss: 0.0436 - accuracy: 0.9882\n",
      "Epoch 391/500\n",
      "14/14 [==============================] - 0s 2ms/step - loss: 0.0357 - accuracy: 0.9929\n",
      "Epoch 392/500\n",
      "14/14 [==============================] - 0s 2ms/step - loss: 0.0343 - accuracy: 0.9906\n",
      "Epoch 393/500\n",
      "14/14 [==============================] - 0s 2ms/step - loss: 0.0352 - accuracy: 0.9906\n",
      "Epoch 394/500\n",
      "14/14 [==============================] - 0s 3ms/step - loss: 0.0322 - accuracy: 0.9953\n",
      "Epoch 395/500\n",
      "14/14 [==============================] - 0s 2ms/step - loss: 0.0341 - accuracy: 0.9929\n",
      "Epoch 396/500\n",
      "14/14 [==============================] - 0s 2ms/step - loss: 0.0316 - accuracy: 0.9976\n",
      "Epoch 397/500\n",
      "14/14 [==============================] - 0s 3ms/step - loss: 0.0339 - accuracy: 0.9953\n",
      "Epoch 398/500\n",
      "14/14 [==============================] - 0s 2ms/step - loss: 0.0309 - accuracy: 0.9953\n",
      "Epoch 399/500\n",
      "14/14 [==============================] - 0s 2ms/step - loss: 0.0417 - accuracy: 0.9906\n",
      "Epoch 400/500\n",
      "14/14 [==============================] - 0s 2ms/step - loss: 0.0390 - accuracy: 0.9882\n",
      "Epoch 401/500\n",
      "14/14 [==============================] - 0s 2ms/step - loss: 0.0375 - accuracy: 0.9882\n",
      "Epoch 402/500\n",
      "14/14 [==============================] - 0s 2ms/step - loss: 0.0395 - accuracy: 0.9906\n",
      "Epoch 403/500\n",
      "14/14 [==============================] - 0s 3ms/step - loss: 0.0356 - accuracy: 0.9953\n",
      "Epoch 404/500\n",
      "14/14 [==============================] - 0s 3ms/step - loss: 0.0314 - accuracy: 0.9953\n",
      "Epoch 405/500\n",
      "14/14 [==============================] - 0s 3ms/step - loss: 0.0300 - accuracy: 0.9953\n",
      "Epoch 406/500\n",
      "14/14 [==============================] - 0s 3ms/step - loss: 0.0357 - accuracy: 0.9953\n",
      "Epoch 407/500\n",
      "14/14 [==============================] - 0s 3ms/step - loss: 0.0408 - accuracy: 0.9835\n",
      "Epoch 408/500\n",
      "14/14 [==============================] - 0s 2ms/step - loss: 0.0338 - accuracy: 0.9929\n",
      "Epoch 409/500\n",
      "14/14 [==============================] - 0s 2ms/step - loss: 0.0302 - accuracy: 0.9953\n",
      "Epoch 410/500\n",
      "14/14 [==============================] - 0s 2ms/step - loss: 0.0327 - accuracy: 0.9953\n",
      "Epoch 411/500\n",
      "14/14 [==============================] - 0s 2ms/step - loss: 0.0281 - accuracy: 0.9953\n",
      "Epoch 412/500\n",
      "14/14 [==============================] - 0s 2ms/step - loss: 0.0303 - accuracy: 0.9953\n",
      "Epoch 413/500\n",
      "14/14 [==============================] - 0s 2ms/step - loss: 0.0302 - accuracy: 0.9976\n",
      "Epoch 414/500\n",
      "14/14 [==============================] - 0s 3ms/step - loss: 0.0281 - accuracy: 0.9953\n",
      "Epoch 415/500\n",
      "14/14 [==============================] - 0s 2ms/step - loss: 0.0296 - accuracy: 0.9953\n",
      "Epoch 416/500\n",
      "14/14 [==============================] - 0s 2ms/step - loss: 0.0329 - accuracy: 0.9929\n",
      "Epoch 417/500\n",
      "14/14 [==============================] - 0s 2ms/step - loss: 0.0320 - accuracy: 0.9929\n",
      "Epoch 418/500\n",
      "14/14 [==============================] - 0s 2ms/step - loss: 0.0455 - accuracy: 0.9882\n",
      "Epoch 419/500\n",
      "14/14 [==============================] - ETA: 0s - loss: 0.0442 - accuracy: 1.00 - 0s 2ms/step - loss: 0.0387 - accuracy: 0.9929\n",
      "Epoch 420/500\n",
      "14/14 [==============================] - 0s 2ms/step - loss: 0.0303 - accuracy: 0.9953\n",
      "Epoch 421/500\n",
      "14/14 [==============================] - 0s 2ms/step - loss: 0.0309 - accuracy: 0.9953\n",
      "Epoch 422/500\n",
      "14/14 [==============================] - 0s 2ms/step - loss: 0.0284 - accuracy: 0.9976\n",
      "Epoch 423/500\n",
      "14/14 [==============================] - 0s 2ms/step - loss: 0.0276 - accuracy: 0.9953\n",
      "Epoch 424/500\n",
      "14/14 [==============================] - 0s 2ms/step - loss: 0.0308 - accuracy: 0.9953\n",
      "Epoch 425/500\n",
      "14/14 [==============================] - 0s 2ms/step - loss: 0.0281 - accuracy: 0.9953\n",
      "Epoch 426/500\n",
      "14/14 [==============================] - 0s 2ms/step - loss: 0.0262 - accuracy: 0.9976\n",
      "Epoch 427/500\n",
      "14/14 [==============================] - 0s 2ms/step - loss: 0.0283 - accuracy: 0.9953\n",
      "Epoch 428/500\n",
      "14/14 [==============================] - 0s 2ms/step - loss: 0.0260 - accuracy: 0.9976\n",
      "Epoch 429/500\n",
      "14/14 [==============================] - 0s 2ms/step - loss: 0.0281 - accuracy: 0.9953\n",
      "Epoch 430/500\n",
      "14/14 [==============================] - 0s 3ms/step - loss: 0.0269 - accuracy: 0.9976\n",
      "Epoch 431/500\n",
      "14/14 [==============================] - 0s 2ms/step - loss: 0.0266 - accuracy: 0.9953\n",
      "Epoch 432/500\n",
      "14/14 [==============================] - 0s 2ms/step - loss: 0.0254 - accuracy: 0.9953\n",
      "Epoch 433/500\n",
      "14/14 [==============================] - 0s 3ms/step - loss: 0.0281 - accuracy: 0.9953\n",
      "Epoch 434/500\n",
      "14/14 [==============================] - 0s 2ms/step - loss: 0.0270 - accuracy: 0.9929\n",
      "Epoch 435/500\n",
      "14/14 [==============================] - 0s 2ms/step - loss: 0.0261 - accuracy: 0.9953\n",
      "Epoch 436/500\n",
      "14/14 [==============================] - 0s 2ms/step - loss: 0.0314 - accuracy: 0.9953\n",
      "Epoch 437/500\n",
      "14/14 [==============================] - 0s 3ms/step - loss: 0.0368 - accuracy: 0.9953\n",
      "Epoch 438/500\n",
      "14/14 [==============================] - 0s 3ms/step - loss: 0.0292 - accuracy: 0.9953\n",
      "Epoch 439/500\n",
      "14/14 [==============================] - 0s 2ms/step - loss: 0.0271 - accuracy: 0.9953\n",
      "Epoch 440/500\n",
      "14/14 [==============================] - 0s 3ms/step - loss: 0.0260 - accuracy: 0.9953\n",
      "Epoch 441/500\n",
      "14/14 [==============================] - 0s 2ms/step - loss: 0.0251 - accuracy: 0.9953\n",
      "Epoch 442/500\n",
      "14/14 [==============================] - 0s 3ms/step - loss: 0.0261 - accuracy: 0.9953\n",
      "Epoch 443/500\n",
      "14/14 [==============================] - 0s 2ms/step - loss: 0.0258 - accuracy: 0.9953\n",
      "Epoch 444/500\n",
      "14/14 [==============================] - 0s 2ms/step - loss: 0.0256 - accuracy: 0.9953\n",
      "Epoch 445/500\n",
      "14/14 [==============================] - 0s 3ms/step - loss: 0.0251 - accuracy: 0.9976\n",
      "Epoch 446/500\n",
      "14/14 [==============================] - 0s 2ms/step - loss: 0.0243 - accuracy: 0.9953\n",
      "Epoch 447/500\n",
      "14/14 [==============================] - 0s 3ms/step - loss: 0.0266 - accuracy: 0.9929\n",
      "Epoch 448/500\n",
      "14/14 [==============================] - 0s 3ms/step - loss: 0.0237 - accuracy: 0.9976\n",
      "Epoch 449/500\n",
      "14/14 [==============================] - 0s 3ms/step - loss: 0.0246 - accuracy: 0.9953\n",
      "Epoch 450/500\n",
      "14/14 [==============================] - 0s 2ms/step - loss: 0.0244 - accuracy: 0.9953\n",
      "Epoch 451/500\n",
      "14/14 [==============================] - 0s 3ms/step - loss: 0.0256 - accuracy: 0.9929\n",
      "Epoch 452/500\n",
      "14/14 [==============================] - 0s 3ms/step - loss: 0.0247 - accuracy: 0.9953\n",
      "Epoch 453/500\n",
      "14/14 [==============================] - 0s 3ms/step - loss: 0.0230 - accuracy: 0.9976\n",
      "Epoch 454/500\n",
      "14/14 [==============================] - 0s 3ms/step - loss: 0.0241 - accuracy: 0.9953\n",
      "Epoch 455/500\n",
      "14/14 [==============================] - 0s 2ms/step - loss: 0.0234 - accuracy: 0.9953\n",
      "Epoch 456/500\n",
      "14/14 [==============================] - 0s 2ms/step - loss: 0.0237 - accuracy: 0.9976\n",
      "Epoch 457/500\n",
      "14/14 [==============================] - 0s 3ms/step - loss: 0.0233 - accuracy: 0.9953\n",
      "Epoch 458/500\n",
      "14/14 [==============================] - 0s 3ms/step - loss: 0.0254 - accuracy: 0.9953\n",
      "Epoch 459/500\n",
      "14/14 [==============================] - 0s 3ms/step - loss: 0.0255 - accuracy: 0.9929\n",
      "Epoch 460/500\n",
      "14/14 [==============================] - 0s 2ms/step - loss: 0.0231 - accuracy: 0.9953\n",
      "Epoch 461/500\n",
      "14/14 [==============================] - 0s 3ms/step - loss: 0.0233 - accuracy: 0.9953\n",
      "Epoch 462/500\n",
      "14/14 [==============================] - 0s 2ms/step - loss: 0.0256 - accuracy: 0.9953\n",
      "Epoch 463/500\n",
      "14/14 [==============================] - 0s 3ms/step - loss: 0.0218 - accuracy: 0.9953\n",
      "Epoch 464/500\n",
      "14/14 [==============================] - 0s 2ms/step - loss: 0.0231 - accuracy: 0.9953\n",
      "Epoch 465/500\n",
      "14/14 [==============================] - 0s 2ms/step - loss: 0.0217 - accuracy: 0.9953\n",
      "Epoch 466/500\n",
      "14/14 [==============================] - 0s 2ms/step - loss: 0.0219 - accuracy: 0.9976\n",
      "Epoch 467/500\n",
      "14/14 [==============================] - 0s 2ms/step - loss: 0.0225 - accuracy: 0.9953\n",
      "Epoch 468/500\n",
      "14/14 [==============================] - 0s 2ms/step - loss: 0.0219 - accuracy: 0.9953\n",
      "Epoch 469/500\n",
      "14/14 [==============================] - 0s 2ms/step - loss: 0.0203 - accuracy: 0.9976\n",
      "Epoch 470/500\n",
      "14/14 [==============================] - 0s 2ms/step - loss: 0.0208 - accuracy: 0.9976\n",
      "Epoch 471/500\n",
      "14/14 [==============================] - 0s 2ms/step - loss: 0.0207 - accuracy: 0.9953\n",
      "Epoch 472/500\n",
      "14/14 [==============================] - 0s 2ms/step - loss: 0.0286 - accuracy: 0.9976\n",
      "Epoch 473/500\n",
      "14/14 [==============================] - 0s 3ms/step - loss: 0.0248 - accuracy: 0.9953\n",
      "Epoch 474/500\n",
      "14/14 [==============================] - 0s 2ms/step - loss: 0.0225 - accuracy: 0.9976\n",
      "Epoch 475/500\n",
      "14/14 [==============================] - 0s 2ms/step - loss: 0.0211 - accuracy: 0.9953\n",
      "Epoch 476/500\n",
      "14/14 [==============================] - 0s 2ms/step - loss: 0.0213 - accuracy: 0.9976\n",
      "Epoch 477/500\n",
      "14/14 [==============================] - 0s 2ms/step - loss: 0.0272 - accuracy: 0.9953\n",
      "Epoch 478/500\n",
      "14/14 [==============================] - 0s 2ms/step - loss: 0.0203 - accuracy: 1.0000\n",
      "Epoch 479/500\n",
      "14/14 [==============================] - 0s 2ms/step - loss: 0.0228 - accuracy: 0.9929\n",
      "Epoch 480/500\n",
      "14/14 [==============================] - 0s 2ms/step - loss: 0.0227 - accuracy: 0.9976\n",
      "Epoch 481/500\n",
      "14/14 [==============================] - 0s 3ms/step - loss: 0.0199 - accuracy: 0.9953\n",
      "Epoch 482/500\n",
      "14/14 [==============================] - 0s 3ms/step - loss: 0.0187 - accuracy: 0.9976\n",
      "Epoch 483/500\n"
     ]
    },
    {
     "name": "stdout",
     "output_type": "stream",
     "text": [
      "14/14 [==============================] - 0s 3ms/step - loss: 0.0188 - accuracy: 0.9953\n",
      "Epoch 484/500\n",
      "14/14 [==============================] - 0s 2ms/step - loss: 0.0219 - accuracy: 0.9953\n",
      "Epoch 485/500\n",
      "14/14 [==============================] - 0s 3ms/step - loss: 0.0185 - accuracy: 0.9976\n",
      "Epoch 486/500\n",
      "14/14 [==============================] - 0s 3ms/step - loss: 0.0190 - accuracy: 0.9953\n",
      "Epoch 487/500\n",
      "14/14 [==============================] - 0s 3ms/step - loss: 0.0182 - accuracy: 0.9953\n",
      "Epoch 488/500\n",
      "14/14 [==============================] - 0s 3ms/step - loss: 0.0191 - accuracy: 0.9976\n",
      "Epoch 489/500\n",
      "14/14 [==============================] - 0s 3ms/step - loss: 0.0186 - accuracy: 0.9976\n",
      "Epoch 490/500\n",
      "14/14 [==============================] - 0s 2ms/step - loss: 0.0207 - accuracy: 0.9953\n",
      "Epoch 491/500\n",
      "14/14 [==============================] - 0s 2ms/step - loss: 0.0179 - accuracy: 0.9976\n",
      "Epoch 492/500\n",
      "14/14 [==============================] - 0s 2ms/step - loss: 0.0194 - accuracy: 0.9976\n",
      "Epoch 493/500\n",
      "14/14 [==============================] - 0s 3ms/step - loss: 0.0202 - accuracy: 0.9953\n",
      "Epoch 494/500\n",
      "14/14 [==============================] - 0s 3ms/step - loss: 0.0188 - accuracy: 0.9953\n",
      "Epoch 495/500\n",
      "14/14 [==============================] - 0s 3ms/step - loss: 0.0188 - accuracy: 0.9953\n",
      "Epoch 496/500\n",
      "14/14 [==============================] - 0s 2ms/step - loss: 0.0290 - accuracy: 0.9953\n",
      "Epoch 497/500\n",
      "14/14 [==============================] - 0s 3ms/step - loss: 0.0228 - accuracy: 0.9953\n",
      "Epoch 498/500\n",
      "14/14 [==============================] - 0s 3ms/step - loss: 0.0205 - accuracy: 0.9976\n",
      "Epoch 499/500\n",
      "14/14 [==============================] - 0s 2ms/step - loss: 0.0183 - accuracy: 0.9953\n",
      "Epoch 500/500\n",
      "14/14 [==============================] - 0s 3ms/step - loss: 0.0176 - accuracy: 0.9976\n"
     ]
    },
    {
     "data": {
      "text/plain": [
       "<tensorflow.python.keras.callbacks.History at 0x1d5675670d0>"
      ]
     },
     "execution_count": 108,
     "metadata": {},
     "output_type": "execute_result"
    }
   ],
   "source": [
    "modelNN = keras.Sequential([\n",
    "    keras.layers.Dense(100,input_shape=(X.shape[1],),activation='relu'),\n",
    "    keras.layers.Dense(10,activation='relu'),\n",
    "    keras.layers.Dense(1,activation='sigmoid')\n",
    "    \n",
    "])\n",
    "modelNN.compile(\n",
    "    optimizer = 'adam',\n",
    "    loss = 'binary_crossentropy',\n",
    "    metrics = ['accuracy']\n",
    ")\n",
    "modelNN.fit(X_sm,y_sm,epochs=500)"
   ]
  },
  {
   "cell_type": "code",
   "execution_count": 110,
   "id": "253a4b83",
   "metadata": {},
   "outputs": [
    {
     "name": "stdout",
     "output_type": "stream",
     "text": [
      "4/4 [==============================] - 0s 2ms/step - loss: 0.5184 - accuracy: 0.9364\n"
     ]
    },
    {
     "data": {
      "text/plain": [
       "[0.5184148550033569, 0.9363636374473572]"
      ]
     },
     "execution_count": 110,
     "metadata": {},
     "output_type": "execute_result"
    }
   ],
   "source": [
    "modelNN.evaluate(X_test,y_test)"
   ]
  },
  {
   "cell_type": "code",
   "execution_count": 111,
   "id": "404df86e",
   "metadata": {},
   "outputs": [],
   "source": [
    "y_p = modelNN.predict(X_test)"
   ]
  },
  {
   "cell_type": "code",
   "execution_count": 112,
   "id": "57648ffb",
   "metadata": {},
   "outputs": [],
   "source": [
    "y_predicted = []\n",
    "for yi in y_p:\n",
    "    if yi>0.5:\n",
    "        y_predicted.append(1)\n",
    "    else:\n",
    "        y_predicted.append(0)\n"
   ]
  },
  {
   "cell_type": "code",
   "execution_count": 113,
   "id": "20ebcf18",
   "metadata": {},
   "outputs": [
    {
     "name": "stdout",
     "output_type": "stream",
     "text": [
      "              precision    recall  f1-score   support\n",
      "\n",
      "           0       0.95      0.98      0.96        91\n",
      "           1       0.88      0.74      0.80        19\n",
      "\n",
      "    accuracy                           0.94       110\n",
      "   macro avg       0.91      0.86      0.88       110\n",
      "weighted avg       0.93      0.94      0.93       110\n",
      "\n"
     ]
    },
    {
     "data": {
      "text/plain": [
       "Text(24.0, 0.5, 'Predicted')"
      ]
     },
     "execution_count": 113,
     "metadata": {},
     "output_type": "execute_result"
    },
    {
     "data": {
      "image/png": "[encoded data removed]",
      "text/plain": [
       "<Figure size 360x288 with 2 Axes>"
      ]
     },
     "metadata": {
      "needs_background": "light"
     },
     "output_type": "display_data"
    }
   ],
   "source": [
    "cm = tf.math.confusion_matrix(labels=y_test,predictions=y_predicted)\n",
    "print(classification_report(y_test,y_predicted))\n",
    "plt.figure(figsize = (5,4))\n",
    "sn.heatmap(cm, annot=True, fmt='d')\n",
    "plt.xlabel('Truth')\n",
    "plt.ylabel('Predicted')"
   ]
  },
  {
   "cell_type": "code",
   "execution_count": null,
   "id": "a8ef922b",
   "metadata": {},
   "outputs": [],
   "source": []
  }
 ],
 "metadata": {
  "kernelspec": {
   "display_name": "Python 3 (ipykernel)",
   "language": "python",
   "name": "python3"
  },
  "language_info": {
   "codemirror_mode": {
    "name": "ipython",
    "version": 3
   },
   "file_extension": ".py",
   "mimetype": "text/x-python",
   "name": "python",
   "nbconvert_exporter": "python",
   "pygments_lexer": "ipython3",
   "version": "3.9.7"
  }
 },
 "nbformat": 4,
 "nbformat_minor": 5
}
